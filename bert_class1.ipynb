{
  "nbformat": 4,
  "nbformat_minor": 0,
  "metadata": {
    "colab": {
      "provenance": [],
      "gpuType": "T4"
    },
    "kernelspec": {
      "name": "python3",
      "display_name": "Python 3"
    },
    "language_info": {
      "name": "python"
    },
    "accelerator": "GPU"
  },
  "cells": [
    {
      "cell_type": "code",
      "execution_count": null,
      "metadata": {
        "id": "8EOSYFI3gH90"
      },
      "outputs": [],
      "source": [
        "import numpy as np\n",
        "import pandas as pd\n",
        "import random"
      ]
    },
    {
      "cell_type": "markdown",
      "source": [
        "**Generating samples for the Full Service Workflow**"
      ],
      "metadata": {
        "id": "dX9pjsihFeBD"
      }
    },
    {
      "cell_type": "code",
      "source": [
        "def generate_example1():\n",
        "    trdid = random.randint(20281004800, 40281004800)\n",
        "    mtchid = random.randint(20281001777, 40281001777)\n",
        "    lastqty = random.randint(10,100)\n",
        "    lastpx = random.choice([100, 370, 876, 250.45, 300.9, 540.698, 1050, 2590.59])\n",
        "    trdt = random.choice([\"2022-12-17\",\"2022-12-21\",\"2023-01-02\",\"2023-01-05\"])\n",
        "    bizdt = random.choice([\"2023-01-06\",\"2023-01-11\",\"2023-01-20\",\"2023-02-05\",\"2023-02-10\"])\n",
        "    t = random.choice([\"2023-02-15\",\"2023-02-21\",\"2023-03-20\",\"2023-03-30\"])\n",
        "    time1 = random.choice(['T05:17:30','T10:18:15','T12:25:13','T16:40:55'])\n",
        "    r1 = random.choice(['.100','.230','.326'])\n",
        "    tz1 = random.choice(['-5:00','-6:00','-7:00'])\n",
        "    txntm= t+time1+r1+tz1\n",
        "    time2 = random.choice(['T17:30:55.600','T19:33:05.333','T22:03:12.436'])\n",
        "    snt2 = t+time2+'+01:00'\n",
        "    id5 = random.choice(['B','W','AS','LM','BUI','IP0'])\n",
        "    my = random.choice([\"2023-05\",\"2023-07\",\"2023-10\"])\n",
        "    mmy = my.replace('-','')\n",
        "    clordid = random.choice(['123','134','145','146ZBT','245BTN','987NL','OrdAT'])\n",
        "    tid = random.choice(['ABCD','D210','B509','HBPL','TL98'])\n",
        "    id3 = random.choice([\"FIRMACT1\",\"AKLPM9\",\"MPLAMP6\",\"00120007\",\"Hassen\",\"Ahlem\",'arij'])\n",
        "    custcpcty2 = random.randint(1,4)\n",
        "    ex = random.choice(['BTNL','SNTL','HDPL','XMGE'])\n",
        "    side = random.randint(1,2)\n",
        "    id26 = random.randint(1,2)\n",
        "    cfi2 = random.choice(['FCCPXX','APYBKL','MKLPON','FCAPSX'])\n",
        "    return f\"\"\"<TrdCaptRpt RptID=\"{trdid}\" TrdDt=\"{trdt}\" BizDt=\"{bizdt}\" TxnTm=\"{txntm}\" TrdID=\"{trdid}\" TransTyp=\"2\" RptTyp=\"0\" LastQty=\"{float(lastqty)}\"\n",
        " LastPx=\"{float(lastpx)}\"><Hdr Snt=\"{snt2}\" TID=\"MGEX\" SID=\"{tid}\"/><Instrmt Exch=\"{ex}\" ID=\"{id5}\" MMY=\"{mmy}\" CFI=\"{cfi2}\"/><RptSide Side=\"{side}\" CustCpcty=\"{custcpcty2}\">\n",
        "<Pty ID=\"210\" R=\"1\"/><Pty ID=\"{id3}\" R=\"24\"><Sub ID=\"{id26}\" Typ=\"26\"/></Pty></RptSide></TrdCaptRpt>\"\"\".replace('\\n', '')"
      ],
      "metadata": {
        "id": "OLrER7OCg8Yu"
      },
      "execution_count": null,
      "outputs": []
    },
    {
      "cell_type": "code",
      "source": [
        "column1_data1 = [generate_example1() for i in range(200)]\n",
        "column2_data1 = ['Full Service' for i in range(200)]"
      ],
      "metadata": {
        "id": "EABkXArRg_od"
      },
      "execution_count": null,
      "outputs": []
    },
    {
      "cell_type": "markdown",
      "source": [
        "**Creating a DataFrame for the Full Service Workflow**"
      ],
      "metadata": {
        "id": "r70otI4hFoRI"
      }
    },
    {
      "cell_type": "code",
      "source": [
        "df1 = pd.DataFrame({\n",
        "    'SGW_Operation': column1_data1,\n",
        "    'Workflow': column2_data1,\n",
        "})\n",
        "df1.head()"
      ],
      "metadata": {
        "colab": {
          "base_uri": "https://localhost:8080/",
          "height": 206
        },
        "id": "R6Kggf6ehDB8",
        "outputId": "3afaa691-c9f8-4bd8-b0d5-6b2242e4e371"
      },
      "execution_count": null,
      "outputs": [
        {
          "output_type": "execute_result",
          "data": {
            "text/plain": [
              "                                       SGW_Operation      Workflow\n",
              "0  <TrdCaptRpt RptID=\"23111916222\" TrdDt=\"2023-01...  Full Service\n",
              "1  <TrdCaptRpt RptID=\"25369020415\" TrdDt=\"2022-12...  Full Service\n",
              "2  <TrdCaptRpt RptID=\"35195221433\" TrdDt=\"2022-12...  Full Service\n",
              "3  <TrdCaptRpt RptID=\"39546900839\" TrdDt=\"2022-12...  Full Service\n",
              "4  <TrdCaptRpt RptID=\"35997621782\" TrdDt=\"2022-12...  Full Service"
            ],
            "text/html": [
              "\n",
              "  <div id=\"df-b3f15468-7ebb-485e-8839-5392ae03344a\" class=\"colab-df-container\">\n",
              "    <div>\n",
              "<style scoped>\n",
              "    .dataframe tbody tr th:only-of-type {\n",
              "        vertical-align: middle;\n",
              "    }\n",
              "\n",
              "    .dataframe tbody tr th {\n",
              "        vertical-align: top;\n",
              "    }\n",
              "\n",
              "    .dataframe thead th {\n",
              "        text-align: right;\n",
              "    }\n",
              "</style>\n",
              "<table border=\"1\" class=\"dataframe\">\n",
              "  <thead>\n",
              "    <tr style=\"text-align: right;\">\n",
              "      <th></th>\n",
              "      <th>SGW_Operation</th>\n",
              "      <th>Workflow</th>\n",
              "    </tr>\n",
              "  </thead>\n",
              "  <tbody>\n",
              "    <tr>\n",
              "      <th>0</th>\n",
              "      <td>&lt;TrdCaptRpt RptID=\"23111916222\" TrdDt=\"2023-01...</td>\n",
              "      <td>Full Service</td>\n",
              "    </tr>\n",
              "    <tr>\n",
              "      <th>1</th>\n",
              "      <td>&lt;TrdCaptRpt RptID=\"25369020415\" TrdDt=\"2022-12...</td>\n",
              "      <td>Full Service</td>\n",
              "    </tr>\n",
              "    <tr>\n",
              "      <th>2</th>\n",
              "      <td>&lt;TrdCaptRpt RptID=\"35195221433\" TrdDt=\"2022-12...</td>\n",
              "      <td>Full Service</td>\n",
              "    </tr>\n",
              "    <tr>\n",
              "      <th>3</th>\n",
              "      <td>&lt;TrdCaptRpt RptID=\"39546900839\" TrdDt=\"2022-12...</td>\n",
              "      <td>Full Service</td>\n",
              "    </tr>\n",
              "    <tr>\n",
              "      <th>4</th>\n",
              "      <td>&lt;TrdCaptRpt RptID=\"35997621782\" TrdDt=\"2022-12...</td>\n",
              "      <td>Full Service</td>\n",
              "    </tr>\n",
              "  </tbody>\n",
              "</table>\n",
              "</div>\n",
              "    <div class=\"colab-df-buttons\">\n",
              "\n",
              "  <div class=\"colab-df-container\">\n",
              "    <button class=\"colab-df-convert\" onclick=\"convertToInteractive('df-b3f15468-7ebb-485e-8839-5392ae03344a')\"\n",
              "            title=\"Convert this dataframe to an interactive table.\"\n",
              "            style=\"display:none;\">\n",
              "\n",
              "  <svg xmlns=\"http://www.w3.org/2000/svg\" height=\"24px\" viewBox=\"0 -960 960 960\">\n",
              "    <path d=\"M120-120v-720h720v720H120Zm60-500h600v-160H180v160Zm220 220h160v-160H400v160Zm0 220h160v-160H400v160ZM180-400h160v-160H180v160Zm440 0h160v-160H620v160ZM180-180h160v-160H180v160Zm440 0h160v-160H620v160Z\"/>\n",
              "  </svg>\n",
              "    </button>\n",
              "\n",
              "  <style>\n",
              "    .colab-df-container {\n",
              "      display:flex;\n",
              "      gap: 12px;\n",
              "    }\n",
              "\n",
              "    .colab-df-convert {\n",
              "      background-color: #E8F0FE;\n",
              "      border: none;\n",
              "      border-radius: 50%;\n",
              "      cursor: pointer;\n",
              "      display: none;\n",
              "      fill: #1967D2;\n",
              "      height: 32px;\n",
              "      padding: 0 0 0 0;\n",
              "      width: 32px;\n",
              "    }\n",
              "\n",
              "    .colab-df-convert:hover {\n",
              "      background-color: #E2EBFA;\n",
              "      box-shadow: 0px 1px 2px rgba(60, 64, 67, 0.3), 0px 1px 3px 1px rgba(60, 64, 67, 0.15);\n",
              "      fill: #174EA6;\n",
              "    }\n",
              "\n",
              "    .colab-df-buttons div {\n",
              "      margin-bottom: 4px;\n",
              "    }\n",
              "\n",
              "    [theme=dark] .colab-df-convert {\n",
              "      background-color: #3B4455;\n",
              "      fill: #D2E3FC;\n",
              "    }\n",
              "\n",
              "    [theme=dark] .colab-df-convert:hover {\n",
              "      background-color: #434B5C;\n",
              "      box-shadow: 0px 1px 3px 1px rgba(0, 0, 0, 0.15);\n",
              "      filter: drop-shadow(0px 1px 2px rgba(0, 0, 0, 0.3));\n",
              "      fill: #FFFFFF;\n",
              "    }\n",
              "  </style>\n",
              "\n",
              "    <script>\n",
              "      const buttonEl =\n",
              "        document.querySelector('#df-b3f15468-7ebb-485e-8839-5392ae03344a button.colab-df-convert');\n",
              "      buttonEl.style.display =\n",
              "        google.colab.kernel.accessAllowed ? 'block' : 'none';\n",
              "\n",
              "      async function convertToInteractive(key) {\n",
              "        const element = document.querySelector('#df-b3f15468-7ebb-485e-8839-5392ae03344a');\n",
              "        const dataTable =\n",
              "          await google.colab.kernel.invokeFunction('convertToInteractive',\n",
              "                                                    [key], {});\n",
              "        if (!dataTable) return;\n",
              "\n",
              "        const docLinkHtml = 'Like what you see? Visit the ' +\n",
              "          '<a target=\"_blank\" href=https://colab.research.google.com/notebooks/data_table.ipynb>data table notebook</a>'\n",
              "          + ' to learn more about interactive tables.';\n",
              "        element.innerHTML = '';\n",
              "        dataTable['output_type'] = 'display_data';\n",
              "        await google.colab.output.renderOutput(dataTable, element);\n",
              "        const docLink = document.createElement('div');\n",
              "        docLink.innerHTML = docLinkHtml;\n",
              "        element.appendChild(docLink);\n",
              "      }\n",
              "    </script>\n",
              "  </div>\n",
              "\n",
              "\n",
              "<div id=\"df-6166cfc5-ae26-4dc7-8bbb-9137cdf48d58\">\n",
              "  <button class=\"colab-df-quickchart\" onclick=\"quickchart('df-6166cfc5-ae26-4dc7-8bbb-9137cdf48d58')\"\n",
              "            title=\"Suggest charts\"\n",
              "            style=\"display:none;\">\n",
              "\n",
              "<svg xmlns=\"http://www.w3.org/2000/svg\" height=\"24px\"viewBox=\"0 0 24 24\"\n",
              "     width=\"24px\">\n",
              "    <g>\n",
              "        <path d=\"M19 3H5c-1.1 0-2 .9-2 2v14c0 1.1.9 2 2 2h14c1.1 0 2-.9 2-2V5c0-1.1-.9-2-2-2zM9 17H7v-7h2v7zm4 0h-2V7h2v10zm4 0h-2v-4h2v4z\"/>\n",
              "    </g>\n",
              "</svg>\n",
              "  </button>\n",
              "\n",
              "<style>\n",
              "  .colab-df-quickchart {\n",
              "      --bg-color: #E8F0FE;\n",
              "      --fill-color: #1967D2;\n",
              "      --hover-bg-color: #E2EBFA;\n",
              "      --hover-fill-color: #174EA6;\n",
              "      --disabled-fill-color: #AAA;\n",
              "      --disabled-bg-color: #DDD;\n",
              "  }\n",
              "\n",
              "  [theme=dark] .colab-df-quickchart {\n",
              "      --bg-color: #3B4455;\n",
              "      --fill-color: #D2E3FC;\n",
              "      --hover-bg-color: #434B5C;\n",
              "      --hover-fill-color: #FFFFFF;\n",
              "      --disabled-bg-color: #3B4455;\n",
              "      --disabled-fill-color: #666;\n",
              "  }\n",
              "\n",
              "  .colab-df-quickchart {\n",
              "    background-color: var(--bg-color);\n",
              "    border: none;\n",
              "    border-radius: 50%;\n",
              "    cursor: pointer;\n",
              "    display: none;\n",
              "    fill: var(--fill-color);\n",
              "    height: 32px;\n",
              "    padding: 0;\n",
              "    width: 32px;\n",
              "  }\n",
              "\n",
              "  .colab-df-quickchart:hover {\n",
              "    background-color: var(--hover-bg-color);\n",
              "    box-shadow: 0 1px 2px rgba(60, 64, 67, 0.3), 0 1px 3px 1px rgba(60, 64, 67, 0.15);\n",
              "    fill: var(--button-hover-fill-color);\n",
              "  }\n",
              "\n",
              "  .colab-df-quickchart-complete:disabled,\n",
              "  .colab-df-quickchart-complete:disabled:hover {\n",
              "    background-color: var(--disabled-bg-color);\n",
              "    fill: var(--disabled-fill-color);\n",
              "    box-shadow: none;\n",
              "  }\n",
              "\n",
              "  .colab-df-spinner {\n",
              "    border: 2px solid var(--fill-color);\n",
              "    border-color: transparent;\n",
              "    border-bottom-color: var(--fill-color);\n",
              "    animation:\n",
              "      spin 1s steps(1) infinite;\n",
              "  }\n",
              "\n",
              "  @keyframes spin {\n",
              "    0% {\n",
              "      border-color: transparent;\n",
              "      border-bottom-color: var(--fill-color);\n",
              "      border-left-color: var(--fill-color);\n",
              "    }\n",
              "    20% {\n",
              "      border-color: transparent;\n",
              "      border-left-color: var(--fill-color);\n",
              "      border-top-color: var(--fill-color);\n",
              "    }\n",
              "    30% {\n",
              "      border-color: transparent;\n",
              "      border-left-color: var(--fill-color);\n",
              "      border-top-color: var(--fill-color);\n",
              "      border-right-color: var(--fill-color);\n",
              "    }\n",
              "    40% {\n",
              "      border-color: transparent;\n",
              "      border-right-color: var(--fill-color);\n",
              "      border-top-color: var(--fill-color);\n",
              "    }\n",
              "    60% {\n",
              "      border-color: transparent;\n",
              "      border-right-color: var(--fill-color);\n",
              "    }\n",
              "    80% {\n",
              "      border-color: transparent;\n",
              "      border-right-color: var(--fill-color);\n",
              "      border-bottom-color: var(--fill-color);\n",
              "    }\n",
              "    90% {\n",
              "      border-color: transparent;\n",
              "      border-bottom-color: var(--fill-color);\n",
              "    }\n",
              "  }\n",
              "</style>\n",
              "\n",
              "  <script>\n",
              "    async function quickchart(key) {\n",
              "      const quickchartButtonEl =\n",
              "        document.querySelector('#' + key + ' button');\n",
              "      quickchartButtonEl.disabled = true;  // To prevent multiple clicks.\n",
              "      quickchartButtonEl.classList.add('colab-df-spinner');\n",
              "      try {\n",
              "        const charts = await google.colab.kernel.invokeFunction(\n",
              "            'suggestCharts', [key], {});\n",
              "      } catch (error) {\n",
              "        console.error('Error during call to suggestCharts:', error);\n",
              "      }\n",
              "      quickchartButtonEl.classList.remove('colab-df-spinner');\n",
              "      quickchartButtonEl.classList.add('colab-df-quickchart-complete');\n",
              "    }\n",
              "    (() => {\n",
              "      let quickchartButtonEl =\n",
              "        document.querySelector('#df-6166cfc5-ae26-4dc7-8bbb-9137cdf48d58 button');\n",
              "      quickchartButtonEl.style.display =\n",
              "        google.colab.kernel.accessAllowed ? 'block' : 'none';\n",
              "    })();\n",
              "  </script>\n",
              "</div>\n",
              "\n",
              "    </div>\n",
              "  </div>\n"
            ],
            "application/vnd.google.colaboratory.intrinsic+json": {
              "type": "dataframe",
              "variable_name": "df1",
              "summary": "{\n  \"name\": \"df1\",\n  \"rows\": 200,\n  \"fields\": [\n    {\n      \"column\": \"SGW_Operation\",\n      \"properties\": {\n        \"dtype\": \"string\",\n        \"num_unique_values\": 200,\n        \"samples\": [\n          \"<TrdCaptRpt RptID=\\\"33902271366\\\" TrdDt=\\\"2023-01-05\\\" BizDt=\\\"2023-01-20\\\" TxnTm=\\\"2023-03-20T16:40:55.100-7:00\\\" TrdID=\\\"33902271366\\\" TransTyp=\\\"2\\\" RptTyp=\\\"0\\\" LastQty=\\\"64.0\\\" LastPx=\\\"370.0\\\"><Hdr Snt=\\\"2023-03-20T17:30:55.600+01:00\\\" TID=\\\"MGEX\\\" SID=\\\"HBPL\\\"/><Instrmt Exch=\\\"HDPL\\\" ID=\\\"IP0\\\" MMY=\\\"202307\\\" CFI=\\\"FCCPXX\\\"/><RptSide Side=\\\"2\\\" CustCpcty=\\\"4\\\"><Pty ID=\\\"210\\\" R=\\\"1\\\"/><Pty ID=\\\"arij\\\" R=\\\"24\\\"><Sub ID=\\\"1\\\" Typ=\\\"26\\\"/></Pty></RptSide></TrdCaptRpt>\",\n          \"<TrdCaptRpt RptID=\\\"28892687041\\\" TrdDt=\\\"2023-01-02\\\" BizDt=\\\"2023-01-06\\\" TxnTm=\\\"2023-02-15T10:18:15.100-7:00\\\" TrdID=\\\"28892687041\\\" TransTyp=\\\"2\\\" RptTyp=\\\"0\\\" LastQty=\\\"89.0\\\" LastPx=\\\"250.45\\\"><Hdr Snt=\\\"2023-02-15T22:03:12.436+01:00\\\" TID=\\\"MGEX\\\" SID=\\\"TL98\\\"/><Instrmt Exch=\\\"BTNL\\\" ID=\\\"W\\\" MMY=\\\"202310\\\" CFI=\\\"FCAPSX\\\"/><RptSide Side=\\\"2\\\" CustCpcty=\\\"2\\\"><Pty ID=\\\"210\\\" R=\\\"1\\\"/><Pty ID=\\\"AKLPM9\\\" R=\\\"24\\\"><Sub ID=\\\"1\\\" Typ=\\\"26\\\"/></Pty></RptSide></TrdCaptRpt>\",\n          \"<TrdCaptRpt RptID=\\\"20860740587\\\" TrdDt=\\\"2022-12-21\\\" BizDt=\\\"2023-02-05\\\" TxnTm=\\\"2023-03-20T12:25:13.326-5:00\\\" TrdID=\\\"20860740587\\\" TransTyp=\\\"2\\\" RptTyp=\\\"0\\\" LastQty=\\\"41.0\\\" LastPx=\\\"370.0\\\"><Hdr Snt=\\\"2023-03-20T17:30:55.600+01:00\\\" TID=\\\"MGEX\\\" SID=\\\"TL98\\\"/><Instrmt Exch=\\\"XMGE\\\" ID=\\\"W\\\" MMY=\\\"202307\\\" CFI=\\\"MKLPON\\\"/><RptSide Side=\\\"1\\\" CustCpcty=\\\"2\\\"><Pty ID=\\\"210\\\" R=\\\"1\\\"/><Pty ID=\\\"Hassen\\\" R=\\\"24\\\"><Sub ID=\\\"2\\\" Typ=\\\"26\\\"/></Pty></RptSide></TrdCaptRpt>\"\n        ],\n        \"semantic_type\": \"\",\n        \"description\": \"\"\n      }\n    },\n    {\n      \"column\": \"Workflow\",\n      \"properties\": {\n        \"dtype\": \"category\",\n        \"num_unique_values\": 1,\n        \"samples\": [\n          \"Full Service\"\n        ],\n        \"semantic_type\": \"\",\n        \"description\": \"\"\n      }\n    }\n  ]\n}"
            }
          },
          "metadata": {},
          "execution_count": 123
        }
      ]
    },
    {
      "cell_type": "code",
      "source": [
        "df1.iloc[0]['SGW_Operation']"
      ],
      "metadata": {
        "colab": {
          "base_uri": "https://localhost:8080/",
          "height": 70
        },
        "id": "vPnh001RhFjB",
        "outputId": "b886aadf-686b-42ea-d150-dbc3f2114892"
      },
      "execution_count": null,
      "outputs": [
        {
          "output_type": "execute_result",
          "data": {
            "text/plain": [
              "'<TrdCaptRpt RptID=\"23111916222\" TrdDt=\"2023-01-02\" BizDt=\"2023-02-05\" TxnTm=\"2023-02-21T05:17:30.100-6:00\" TrdID=\"23111916222\" TransTyp=\"2\" RptTyp=\"0\" LastQty=\"99.0\" LastPx=\"250.45\"><Hdr Snt=\"2023-02-21T17:30:55.600+01:00\" TID=\"MGEX\" SID=\"TL98\"/><Instrmt Exch=\"HDPL\" ID=\"B\" MMY=\"202305\" CFI=\"APYBKL\"/><RptSide Side=\"1\" CustCpcty=\"2\"><Pty ID=\"210\" R=\"1\"/><Pty ID=\"Ahlem\" R=\"24\"><Sub ID=\"2\" Typ=\"26\"/></Pty></RptSide></TrdCaptRpt>'"
            ],
            "application/vnd.google.colaboratory.intrinsic+json": {
              "type": "string"
            }
          },
          "metadata": {},
          "execution_count": 124
        }
      ]
    },
    {
      "cell_type": "markdown",
      "source": [
        "**Generating samples for the Mark As Give Up Workflow**"
      ],
      "metadata": {
        "id": "lkEeA8zDFxXW"
      }
    },
    {
      "cell_type": "code",
      "source": [
        "def generate_example2():\n",
        "    trdid = random.randint(20281004800, 40281004800)\n",
        "    mtchid = random.randint(20281001777, 40281001777)\n",
        "    lastqty = random.randint(10,100)\n",
        "    lastpx = random.choice([100, 370, 876, 250.45, 300.9, 540.698, 1050, 2590.59])\n",
        "    trdt = random.choice([\"2022-12-17\",\"2022-12-21\",\"2023-01-02\",\"2023-01-05\"])\n",
        "    bizdt = random.choice([\"2023-01-06\",\"2023-01-11\",\"2023-01-20\",\"2023-02-05\",\"2023-02-10\"])\n",
        "    t = random.choice([\"2023-02-15\",\"2023-02-21\",\"2023-03-20\",\"2023-04-11\"])\n",
        "    tz1 = random.choice(['-5:00','-6:00','-7:00'])\n",
        "    id5 = random.choice(['B','W','AS','LM','BUI','IP0'])\n",
        "    my = random.choice([\"2023-05\",\"2023-07\",\"2023-10\"])\n",
        "    mmy = my.replace('-','')\n",
        "    tid = random.choice(['ABCD','D210','B509','HBPL','TL98'])\n",
        "    ex = random.choice(['BTNL','SNTL','HDPL','XMGE'])\n",
        "    side = random.randint(1,2)\n",
        "    cfi2 = random.choice(['FCCPXX','APYBKL','MKLPON','FCAPSX'])\n",
        "    avgpin = random.randint(0,1)\n",
        "    alocgr = random.randint(0,1)\n",
        "    time3 = random.choice(['T18:35:55.700','T20:33:05.393','T22:25:13.545','T23:28:32.581'])\n",
        "    snt5 = t+time3+tz1\n",
        "    time4 = random.choice(['T19:40:55.600','T20:55:08.453','T23:14:12.436'])\n",
        "    snt6 = t+time4+'+01:00'\n",
        "    return f\"\"\"<TrdCaptRpt RptID=\"{trdid}\" TrdDt=\"{trdt}\" BizDt=\"{bizdt}\" TxnTm=\"{snt5}\"\n",
        " TrdID=\"{trdid}\" TransTyp=\"2\" RptTyp=\"0\" LastQty=\"{float(lastqty)}\" LastPx=\"{float(lastpx)}\"><Hdr Snt=\"{snt6}\" TID=\"MGEX\" SID=\"{tid}\"/><Instrmt Exch=\"{ex}\" ID=\"{id5}\"\n",
        " MMY=\"{mmy}\" CFI=\"{cfi2}\"/><RptSide Side=\"{side}\" AvgPxInd=\"{avgpin}\" AllocInd=\"1\" AllocGrpInst=\"{alocgr}\"><Pty ID=\"210\" R=\"1\"/></RptSide></TrdCaptRpt>\"\"\".replace('\\n', '')"
      ],
      "metadata": {
        "id": "-aprLUQQhJSZ"
      },
      "execution_count": null,
      "outputs": []
    },
    {
      "cell_type": "code",
      "source": [
        "column1_data2 = [generate_example2() for i in range(200)]\n",
        "column2_data2 = ['Mark As Give Up' for i in range(200)]"
      ],
      "metadata": {
        "id": "l-JFiDYEhRp5"
      },
      "execution_count": null,
      "outputs": []
    },
    {
      "cell_type": "markdown",
      "source": [
        "**Creating a DataFrame for the Mark As Give Up Workflow**"
      ],
      "metadata": {
        "id": "Xvr6m_ndF89Y"
      }
    },
    {
      "cell_type": "code",
      "source": [
        "df2 = pd.DataFrame({\n",
        "    'SGW_Operation': column1_data2,\n",
        "    'Workflow': column2_data2,\n",
        "})\n",
        "df2.head()"
      ],
      "metadata": {
        "colab": {
          "base_uri": "https://localhost:8080/",
          "height": 206
        },
        "id": "OyccEmPjhS1J",
        "outputId": "0f349308-5125-4d36-9eb1-3c37fdecdbd6"
      },
      "execution_count": null,
      "outputs": [
        {
          "output_type": "execute_result",
          "data": {
            "text/plain": [
              "                                       SGW_Operation         Workflow\n",
              "0  <TrdCaptRpt RptID=\"23106122137\" TrdDt=\"2023-01...  Mark As Give Up\n",
              "1  <TrdCaptRpt RptID=\"30871573928\" TrdDt=\"2023-01...  Mark As Give Up\n",
              "2  <TrdCaptRpt RptID=\"23617595186\" TrdDt=\"2022-12...  Mark As Give Up\n",
              "3  <TrdCaptRpt RptID=\"23711439349\" TrdDt=\"2023-01...  Mark As Give Up\n",
              "4  <TrdCaptRpt RptID=\"26002804163\" TrdDt=\"2023-01...  Mark As Give Up"
            ],
            "text/html": [
              "\n",
              "  <div id=\"df-84b8d60c-3ef9-43ea-9a61-49b4a831497f\" class=\"colab-df-container\">\n",
              "    <div>\n",
              "<style scoped>\n",
              "    .dataframe tbody tr th:only-of-type {\n",
              "        vertical-align: middle;\n",
              "    }\n",
              "\n",
              "    .dataframe tbody tr th {\n",
              "        vertical-align: top;\n",
              "    }\n",
              "\n",
              "    .dataframe thead th {\n",
              "        text-align: right;\n",
              "    }\n",
              "</style>\n",
              "<table border=\"1\" class=\"dataframe\">\n",
              "  <thead>\n",
              "    <tr style=\"text-align: right;\">\n",
              "      <th></th>\n",
              "      <th>SGW_Operation</th>\n",
              "      <th>Workflow</th>\n",
              "    </tr>\n",
              "  </thead>\n",
              "  <tbody>\n",
              "    <tr>\n",
              "      <th>0</th>\n",
              "      <td>&lt;TrdCaptRpt RptID=\"23106122137\" TrdDt=\"2023-01...</td>\n",
              "      <td>Mark As Give Up</td>\n",
              "    </tr>\n",
              "    <tr>\n",
              "      <th>1</th>\n",
              "      <td>&lt;TrdCaptRpt RptID=\"30871573928\" TrdDt=\"2023-01...</td>\n",
              "      <td>Mark As Give Up</td>\n",
              "    </tr>\n",
              "    <tr>\n",
              "      <th>2</th>\n",
              "      <td>&lt;TrdCaptRpt RptID=\"23617595186\" TrdDt=\"2022-12...</td>\n",
              "      <td>Mark As Give Up</td>\n",
              "    </tr>\n",
              "    <tr>\n",
              "      <th>3</th>\n",
              "      <td>&lt;TrdCaptRpt RptID=\"23711439349\" TrdDt=\"2023-01...</td>\n",
              "      <td>Mark As Give Up</td>\n",
              "    </tr>\n",
              "    <tr>\n",
              "      <th>4</th>\n",
              "      <td>&lt;TrdCaptRpt RptID=\"26002804163\" TrdDt=\"2023-01...</td>\n",
              "      <td>Mark As Give Up</td>\n",
              "    </tr>\n",
              "  </tbody>\n",
              "</table>\n",
              "</div>\n",
              "    <div class=\"colab-df-buttons\">\n",
              "\n",
              "  <div class=\"colab-df-container\">\n",
              "    <button class=\"colab-df-convert\" onclick=\"convertToInteractive('df-84b8d60c-3ef9-43ea-9a61-49b4a831497f')\"\n",
              "            title=\"Convert this dataframe to an interactive table.\"\n",
              "            style=\"display:none;\">\n",
              "\n",
              "  <svg xmlns=\"http://www.w3.org/2000/svg\" height=\"24px\" viewBox=\"0 -960 960 960\">\n",
              "    <path d=\"M120-120v-720h720v720H120Zm60-500h600v-160H180v160Zm220 220h160v-160H400v160Zm0 220h160v-160H400v160ZM180-400h160v-160H180v160Zm440 0h160v-160H620v160ZM180-180h160v-160H180v160Zm440 0h160v-160H620v160Z\"/>\n",
              "  </svg>\n",
              "    </button>\n",
              "\n",
              "  <style>\n",
              "    .colab-df-container {\n",
              "      display:flex;\n",
              "      gap: 12px;\n",
              "    }\n",
              "\n",
              "    .colab-df-convert {\n",
              "      background-color: #E8F0FE;\n",
              "      border: none;\n",
              "      border-radius: 50%;\n",
              "      cursor: pointer;\n",
              "      display: none;\n",
              "      fill: #1967D2;\n",
              "      height: 32px;\n",
              "      padding: 0 0 0 0;\n",
              "      width: 32px;\n",
              "    }\n",
              "\n",
              "    .colab-df-convert:hover {\n",
              "      background-color: #E2EBFA;\n",
              "      box-shadow: 0px 1px 2px rgba(60, 64, 67, 0.3), 0px 1px 3px 1px rgba(60, 64, 67, 0.15);\n",
              "      fill: #174EA6;\n",
              "    }\n",
              "\n",
              "    .colab-df-buttons div {\n",
              "      margin-bottom: 4px;\n",
              "    }\n",
              "\n",
              "    [theme=dark] .colab-df-convert {\n",
              "      background-color: #3B4455;\n",
              "      fill: #D2E3FC;\n",
              "    }\n",
              "\n",
              "    [theme=dark] .colab-df-convert:hover {\n",
              "      background-color: #434B5C;\n",
              "      box-shadow: 0px 1px 3px 1px rgba(0, 0, 0, 0.15);\n",
              "      filter: drop-shadow(0px 1px 2px rgba(0, 0, 0, 0.3));\n",
              "      fill: #FFFFFF;\n",
              "    }\n",
              "  </style>\n",
              "\n",
              "    <script>\n",
              "      const buttonEl =\n",
              "        document.querySelector('#df-84b8d60c-3ef9-43ea-9a61-49b4a831497f button.colab-df-convert');\n",
              "      buttonEl.style.display =\n",
              "        google.colab.kernel.accessAllowed ? 'block' : 'none';\n",
              "\n",
              "      async function convertToInteractive(key) {\n",
              "        const element = document.querySelector('#df-84b8d60c-3ef9-43ea-9a61-49b4a831497f');\n",
              "        const dataTable =\n",
              "          await google.colab.kernel.invokeFunction('convertToInteractive',\n",
              "                                                    [key], {});\n",
              "        if (!dataTable) return;\n",
              "\n",
              "        const docLinkHtml = 'Like what you see? Visit the ' +\n",
              "          '<a target=\"_blank\" href=https://colab.research.google.com/notebooks/data_table.ipynb>data table notebook</a>'\n",
              "          + ' to learn more about interactive tables.';\n",
              "        element.innerHTML = '';\n",
              "        dataTable['output_type'] = 'display_data';\n",
              "        await google.colab.output.renderOutput(dataTable, element);\n",
              "        const docLink = document.createElement('div');\n",
              "        docLink.innerHTML = docLinkHtml;\n",
              "        element.appendChild(docLink);\n",
              "      }\n",
              "    </script>\n",
              "  </div>\n",
              "\n",
              "\n",
              "<div id=\"df-ee558cb4-764b-4ae0-af7a-db3d994427c9\">\n",
              "  <button class=\"colab-df-quickchart\" onclick=\"quickchart('df-ee558cb4-764b-4ae0-af7a-db3d994427c9')\"\n",
              "            title=\"Suggest charts\"\n",
              "            style=\"display:none;\">\n",
              "\n",
              "<svg xmlns=\"http://www.w3.org/2000/svg\" height=\"24px\"viewBox=\"0 0 24 24\"\n",
              "     width=\"24px\">\n",
              "    <g>\n",
              "        <path d=\"M19 3H5c-1.1 0-2 .9-2 2v14c0 1.1.9 2 2 2h14c1.1 0 2-.9 2-2V5c0-1.1-.9-2-2-2zM9 17H7v-7h2v7zm4 0h-2V7h2v10zm4 0h-2v-4h2v4z\"/>\n",
              "    </g>\n",
              "</svg>\n",
              "  </button>\n",
              "\n",
              "<style>\n",
              "  .colab-df-quickchart {\n",
              "      --bg-color: #E8F0FE;\n",
              "      --fill-color: #1967D2;\n",
              "      --hover-bg-color: #E2EBFA;\n",
              "      --hover-fill-color: #174EA6;\n",
              "      --disabled-fill-color: #AAA;\n",
              "      --disabled-bg-color: #DDD;\n",
              "  }\n",
              "\n",
              "  [theme=dark] .colab-df-quickchart {\n",
              "      --bg-color: #3B4455;\n",
              "      --fill-color: #D2E3FC;\n",
              "      --hover-bg-color: #434B5C;\n",
              "      --hover-fill-color: #FFFFFF;\n",
              "      --disabled-bg-color: #3B4455;\n",
              "      --disabled-fill-color: #666;\n",
              "  }\n",
              "\n",
              "  .colab-df-quickchart {\n",
              "    background-color: var(--bg-color);\n",
              "    border: none;\n",
              "    border-radius: 50%;\n",
              "    cursor: pointer;\n",
              "    display: none;\n",
              "    fill: var(--fill-color);\n",
              "    height: 32px;\n",
              "    padding: 0;\n",
              "    width: 32px;\n",
              "  }\n",
              "\n",
              "  .colab-df-quickchart:hover {\n",
              "    background-color: var(--hover-bg-color);\n",
              "    box-shadow: 0 1px 2px rgba(60, 64, 67, 0.3), 0 1px 3px 1px rgba(60, 64, 67, 0.15);\n",
              "    fill: var(--button-hover-fill-color);\n",
              "  }\n",
              "\n",
              "  .colab-df-quickchart-complete:disabled,\n",
              "  .colab-df-quickchart-complete:disabled:hover {\n",
              "    background-color: var(--disabled-bg-color);\n",
              "    fill: var(--disabled-fill-color);\n",
              "    box-shadow: none;\n",
              "  }\n",
              "\n",
              "  .colab-df-spinner {\n",
              "    border: 2px solid var(--fill-color);\n",
              "    border-color: transparent;\n",
              "    border-bottom-color: var(--fill-color);\n",
              "    animation:\n",
              "      spin 1s steps(1) infinite;\n",
              "  }\n",
              "\n",
              "  @keyframes spin {\n",
              "    0% {\n",
              "      border-color: transparent;\n",
              "      border-bottom-color: var(--fill-color);\n",
              "      border-left-color: var(--fill-color);\n",
              "    }\n",
              "    20% {\n",
              "      border-color: transparent;\n",
              "      border-left-color: var(--fill-color);\n",
              "      border-top-color: var(--fill-color);\n",
              "    }\n",
              "    30% {\n",
              "      border-color: transparent;\n",
              "      border-left-color: var(--fill-color);\n",
              "      border-top-color: var(--fill-color);\n",
              "      border-right-color: var(--fill-color);\n",
              "    }\n",
              "    40% {\n",
              "      border-color: transparent;\n",
              "      border-right-color: var(--fill-color);\n",
              "      border-top-color: var(--fill-color);\n",
              "    }\n",
              "    60% {\n",
              "      border-color: transparent;\n",
              "      border-right-color: var(--fill-color);\n",
              "    }\n",
              "    80% {\n",
              "      border-color: transparent;\n",
              "      border-right-color: var(--fill-color);\n",
              "      border-bottom-color: var(--fill-color);\n",
              "    }\n",
              "    90% {\n",
              "      border-color: transparent;\n",
              "      border-bottom-color: var(--fill-color);\n",
              "    }\n",
              "  }\n",
              "</style>\n",
              "\n",
              "  <script>\n",
              "    async function quickchart(key) {\n",
              "      const quickchartButtonEl =\n",
              "        document.querySelector('#' + key + ' button');\n",
              "      quickchartButtonEl.disabled = true;  // To prevent multiple clicks.\n",
              "      quickchartButtonEl.classList.add('colab-df-spinner');\n",
              "      try {\n",
              "        const charts = await google.colab.kernel.invokeFunction(\n",
              "            'suggestCharts', [key], {});\n",
              "      } catch (error) {\n",
              "        console.error('Error during call to suggestCharts:', error);\n",
              "      }\n",
              "      quickchartButtonEl.classList.remove('colab-df-spinner');\n",
              "      quickchartButtonEl.classList.add('colab-df-quickchart-complete');\n",
              "    }\n",
              "    (() => {\n",
              "      let quickchartButtonEl =\n",
              "        document.querySelector('#df-ee558cb4-764b-4ae0-af7a-db3d994427c9 button');\n",
              "      quickchartButtonEl.style.display =\n",
              "        google.colab.kernel.accessAllowed ? 'block' : 'none';\n",
              "    })();\n",
              "  </script>\n",
              "</div>\n",
              "\n",
              "    </div>\n",
              "  </div>\n"
            ],
            "application/vnd.google.colaboratory.intrinsic+json": {
              "type": "dataframe",
              "variable_name": "df2",
              "summary": "{\n  \"name\": \"df2\",\n  \"rows\": 200,\n  \"fields\": [\n    {\n      \"column\": \"SGW_Operation\",\n      \"properties\": {\n        \"dtype\": \"string\",\n        \"num_unique_values\": 200,\n        \"samples\": [\n          \"<TrdCaptRpt RptID=\\\"22868218824\\\" TrdDt=\\\"2022-12-17\\\" BizDt=\\\"2023-01-11\\\" TxnTm=\\\"2023-02-15T18:35:55.700-6:00\\\" TrdID=\\\"22868218824\\\" TransTyp=\\\"2\\\" RptTyp=\\\"0\\\" LastQty=\\\"73.0\\\" LastPx=\\\"540.698\\\"><Hdr Snt=\\\"2023-02-15T23:14:12.436+01:00\\\" TID=\\\"MGEX\\\" SID=\\\"D210\\\"/><Instrmt Exch=\\\"BTNL\\\" ID=\\\"W\\\" MMY=\\\"202305\\\" CFI=\\\"FCAPSX\\\"/><RptSide Side=\\\"2\\\" AvgPxInd=\\\"1\\\" AllocInd=\\\"1\\\" AllocGrpInst=\\\"0\\\"><Pty ID=\\\"210\\\" R=\\\"1\\\"/></RptSide></TrdCaptRpt>\",\n          \"<TrdCaptRpt RptID=\\\"37884952331\\\" TrdDt=\\\"2022-12-21\\\" BizDt=\\\"2023-01-11\\\" TxnTm=\\\"2023-02-21T23:28:32.581-6:00\\\" TrdID=\\\"37884952331\\\" TransTyp=\\\"2\\\" RptTyp=\\\"0\\\" LastQty=\\\"59.0\\\" LastPx=\\\"300.9\\\"><Hdr Snt=\\\"2023-02-21T19:40:55.600+01:00\\\" TID=\\\"MGEX\\\" SID=\\\"HBPL\\\"/><Instrmt Exch=\\\"SNTL\\\" ID=\\\"B\\\" MMY=\\\"202307\\\" CFI=\\\"FCCPXX\\\"/><RptSide Side=\\\"2\\\" AvgPxInd=\\\"1\\\" AllocInd=\\\"1\\\" AllocGrpInst=\\\"1\\\"><Pty ID=\\\"210\\\" R=\\\"1\\\"/></RptSide></TrdCaptRpt>\",\n          \"<TrdCaptRpt RptID=\\\"38792238966\\\" TrdDt=\\\"2023-01-05\\\" BizDt=\\\"2023-01-11\\\" TxnTm=\\\"2023-03-20T23:28:32.581-5:00\\\" TrdID=\\\"38792238966\\\" TransTyp=\\\"2\\\" RptTyp=\\\"0\\\" LastQty=\\\"66.0\\\" LastPx=\\\"540.698\\\"><Hdr Snt=\\\"2023-03-20T20:55:08.453+01:00\\\" TID=\\\"MGEX\\\" SID=\\\"B509\\\"/><Instrmt Exch=\\\"SNTL\\\" ID=\\\"W\\\" MMY=\\\"202305\\\" CFI=\\\"MKLPON\\\"/><RptSide Side=\\\"2\\\" AvgPxInd=\\\"0\\\" AllocInd=\\\"1\\\" AllocGrpInst=\\\"1\\\"><Pty ID=\\\"210\\\" R=\\\"1\\\"/></RptSide></TrdCaptRpt>\"\n        ],\n        \"semantic_type\": \"\",\n        \"description\": \"\"\n      }\n    },\n    {\n      \"column\": \"Workflow\",\n      \"properties\": {\n        \"dtype\": \"category\",\n        \"num_unique_values\": 1,\n        \"samples\": [\n          \"Mark As Give Up\"\n        ],\n        \"semantic_type\": \"\",\n        \"description\": \"\"\n      }\n    }\n  ]\n}"
            }
          },
          "metadata": {},
          "execution_count": 127
        }
      ]
    },
    {
      "cell_type": "code",
      "source": [
        "df2.iloc[0]['SGW_Operation']"
      ],
      "metadata": {
        "colab": {
          "base_uri": "https://localhost:8080/",
          "height": 70
        },
        "id": "4ASkY7EahV7q",
        "outputId": "cf34d766-846d-4ebf-dab3-0d4f6bcc3b62"
      },
      "execution_count": null,
      "outputs": [
        {
          "output_type": "execute_result",
          "data": {
            "text/plain": [
              "'<TrdCaptRpt RptID=\"23106122137\" TrdDt=\"2023-01-02\" BizDt=\"2023-01-11\" TxnTm=\"2023-03-20T20:33:05.393-6:00\" TrdID=\"23106122137\" TransTyp=\"2\" RptTyp=\"0\" LastQty=\"85.0\" LastPx=\"370.0\"><Hdr Snt=\"2023-03-20T23:14:12.436+01:00\" TID=\"MGEX\" SID=\"HBPL\"/><Instrmt Exch=\"SNTL\" ID=\"IP0\" MMY=\"202310\" CFI=\"FCCPXX\"/><RptSide Side=\"2\" AvgPxInd=\"1\" AllocInd=\"1\" AllocGrpInst=\"0\"><Pty ID=\"210\" R=\"1\"/></RptSide></TrdCaptRpt>'"
            ],
            "application/vnd.google.colaboratory.intrinsic+json": {
              "type": "string"
            }
          },
          "metadata": {},
          "execution_count": 128
        }
      ]
    },
    {
      "cell_type": "markdown",
      "source": [
        "**Generating samples for the Give Up Workflow**"
      ],
      "metadata": {
        "id": "COqSUW83GFbM"
      }
    },
    {
      "cell_type": "code",
      "source": [
        "def generate_example3():\n",
        "    trdid = random.randint(20281004800, 40281004800)\n",
        "    lastqty = random.randint(10,100)\n",
        "    lastpx = random.choice([100, 370, 876, 250.45, 300.9, 540.698, 1050, 2590.59])\n",
        "    trdt = random.choice([\"2022-12-17\",\"2022-12-21\",\"2023-01-02\",\"2023-01-05\"])\n",
        "    bizdt = random.choice([\"2023-01-06\",\"2023-01-11\",\"2023-01-20\",\"2023-02-05\",\"2023-02-10\"])\n",
        "    t = random.choice([\"2023-02-15\",\"2023-02-21\",\"2023-03-20\",\"2023-03-30\"])\n",
        "    time2 = random.choice(['T14:30:55.600','T15:33:05.333','T17:03:12.436'])\n",
        "    r1 = random.choice(['.100','.230','.326'])\n",
        "    r2 = random.choice(['.350','.470','.768'])\n",
        "    tz1 = random.choice(['-5:00','-6:00','-7:00'])\n",
        "    snt2 = t+time2+tz1\n",
        "    id5 = random.choice(['B','W','AS','LM','BUI','IP0','BUS'])\n",
        "    my = random.choice([\"2023-05\",\"2023-07\",\"2023-10\"])\n",
        "    mmy = my.replace('-','')\n",
        "    tid = random.choice(['ABCD','D210','B509','HBPL','TL98'])\n",
        "    id2 = random.choice(['Emira-115','Ahlem-110','Karim-200','Mohamed-300','acc-AT','bl-NL','Mariem','ahmed'])\n",
        "    id3 = random.choice([\"FIRMACT1\",\"AKLPM9\",\"MPLAMP6\",\"00120007\",\"Hassen\",\"Akrem\",'arij','CUSTACT6'])\n",
        "    ex = random.choice(['BTNL','SNTL','HDPL','XMGE'])\n",
        "    side = random.randint(1,2)\n",
        "    id261 = random.randint(1,2)\n",
        "    id262 = random.randint(1,2)\n",
        "    cfi2 = random.choice(['FCCPXX','APYBKL','MKLPON','FCAPSX','FXXXXX'])\n",
        "    time3 = random.choice(['T18:35:55.700','T19:33:05.393','T22:25:13.545','T23:28:32.581'])\n",
        "    snt5 = t+time3+'+1:00'\n",
        "    idal = random.randint(1148629322613915648,3148629322613915648)\n",
        "    grpid = random.randint(14051000002,24051000002)\n",
        "    trdt2 = trdt.replace('-','')\n",
        "    alinid = str(idal)+'@'+ex+'>'+str(grpid)+'GR@'+trdt2\n",
        "    indal = random.choice(['3fb78','4al98','36617','46518','56127','15900'])\n",
        "    txt = random.choice(['some notes','This is a note.','notes'])\n",
        "    idg = random.randint(100,200)\n",
        "    custcpcty2 = random.randint(1,4)\n",
        "    return f\"\"\"<AllocInstrctn Qty=\"{float(lastqty)}\" BizDt=\"{bizdt}\" TrdDt=\"{trdt}\" TxnTm=\"{snt2}\" Side=\"{side}\" ID=\"{alinid}\"\n",
        " TransTyp=\"0\" Typ=\"17\" GrpID=\"{grpid}\"><Hdr Snt=\"{snt5}\" TID=\"MGEX\" SID=\"{tid}\"/><Instrmt Exch=\"{ex}\" ID=\"{id5}\" MMY=\"{mmy}\" CFI=\"{cfi2}\"/>\n",
        "<Pty ID=\"{id2}\" R=\"24\"><Sub ID=\"{id261}\" Typ=\"26\"/></Pty><Pty ID=\"210\" R=\"1\"/><Pty ID=\"XMGE\" R=\"21\"/><Alloc CustCpcty=\"{custcpcty2}\" IndAllocID=\"{indal}\" Txt=\"{txt}\" Qty=\"{float(lastqty)}\">\n",
        "<Pty ID=\"{id3}\" R=\"24\"><Sub ID=\"{id262}\" Typ=\"26\"/></Pty><Pty ID=\"{idg}\" R=\"1\"/><Pty ID=\"XMGE\" R=\"21\"/></Alloc></AllocInstrctn>\"\"\".replace('\\n', '')"
      ],
      "metadata": {
        "id": "R6is88dAhdNC"
      },
      "execution_count": null,
      "outputs": []
    },
    {
      "cell_type": "code",
      "source": [
        "column1_data3 = [generate_example3() for i in range(200)]\n",
        "column2_data3 = ['Give Up' for i in range(200)]"
      ],
      "metadata": {
        "id": "TbpDbhhUlzRd"
      },
      "execution_count": null,
      "outputs": []
    },
    {
      "cell_type": "markdown",
      "source": [
        "**Creating a DataFrame for the Give Up Workflow**"
      ],
      "metadata": {
        "id": "MMgYYGB6GMxH"
      }
    },
    {
      "cell_type": "code",
      "source": [
        "df3 = pd.DataFrame({\n",
        "    'SGW_Operation': column1_data3,\n",
        "    'Workflow': column2_data3,\n",
        "})\n",
        "df3.head()"
      ],
      "metadata": {
        "colab": {
          "base_uri": "https://localhost:8080/",
          "height": 206
        },
        "id": "tnQXfDktl__z",
        "outputId": "d177ae38-05ef-48d5-96a9-fb42a75f301f"
      },
      "execution_count": null,
      "outputs": [
        {
          "output_type": "execute_result",
          "data": {
            "text/plain": [
              "                                       SGW_Operation Workflow\n",
              "0  <AllocInstrctn Qty=\"35.0\" BizDt=\"2023-02-05\" T...  Give Up\n",
              "1  <AllocInstrctn Qty=\"53.0\" BizDt=\"2023-01-20\" T...  Give Up\n",
              "2  <AllocInstrctn Qty=\"19.0\" BizDt=\"2023-01-11\" T...  Give Up\n",
              "3  <AllocInstrctn Qty=\"74.0\" BizDt=\"2023-02-05\" T...  Give Up\n",
              "4  <AllocInstrctn Qty=\"10.0\" BizDt=\"2023-01-06\" T...  Give Up"
            ],
            "text/html": [
              "\n",
              "  <div id=\"df-b430c864-ce09-492d-a461-116ed313905b\" class=\"colab-df-container\">\n",
              "    <div>\n",
              "<style scoped>\n",
              "    .dataframe tbody tr th:only-of-type {\n",
              "        vertical-align: middle;\n",
              "    }\n",
              "\n",
              "    .dataframe tbody tr th {\n",
              "        vertical-align: top;\n",
              "    }\n",
              "\n",
              "    .dataframe thead th {\n",
              "        text-align: right;\n",
              "    }\n",
              "</style>\n",
              "<table border=\"1\" class=\"dataframe\">\n",
              "  <thead>\n",
              "    <tr style=\"text-align: right;\">\n",
              "      <th></th>\n",
              "      <th>SGW_Operation</th>\n",
              "      <th>Workflow</th>\n",
              "    </tr>\n",
              "  </thead>\n",
              "  <tbody>\n",
              "    <tr>\n",
              "      <th>0</th>\n",
              "      <td>&lt;AllocInstrctn Qty=\"35.0\" BizDt=\"2023-02-05\" T...</td>\n",
              "      <td>Give Up</td>\n",
              "    </tr>\n",
              "    <tr>\n",
              "      <th>1</th>\n",
              "      <td>&lt;AllocInstrctn Qty=\"53.0\" BizDt=\"2023-01-20\" T...</td>\n",
              "      <td>Give Up</td>\n",
              "    </tr>\n",
              "    <tr>\n",
              "      <th>2</th>\n",
              "      <td>&lt;AllocInstrctn Qty=\"19.0\" BizDt=\"2023-01-11\" T...</td>\n",
              "      <td>Give Up</td>\n",
              "    </tr>\n",
              "    <tr>\n",
              "      <th>3</th>\n",
              "      <td>&lt;AllocInstrctn Qty=\"74.0\" BizDt=\"2023-02-05\" T...</td>\n",
              "      <td>Give Up</td>\n",
              "    </tr>\n",
              "    <tr>\n",
              "      <th>4</th>\n",
              "      <td>&lt;AllocInstrctn Qty=\"10.0\" BizDt=\"2023-01-06\" T...</td>\n",
              "      <td>Give Up</td>\n",
              "    </tr>\n",
              "  </tbody>\n",
              "</table>\n",
              "</div>\n",
              "    <div class=\"colab-df-buttons\">\n",
              "\n",
              "  <div class=\"colab-df-container\">\n",
              "    <button class=\"colab-df-convert\" onclick=\"convertToInteractive('df-b430c864-ce09-492d-a461-116ed313905b')\"\n",
              "            title=\"Convert this dataframe to an interactive table.\"\n",
              "            style=\"display:none;\">\n",
              "\n",
              "  <svg xmlns=\"http://www.w3.org/2000/svg\" height=\"24px\" viewBox=\"0 -960 960 960\">\n",
              "    <path d=\"M120-120v-720h720v720H120Zm60-500h600v-160H180v160Zm220 220h160v-160H400v160Zm0 220h160v-160H400v160ZM180-400h160v-160H180v160Zm440 0h160v-160H620v160ZM180-180h160v-160H180v160Zm440 0h160v-160H620v160Z\"/>\n",
              "  </svg>\n",
              "    </button>\n",
              "\n",
              "  <style>\n",
              "    .colab-df-container {\n",
              "      display:flex;\n",
              "      gap: 12px;\n",
              "    }\n",
              "\n",
              "    .colab-df-convert {\n",
              "      background-color: #E8F0FE;\n",
              "      border: none;\n",
              "      border-radius: 50%;\n",
              "      cursor: pointer;\n",
              "      display: none;\n",
              "      fill: #1967D2;\n",
              "      height: 32px;\n",
              "      padding: 0 0 0 0;\n",
              "      width: 32px;\n",
              "    }\n",
              "\n",
              "    .colab-df-convert:hover {\n",
              "      background-color: #E2EBFA;\n",
              "      box-shadow: 0px 1px 2px rgba(60, 64, 67, 0.3), 0px 1px 3px 1px rgba(60, 64, 67, 0.15);\n",
              "      fill: #174EA6;\n",
              "    }\n",
              "\n",
              "    .colab-df-buttons div {\n",
              "      margin-bottom: 4px;\n",
              "    }\n",
              "\n",
              "    [theme=dark] .colab-df-convert {\n",
              "      background-color: #3B4455;\n",
              "      fill: #D2E3FC;\n",
              "    }\n",
              "\n",
              "    [theme=dark] .colab-df-convert:hover {\n",
              "      background-color: #434B5C;\n",
              "      box-shadow: 0px 1px 3px 1px rgba(0, 0, 0, 0.15);\n",
              "      filter: drop-shadow(0px 1px 2px rgba(0, 0, 0, 0.3));\n",
              "      fill: #FFFFFF;\n",
              "    }\n",
              "  </style>\n",
              "\n",
              "    <script>\n",
              "      const buttonEl =\n",
              "        document.querySelector('#df-b430c864-ce09-492d-a461-116ed313905b button.colab-df-convert');\n",
              "      buttonEl.style.display =\n",
              "        google.colab.kernel.accessAllowed ? 'block' : 'none';\n",
              "\n",
              "      async function convertToInteractive(key) {\n",
              "        const element = document.querySelector('#df-b430c864-ce09-492d-a461-116ed313905b');\n",
              "        const dataTable =\n",
              "          await google.colab.kernel.invokeFunction('convertToInteractive',\n",
              "                                                    [key], {});\n",
              "        if (!dataTable) return;\n",
              "\n",
              "        const docLinkHtml = 'Like what you see? Visit the ' +\n",
              "          '<a target=\"_blank\" href=https://colab.research.google.com/notebooks/data_table.ipynb>data table notebook</a>'\n",
              "          + ' to learn more about interactive tables.';\n",
              "        element.innerHTML = '';\n",
              "        dataTable['output_type'] = 'display_data';\n",
              "        await google.colab.output.renderOutput(dataTable, element);\n",
              "        const docLink = document.createElement('div');\n",
              "        docLink.innerHTML = docLinkHtml;\n",
              "        element.appendChild(docLink);\n",
              "      }\n",
              "    </script>\n",
              "  </div>\n",
              "\n",
              "\n",
              "<div id=\"df-ca3d962b-095d-451f-bd2c-d1561b3667cc\">\n",
              "  <button class=\"colab-df-quickchart\" onclick=\"quickchart('df-ca3d962b-095d-451f-bd2c-d1561b3667cc')\"\n",
              "            title=\"Suggest charts\"\n",
              "            style=\"display:none;\">\n",
              "\n",
              "<svg xmlns=\"http://www.w3.org/2000/svg\" height=\"24px\"viewBox=\"0 0 24 24\"\n",
              "     width=\"24px\">\n",
              "    <g>\n",
              "        <path d=\"M19 3H5c-1.1 0-2 .9-2 2v14c0 1.1.9 2 2 2h14c1.1 0 2-.9 2-2V5c0-1.1-.9-2-2-2zM9 17H7v-7h2v7zm4 0h-2V7h2v10zm4 0h-2v-4h2v4z\"/>\n",
              "    </g>\n",
              "</svg>\n",
              "  </button>\n",
              "\n",
              "<style>\n",
              "  .colab-df-quickchart {\n",
              "      --bg-color: #E8F0FE;\n",
              "      --fill-color: #1967D2;\n",
              "      --hover-bg-color: #E2EBFA;\n",
              "      --hover-fill-color: #174EA6;\n",
              "      --disabled-fill-color: #AAA;\n",
              "      --disabled-bg-color: #DDD;\n",
              "  }\n",
              "\n",
              "  [theme=dark] .colab-df-quickchart {\n",
              "      --bg-color: #3B4455;\n",
              "      --fill-color: #D2E3FC;\n",
              "      --hover-bg-color: #434B5C;\n",
              "      --hover-fill-color: #FFFFFF;\n",
              "      --disabled-bg-color: #3B4455;\n",
              "      --disabled-fill-color: #666;\n",
              "  }\n",
              "\n",
              "  .colab-df-quickchart {\n",
              "    background-color: var(--bg-color);\n",
              "    border: none;\n",
              "    border-radius: 50%;\n",
              "    cursor: pointer;\n",
              "    display: none;\n",
              "    fill: var(--fill-color);\n",
              "    height: 32px;\n",
              "    padding: 0;\n",
              "    width: 32px;\n",
              "  }\n",
              "\n",
              "  .colab-df-quickchart:hover {\n",
              "    background-color: var(--hover-bg-color);\n",
              "    box-shadow: 0 1px 2px rgba(60, 64, 67, 0.3), 0 1px 3px 1px rgba(60, 64, 67, 0.15);\n",
              "    fill: var(--button-hover-fill-color);\n",
              "  }\n",
              "\n",
              "  .colab-df-quickchart-complete:disabled,\n",
              "  .colab-df-quickchart-complete:disabled:hover {\n",
              "    background-color: var(--disabled-bg-color);\n",
              "    fill: var(--disabled-fill-color);\n",
              "    box-shadow: none;\n",
              "  }\n",
              "\n",
              "  .colab-df-spinner {\n",
              "    border: 2px solid var(--fill-color);\n",
              "    border-color: transparent;\n",
              "    border-bottom-color: var(--fill-color);\n",
              "    animation:\n",
              "      spin 1s steps(1) infinite;\n",
              "  }\n",
              "\n",
              "  @keyframes spin {\n",
              "    0% {\n",
              "      border-color: transparent;\n",
              "      border-bottom-color: var(--fill-color);\n",
              "      border-left-color: var(--fill-color);\n",
              "    }\n",
              "    20% {\n",
              "      border-color: transparent;\n",
              "      border-left-color: var(--fill-color);\n",
              "      border-top-color: var(--fill-color);\n",
              "    }\n",
              "    30% {\n",
              "      border-color: transparent;\n",
              "      border-left-color: var(--fill-color);\n",
              "      border-top-color: var(--fill-color);\n",
              "      border-right-color: var(--fill-color);\n",
              "    }\n",
              "    40% {\n",
              "      border-color: transparent;\n",
              "      border-right-color: var(--fill-color);\n",
              "      border-top-color: var(--fill-color);\n",
              "    }\n",
              "    60% {\n",
              "      border-color: transparent;\n",
              "      border-right-color: var(--fill-color);\n",
              "    }\n",
              "    80% {\n",
              "      border-color: transparent;\n",
              "      border-right-color: var(--fill-color);\n",
              "      border-bottom-color: var(--fill-color);\n",
              "    }\n",
              "    90% {\n",
              "      border-color: transparent;\n",
              "      border-bottom-color: var(--fill-color);\n",
              "    }\n",
              "  }\n",
              "</style>\n",
              "\n",
              "  <script>\n",
              "    async function quickchart(key) {\n",
              "      const quickchartButtonEl =\n",
              "        document.querySelector('#' + key + ' button');\n",
              "      quickchartButtonEl.disabled = true;  // To prevent multiple clicks.\n",
              "      quickchartButtonEl.classList.add('colab-df-spinner');\n",
              "      try {\n",
              "        const charts = await google.colab.kernel.invokeFunction(\n",
              "            'suggestCharts', [key], {});\n",
              "      } catch (error) {\n",
              "        console.error('Error during call to suggestCharts:', error);\n",
              "      }\n",
              "      quickchartButtonEl.classList.remove('colab-df-spinner');\n",
              "      quickchartButtonEl.classList.add('colab-df-quickchart-complete');\n",
              "    }\n",
              "    (() => {\n",
              "      let quickchartButtonEl =\n",
              "        document.querySelector('#df-ca3d962b-095d-451f-bd2c-d1561b3667cc button');\n",
              "      quickchartButtonEl.style.display =\n",
              "        google.colab.kernel.accessAllowed ? 'block' : 'none';\n",
              "    })();\n",
              "  </script>\n",
              "</div>\n",
              "\n",
              "    </div>\n",
              "  </div>\n"
            ],
            "application/vnd.google.colaboratory.intrinsic+json": {
              "type": "dataframe",
              "variable_name": "df3",
              "summary": "{\n  \"name\": \"df3\",\n  \"rows\": 200,\n  \"fields\": [\n    {\n      \"column\": \"SGW_Operation\",\n      \"properties\": {\n        \"dtype\": \"string\",\n        \"num_unique_values\": 200,\n        \"samples\": [\n          \"<AllocInstrctn Qty=\\\"82.0\\\" BizDt=\\\"2023-02-05\\\" TrdDt=\\\"2022-12-21\\\" TxnTm=\\\"2023-02-21T14:30:55.600-6:00\\\" Side=\\\"2\\\" ID=\\\"2533166922170172205@XMGE>18656632682GR@20221221\\\" TransTyp=\\\"0\\\" Typ=\\\"17\\\" GrpID=\\\"18656632682\\\"><Hdr Snt=\\\"2023-02-21T18:35:55.700+1:00\\\" TID=\\\"MGEX\\\" SID=\\\"TL98\\\"/><Instrmt Exch=\\\"XMGE\\\" ID=\\\"AS\\\" MMY=\\\"202310\\\" CFI=\\\"FCCPXX\\\"/><Pty ID=\\\"acc-AT\\\" R=\\\"24\\\"><Sub ID=\\\"2\\\" Typ=\\\"26\\\"/></Pty><Pty ID=\\\"210\\\" R=\\\"1\\\"/><Pty ID=\\\"XMGE\\\" R=\\\"21\\\"/><Alloc CustCpcty=\\\"2\\\" IndAllocID=\\\"46518\\\" Txt=\\\"some notes\\\" Qty=\\\"82.0\\\"><Pty ID=\\\"arij\\\" R=\\\"24\\\"><Sub ID=\\\"2\\\" Typ=\\\"26\\\"/></Pty><Pty ID=\\\"187\\\" R=\\\"1\\\"/><Pty ID=\\\"XMGE\\\" R=\\\"21\\\"/></Alloc></AllocInstrctn>\",\n          \"<AllocInstrctn Qty=\\\"69.0\\\" BizDt=\\\"2023-02-05\\\" TrdDt=\\\"2022-12-21\\\" TxnTm=\\\"2023-03-20T15:33:05.333-7:00\\\" Side=\\\"1\\\" ID=\\\"3137521961902199387@BTNL>22384746404GR@20221221\\\" TransTyp=\\\"0\\\" Typ=\\\"17\\\" GrpID=\\\"22384746404\\\"><Hdr Snt=\\\"2023-03-20T19:33:05.393+1:00\\\" TID=\\\"MGEX\\\" SID=\\\"ABCD\\\"/><Instrmt Exch=\\\"BTNL\\\" ID=\\\"BUS\\\" MMY=\\\"202310\\\" CFI=\\\"MKLPON\\\"/><Pty ID=\\\"Mohamed-300\\\" R=\\\"24\\\"><Sub ID=\\\"1\\\" Typ=\\\"26\\\"/></Pty><Pty ID=\\\"210\\\" R=\\\"1\\\"/><Pty ID=\\\"XMGE\\\" R=\\\"21\\\"/><Alloc CustCpcty=\\\"2\\\" IndAllocID=\\\"3fb78\\\" Txt=\\\"This is a note.\\\" Qty=\\\"69.0\\\"><Pty ID=\\\"FIRMACT1\\\" R=\\\"24\\\"><Sub ID=\\\"1\\\" Typ=\\\"26\\\"/></Pty><Pty ID=\\\"101\\\" R=\\\"1\\\"/><Pty ID=\\\"XMGE\\\" R=\\\"21\\\"/></Alloc></AllocInstrctn>\",\n          \"<AllocInstrctn Qty=\\\"22.0\\\" BizDt=\\\"2023-01-06\\\" TrdDt=\\\"2023-01-05\\\" TxnTm=\\\"2023-02-21T17:03:12.436-7:00\\\" Side=\\\"2\\\" ID=\\\"1323492082748314109@HDPL>17786880402GR@20230105\\\" TransTyp=\\\"0\\\" Typ=\\\"17\\\" GrpID=\\\"17786880402\\\"><Hdr Snt=\\\"2023-02-21T22:25:13.545+1:00\\\" TID=\\\"MGEX\\\" SID=\\\"ABCD\\\"/><Instrmt Exch=\\\"HDPL\\\" ID=\\\"AS\\\" MMY=\\\"202305\\\" CFI=\\\"FCAPSX\\\"/><Pty ID=\\\"Karim-200\\\" R=\\\"24\\\"><Sub ID=\\\"2\\\" Typ=\\\"26\\\"/></Pty><Pty ID=\\\"210\\\" R=\\\"1\\\"/><Pty ID=\\\"XMGE\\\" R=\\\"21\\\"/><Alloc CustCpcty=\\\"2\\\" IndAllocID=\\\"3fb78\\\" Txt=\\\"notes\\\" Qty=\\\"22.0\\\"><Pty ID=\\\"MPLAMP6\\\" R=\\\"24\\\"><Sub ID=\\\"1\\\" Typ=\\\"26\\\"/></Pty><Pty ID=\\\"128\\\" R=\\\"1\\\"/><Pty ID=\\\"XMGE\\\" R=\\\"21\\\"/></Alloc></AllocInstrctn>\"\n        ],\n        \"semantic_type\": \"\",\n        \"description\": \"\"\n      }\n    },\n    {\n      \"column\": \"Workflow\",\n      \"properties\": {\n        \"dtype\": \"category\",\n        \"num_unique_values\": 1,\n        \"samples\": [\n          \"Give Up\"\n        ],\n        \"semantic_type\": \"\",\n        \"description\": \"\"\n      }\n    }\n  ]\n}"
            }
          },
          "metadata": {},
          "execution_count": 131
        }
      ]
    },
    {
      "cell_type": "code",
      "source": [
        "df3.iloc[0]['SGW_Operation']"
      ],
      "metadata": {
        "colab": {
          "base_uri": "https://localhost:8080/",
          "height": 88
        },
        "id": "SftNqQ-imJ6r",
        "outputId": "d2d2c9df-ade0-4dd2-eba1-e43abdd76dcb"
      },
      "execution_count": null,
      "outputs": [
        {
          "output_type": "execute_result",
          "data": {
            "text/plain": [
              "'<AllocInstrctn Qty=\"35.0\" BizDt=\"2023-02-05\" TrdDt=\"2022-12-21\" TxnTm=\"2023-02-15T15:33:05.333-6:00\" Side=\"1\" ID=\"2821197439223837854@BTNL>15687781502GR@20221221\" TransTyp=\"0\" Typ=\"17\" GrpID=\"15687781502\"><Hdr Snt=\"2023-02-15T22:25:13.545+1:00\" TID=\"MGEX\" SID=\"HBPL\"/><Instrmt Exch=\"BTNL\" ID=\"BUS\" MMY=\"202310\" CFI=\"FXXXXX\"/><Pty ID=\"Mohamed-300\" R=\"24\"><Sub ID=\"1\" Typ=\"26\"/></Pty><Pty ID=\"210\" R=\"1\"/><Pty ID=\"XMGE\" R=\"21\"/><Alloc CustCpcty=\"3\" IndAllocID=\"15900\" Txt=\"notes\" Qty=\"35.0\"><Pty ID=\"CUSTACT6\" R=\"24\"><Sub ID=\"2\" Typ=\"26\"/></Pty><Pty ID=\"172\" R=\"1\"/><Pty ID=\"XMGE\" R=\"21\"/></Alloc></AllocInstrctn>'"
            ],
            "application/vnd.google.colaboratory.intrinsic+json": {
              "type": "string"
            }
          },
          "metadata": {},
          "execution_count": 132
        }
      ]
    },
    {
      "cell_type": "markdown",
      "source": [
        "**Generating samples for the Split On Two Accounts Workflow**"
      ],
      "metadata": {
        "id": "GplzZFP2G-uo"
      }
    },
    {
      "cell_type": "code",
      "source": [
        "def generate_example4():\n",
        "    trdid = random.randint(20281004800, 40281004800)\n",
        "    lastpx = random.choice([100, 370, 876, 250.45, 300.9, 540.698, 1050, 2590.59])\n",
        "    trdt = random.choice([\"2022-12-17\",\"2022-12-21\",\"2023-01-02\",\"2023-01-05\"])\n",
        "    bizdt = random.choice([\"2023-01-06\",\"2023-01-11\",\"2023-01-20\",\"2023-02-05\",\"2023-02-10\"])\n",
        "    t = random.choice([\"2023-02-15\",\"2023-02-21\",\"2023-03-20\",\"2023-03-30\"])\n",
        "    time1 = random.choice(['T05:17:30','T10:18:15','T12:25:13','T16:40:55'])\n",
        "    r1 = random.choice(['.100','.230','.326'])\n",
        "    tz1 = random.choice(['-5:00','-6:00','-7:00'])\n",
        "    txntm= t+time1+r1+tz1\n",
        "    time2 = random.choice(['T17:30:55.600','T19:33:05.333','T22:03:12.436'])\n",
        "    snt2 = t+time2+'+01:00'\n",
        "    id5 = random.choice(['B','W','AS','LM','BUI','IP0'])\n",
        "    my = random.choice([\"2023-05\",\"2023-07\",\"2023-10\"])\n",
        "    mmy = my.replace('-','')\n",
        "    tid = random.choice(['ABCD','D210','B509','HBPL','TL98'])\n",
        "    id3 = random.choice([\"FIRMACT1\",\"AKLPM9\",\"MPLAMP6\",\"00120007\",\"Hassen\",\"Ahlem\",'arij'])\n",
        "    custcpcty2 = random.randint(1,4)\n",
        "    custcpcty3 = random.randint(1,4)\n",
        "    ex = random.choice(['BTNL','SNTL','HDPL','XMGE'])\n",
        "    side = random.randint(1,2)\n",
        "    id26 = random.randint(1,2)\n",
        "    id4 = random.randint(100,500)\n",
        "    cfi2 = random.choice(['FCCPXX','APYBKL','MKLPON','FCAPSX'])\n",
        "    qt1 = random.randint(2,50)\n",
        "    qt2 = random.randint(2,50)\n",
        "    id242 = random.choice(['6db3a','5cot9','najet','FIRMACT2'])\n",
        "    inalocn = random.randint(1071378091562369024,2171378091562369024)\n",
        "    trdt2 = trdt.replace('-','')\n",
        "    inch1 = random.choice(['5d135','9la98','ckpla'])\n",
        "    inch2 = random.choice(['el8ab','c2537','3tlpa'])\n",
        "    indal1 = str(inalocn)+'@'+ex+'>'+str(trdid)+'FS@'+trdt2+'||'+inch1\n",
        "    indal3 = str(inalocn)+'@'+ex+'>'+str(trdid)+'FS@'+trdt2+'||'+inch2\n",
        "    lastqty = qt1+qt2\n",
        "    return f\"\"\"<TrdCaptRpt RptID=\"{trdid}\" TrdDt=\"{trdt}\" BizDt=\"{bizdt}\" TxnTm=\"{txntm}\" TrdID=\"{trdid}\" TransTyp=\"2\" RptTyp=\"0\" LastQty=\"{float(lastqty)}\"\n",
        " LastPx=\"{float(lastpx)}\"><Hdr Snt=\"{snt2}\" TID=\"MGEX\" SID=\"{tid}\"/><Instrmt Exch=\"{ex}\" ID=\"{id5}\" MMY=\"{mmy}\" CFI=\"{cfi2}\"/><RptSide Side=\"{side}\" AllocInd=\"2\" CustCpcty=\"{custcpcty2}\"><Pty\n",
        " ID=\"210\" R=\"1\"/><Alloc Qty=\"{float(qt1)}\" CustCpcty=\"{custcpcty2}\" IndAllocID=\"{indal1}\"><Pty ID=\"{id3}\" R=\"24\"><Sub ID=\"{id26}\" Typ=\"26\"/></Pty></Alloc>\n",
        "<Alloc Qty=\"{float(qt2)}\" CustCpcty=\"{custcpcty3}\" IndAllocID=\"{indal3}\"><Pty ID=\"{id242}\" R=\"24\"><Sub ID=\"{id26}\" Typ=\"26\"/></Pty></Alloc></RptSide>\n",
        "</TrdCaptRpt>\"\"\".replace('\\n', '')"
      ],
      "metadata": {
        "id": "PLFcugQ1mVgk"
      },
      "execution_count": null,
      "outputs": []
    },
    {
      "cell_type": "code",
      "source": [
        "column1_data4 = [generate_example4() for i in range(200)]\n",
        "column2_data4 = ['Split On Two Accounts' for i in range(200)]"
      ],
      "metadata": {
        "id": "8szJaC2toxOF"
      },
      "execution_count": null,
      "outputs": []
    },
    {
      "cell_type": "markdown",
      "source": [
        "**Creating a DataFrame for the Split On Two Accounts Workflow**"
      ],
      "metadata": {
        "id": "7m0QU5ewHSWw"
      }
    },
    {
      "cell_type": "code",
      "source": [
        "df4 = pd.DataFrame({\n",
        "    'SGW_Operation': column1_data4,\n",
        "    'Workflow': column2_data4,\n",
        "})\n",
        "df4.head()"
      ],
      "metadata": {
        "colab": {
          "base_uri": "https://localhost:8080/",
          "height": 206
        },
        "id": "n-V2Q9CBpB98",
        "outputId": "9fefbb84-432d-4c65-a428-623c5f931789"
      },
      "execution_count": null,
      "outputs": [
        {
          "output_type": "execute_result",
          "data": {
            "text/plain": [
              "                                       SGW_Operation               Workflow\n",
              "0  <TrdCaptRpt RptID=\"25995164240\" TrdDt=\"2022-12...  Split On Two Accounts\n",
              "1  <TrdCaptRpt RptID=\"39530645008\" TrdDt=\"2023-01...  Split On Two Accounts\n",
              "2  <TrdCaptRpt RptID=\"27179385545\" TrdDt=\"2023-01...  Split On Two Accounts\n",
              "3  <TrdCaptRpt RptID=\"24729044355\" TrdDt=\"2023-01...  Split On Two Accounts\n",
              "4  <TrdCaptRpt RptID=\"32103359417\" TrdDt=\"2022-12...  Split On Two Accounts"
            ],
            "text/html": [
              "\n",
              "  <div id=\"df-c04f8205-33a9-45c7-a5ea-48b355dc76c0\" class=\"colab-df-container\">\n",
              "    <div>\n",
              "<style scoped>\n",
              "    .dataframe tbody tr th:only-of-type {\n",
              "        vertical-align: middle;\n",
              "    }\n",
              "\n",
              "    .dataframe tbody tr th {\n",
              "        vertical-align: top;\n",
              "    }\n",
              "\n",
              "    .dataframe thead th {\n",
              "        text-align: right;\n",
              "    }\n",
              "</style>\n",
              "<table border=\"1\" class=\"dataframe\">\n",
              "  <thead>\n",
              "    <tr style=\"text-align: right;\">\n",
              "      <th></th>\n",
              "      <th>SGW_Operation</th>\n",
              "      <th>Workflow</th>\n",
              "    </tr>\n",
              "  </thead>\n",
              "  <tbody>\n",
              "    <tr>\n",
              "      <th>0</th>\n",
              "      <td>&lt;TrdCaptRpt RptID=\"25995164240\" TrdDt=\"2022-12...</td>\n",
              "      <td>Split On Two Accounts</td>\n",
              "    </tr>\n",
              "    <tr>\n",
              "      <th>1</th>\n",
              "      <td>&lt;TrdCaptRpt RptID=\"39530645008\" TrdDt=\"2023-01...</td>\n",
              "      <td>Split On Two Accounts</td>\n",
              "    </tr>\n",
              "    <tr>\n",
              "      <th>2</th>\n",
              "      <td>&lt;TrdCaptRpt RptID=\"27179385545\" TrdDt=\"2023-01...</td>\n",
              "      <td>Split On Two Accounts</td>\n",
              "    </tr>\n",
              "    <tr>\n",
              "      <th>3</th>\n",
              "      <td>&lt;TrdCaptRpt RptID=\"24729044355\" TrdDt=\"2023-01...</td>\n",
              "      <td>Split On Two Accounts</td>\n",
              "    </tr>\n",
              "    <tr>\n",
              "      <th>4</th>\n",
              "      <td>&lt;TrdCaptRpt RptID=\"32103359417\" TrdDt=\"2022-12...</td>\n",
              "      <td>Split On Two Accounts</td>\n",
              "    </tr>\n",
              "  </tbody>\n",
              "</table>\n",
              "</div>\n",
              "    <div class=\"colab-df-buttons\">\n",
              "\n",
              "  <div class=\"colab-df-container\">\n",
              "    <button class=\"colab-df-convert\" onclick=\"convertToInteractive('df-c04f8205-33a9-45c7-a5ea-48b355dc76c0')\"\n",
              "            title=\"Convert this dataframe to an interactive table.\"\n",
              "            style=\"display:none;\">\n",
              "\n",
              "  <svg xmlns=\"http://www.w3.org/2000/svg\" height=\"24px\" viewBox=\"0 -960 960 960\">\n",
              "    <path d=\"M120-120v-720h720v720H120Zm60-500h600v-160H180v160Zm220 220h160v-160H400v160Zm0 220h160v-160H400v160ZM180-400h160v-160H180v160Zm440 0h160v-160H620v160ZM180-180h160v-160H180v160Zm440 0h160v-160H620v160Z\"/>\n",
              "  </svg>\n",
              "    </button>\n",
              "\n",
              "  <style>\n",
              "    .colab-df-container {\n",
              "      display:flex;\n",
              "      gap: 12px;\n",
              "    }\n",
              "\n",
              "    .colab-df-convert {\n",
              "      background-color: #E8F0FE;\n",
              "      border: none;\n",
              "      border-radius: 50%;\n",
              "      cursor: pointer;\n",
              "      display: none;\n",
              "      fill: #1967D2;\n",
              "      height: 32px;\n",
              "      padding: 0 0 0 0;\n",
              "      width: 32px;\n",
              "    }\n",
              "\n",
              "    .colab-df-convert:hover {\n",
              "      background-color: #E2EBFA;\n",
              "      box-shadow: 0px 1px 2px rgba(60, 64, 67, 0.3), 0px 1px 3px 1px rgba(60, 64, 67, 0.15);\n",
              "      fill: #174EA6;\n",
              "    }\n",
              "\n",
              "    .colab-df-buttons div {\n",
              "      margin-bottom: 4px;\n",
              "    }\n",
              "\n",
              "    [theme=dark] .colab-df-convert {\n",
              "      background-color: #3B4455;\n",
              "      fill: #D2E3FC;\n",
              "    }\n",
              "\n",
              "    [theme=dark] .colab-df-convert:hover {\n",
              "      background-color: #434B5C;\n",
              "      box-shadow: 0px 1px 3px 1px rgba(0, 0, 0, 0.15);\n",
              "      filter: drop-shadow(0px 1px 2px rgba(0, 0, 0, 0.3));\n",
              "      fill: #FFFFFF;\n",
              "    }\n",
              "  </style>\n",
              "\n",
              "    <script>\n",
              "      const buttonEl =\n",
              "        document.querySelector('#df-c04f8205-33a9-45c7-a5ea-48b355dc76c0 button.colab-df-convert');\n",
              "      buttonEl.style.display =\n",
              "        google.colab.kernel.accessAllowed ? 'block' : 'none';\n",
              "\n",
              "      async function convertToInteractive(key) {\n",
              "        const element = document.querySelector('#df-c04f8205-33a9-45c7-a5ea-48b355dc76c0');\n",
              "        const dataTable =\n",
              "          await google.colab.kernel.invokeFunction('convertToInteractive',\n",
              "                                                    [key], {});\n",
              "        if (!dataTable) return;\n",
              "\n",
              "        const docLinkHtml = 'Like what you see? Visit the ' +\n",
              "          '<a target=\"_blank\" href=https://colab.research.google.com/notebooks/data_table.ipynb>data table notebook</a>'\n",
              "          + ' to learn more about interactive tables.';\n",
              "        element.innerHTML = '';\n",
              "        dataTable['output_type'] = 'display_data';\n",
              "        await google.colab.output.renderOutput(dataTable, element);\n",
              "        const docLink = document.createElement('div');\n",
              "        docLink.innerHTML = docLinkHtml;\n",
              "        element.appendChild(docLink);\n",
              "      }\n",
              "    </script>\n",
              "  </div>\n",
              "\n",
              "\n",
              "<div id=\"df-cca13d5a-71f4-49b3-80dd-704888460c5b\">\n",
              "  <button class=\"colab-df-quickchart\" onclick=\"quickchart('df-cca13d5a-71f4-49b3-80dd-704888460c5b')\"\n",
              "            title=\"Suggest charts\"\n",
              "            style=\"display:none;\">\n",
              "\n",
              "<svg xmlns=\"http://www.w3.org/2000/svg\" height=\"24px\"viewBox=\"0 0 24 24\"\n",
              "     width=\"24px\">\n",
              "    <g>\n",
              "        <path d=\"M19 3H5c-1.1 0-2 .9-2 2v14c0 1.1.9 2 2 2h14c1.1 0 2-.9 2-2V5c0-1.1-.9-2-2-2zM9 17H7v-7h2v7zm4 0h-2V7h2v10zm4 0h-2v-4h2v4z\"/>\n",
              "    </g>\n",
              "</svg>\n",
              "  </button>\n",
              "\n",
              "<style>\n",
              "  .colab-df-quickchart {\n",
              "      --bg-color: #E8F0FE;\n",
              "      --fill-color: #1967D2;\n",
              "      --hover-bg-color: #E2EBFA;\n",
              "      --hover-fill-color: #174EA6;\n",
              "      --disabled-fill-color: #AAA;\n",
              "      --disabled-bg-color: #DDD;\n",
              "  }\n",
              "\n",
              "  [theme=dark] .colab-df-quickchart {\n",
              "      --bg-color: #3B4455;\n",
              "      --fill-color: #D2E3FC;\n",
              "      --hover-bg-color: #434B5C;\n",
              "      --hover-fill-color: #FFFFFF;\n",
              "      --disabled-bg-color: #3B4455;\n",
              "      --disabled-fill-color: #666;\n",
              "  }\n",
              "\n",
              "  .colab-df-quickchart {\n",
              "    background-color: var(--bg-color);\n",
              "    border: none;\n",
              "    border-radius: 50%;\n",
              "    cursor: pointer;\n",
              "    display: none;\n",
              "    fill: var(--fill-color);\n",
              "    height: 32px;\n",
              "    padding: 0;\n",
              "    width: 32px;\n",
              "  }\n",
              "\n",
              "  .colab-df-quickchart:hover {\n",
              "    background-color: var(--hover-bg-color);\n",
              "    box-shadow: 0 1px 2px rgba(60, 64, 67, 0.3), 0 1px 3px 1px rgba(60, 64, 67, 0.15);\n",
              "    fill: var(--button-hover-fill-color);\n",
              "  }\n",
              "\n",
              "  .colab-df-quickchart-complete:disabled,\n",
              "  .colab-df-quickchart-complete:disabled:hover {\n",
              "    background-color: var(--disabled-bg-color);\n",
              "    fill: var(--disabled-fill-color);\n",
              "    box-shadow: none;\n",
              "  }\n",
              "\n",
              "  .colab-df-spinner {\n",
              "    border: 2px solid var(--fill-color);\n",
              "    border-color: transparent;\n",
              "    border-bottom-color: var(--fill-color);\n",
              "    animation:\n",
              "      spin 1s steps(1) infinite;\n",
              "  }\n",
              "\n",
              "  @keyframes spin {\n",
              "    0% {\n",
              "      border-color: transparent;\n",
              "      border-bottom-color: var(--fill-color);\n",
              "      border-left-color: var(--fill-color);\n",
              "    }\n",
              "    20% {\n",
              "      border-color: transparent;\n",
              "      border-left-color: var(--fill-color);\n",
              "      border-top-color: var(--fill-color);\n",
              "    }\n",
              "    30% {\n",
              "      border-color: transparent;\n",
              "      border-left-color: var(--fill-color);\n",
              "      border-top-color: var(--fill-color);\n",
              "      border-right-color: var(--fill-color);\n",
              "    }\n",
              "    40% {\n",
              "      border-color: transparent;\n",
              "      border-right-color: var(--fill-color);\n",
              "      border-top-color: var(--fill-color);\n",
              "    }\n",
              "    60% {\n",
              "      border-color: transparent;\n",
              "      border-right-color: var(--fill-color);\n",
              "    }\n",
              "    80% {\n",
              "      border-color: transparent;\n",
              "      border-right-color: var(--fill-color);\n",
              "      border-bottom-color: var(--fill-color);\n",
              "    }\n",
              "    90% {\n",
              "      border-color: transparent;\n",
              "      border-bottom-color: var(--fill-color);\n",
              "    }\n",
              "  }\n",
              "</style>\n",
              "\n",
              "  <script>\n",
              "    async function quickchart(key) {\n",
              "      const quickchartButtonEl =\n",
              "        document.querySelector('#' + key + ' button');\n",
              "      quickchartButtonEl.disabled = true;  // To prevent multiple clicks.\n",
              "      quickchartButtonEl.classList.add('colab-df-spinner');\n",
              "      try {\n",
              "        const charts = await google.colab.kernel.invokeFunction(\n",
              "            'suggestCharts', [key], {});\n",
              "      } catch (error) {\n",
              "        console.error('Error during call to suggestCharts:', error);\n",
              "      }\n",
              "      quickchartButtonEl.classList.remove('colab-df-spinner');\n",
              "      quickchartButtonEl.classList.add('colab-df-quickchart-complete');\n",
              "    }\n",
              "    (() => {\n",
              "      let quickchartButtonEl =\n",
              "        document.querySelector('#df-cca13d5a-71f4-49b3-80dd-704888460c5b button');\n",
              "      quickchartButtonEl.style.display =\n",
              "        google.colab.kernel.accessAllowed ? 'block' : 'none';\n",
              "    })();\n",
              "  </script>\n",
              "</div>\n",
              "\n",
              "    </div>\n",
              "  </div>\n"
            ],
            "application/vnd.google.colaboratory.intrinsic+json": {
              "type": "dataframe",
              "variable_name": "df4",
              "summary": "{\n  \"name\": \"df4\",\n  \"rows\": 200,\n  \"fields\": [\n    {\n      \"column\": \"SGW_Operation\",\n      \"properties\": {\n        \"dtype\": \"string\",\n        \"num_unique_values\": 200,\n        \"samples\": [\n          \"<TrdCaptRpt RptID=\\\"36239777326\\\" TrdDt=\\\"2022-12-17\\\" BizDt=\\\"2023-02-05\\\" TxnTm=\\\"2023-03-30T16:40:55.100-7:00\\\" TrdID=\\\"36239777326\\\" TransTyp=\\\"2\\\" RptTyp=\\\"0\\\" LastQty=\\\"52.0\\\" LastPx=\\\"2590.59\\\"><Hdr Snt=\\\"2023-03-30T22:03:12.436+01:00\\\" TID=\\\"MGEX\\\" SID=\\\"HBPL\\\"/><Instrmt Exch=\\\"BTNL\\\" ID=\\\"BUI\\\" MMY=\\\"202307\\\" CFI=\\\"APYBKL\\\"/><RptSide Side=\\\"1\\\" AllocInd=\\\"2\\\" CustCpcty=\\\"4\\\"><Pty ID=\\\"210\\\" R=\\\"1\\\"/><Alloc Qty=\\\"16.0\\\" CustCpcty=\\\"4\\\" IndAllocID=\\\"1235202262614700946@BTNL>36239777326FS@20221217||9la98\\\"><Pty ID=\\\"Ahlem\\\" R=\\\"24\\\"><Sub ID=\\\"2\\\" Typ=\\\"26\\\"/></Pty></Alloc><Alloc Qty=\\\"36.0\\\" CustCpcty=\\\"1\\\" IndAllocID=\\\"1235202262614700946@BTNL>36239777326FS@20221217||3tlpa\\\"><Pty ID=\\\"5cot9\\\" R=\\\"24\\\"><Sub ID=\\\"2\\\" Typ=\\\"26\\\"/></Pty></Alloc></RptSide></TrdCaptRpt>\",\n          \"<TrdCaptRpt RptID=\\\"22572900612\\\" TrdDt=\\\"2023-01-05\\\" BizDt=\\\"2023-02-10\\\" TxnTm=\\\"2023-03-20T10:18:15.326-7:00\\\" TrdID=\\\"22572900612\\\" TransTyp=\\\"2\\\" RptTyp=\\\"0\\\" LastQty=\\\"39.0\\\" LastPx=\\\"876.0\\\"><Hdr Snt=\\\"2023-03-20T17:30:55.600+01:00\\\" TID=\\\"MGEX\\\" SID=\\\"TL98\\\"/><Instrmt Exch=\\\"SNTL\\\" ID=\\\"AS\\\" MMY=\\\"202305\\\" CFI=\\\"APYBKL\\\"/><RptSide Side=\\\"1\\\" AllocInd=\\\"2\\\" CustCpcty=\\\"1\\\"><Pty ID=\\\"210\\\" R=\\\"1\\\"/><Alloc Qty=\\\"23.0\\\" CustCpcty=\\\"1\\\" IndAllocID=\\\"1143017578245292894@SNTL>22572900612FS@20230105||9la98\\\"><Pty ID=\\\"arij\\\" R=\\\"24\\\"><Sub ID=\\\"1\\\" Typ=\\\"26\\\"/></Pty></Alloc><Alloc Qty=\\\"16.0\\\" CustCpcty=\\\"2\\\" IndAllocID=\\\"1143017578245292894@SNTL>22572900612FS@20230105||c2537\\\"><Pty ID=\\\"5cot9\\\" R=\\\"24\\\"><Sub ID=\\\"1\\\" Typ=\\\"26\\\"/></Pty></Alloc></RptSide></TrdCaptRpt>\",\n          \"<TrdCaptRpt RptID=\\\"35298964780\\\" TrdDt=\\\"2022-12-21\\\" BizDt=\\\"2023-01-06\\\" TxnTm=\\\"2023-02-15T10:18:15.230-6:00\\\" TrdID=\\\"35298964780\\\" TransTyp=\\\"2\\\" RptTyp=\\\"0\\\" LastQty=\\\"91.0\\\" LastPx=\\\"250.45\\\"><Hdr Snt=\\\"2023-02-15T19:33:05.333+01:00\\\" TID=\\\"MGEX\\\" SID=\\\"B509\\\"/><Instrmt Exch=\\\"HDPL\\\" ID=\\\"W\\\" MMY=\\\"202307\\\" CFI=\\\"MKLPON\\\"/><RptSide Side=\\\"2\\\" AllocInd=\\\"2\\\" CustCpcty=\\\"2\\\"><Pty ID=\\\"210\\\" R=\\\"1\\\"/><Alloc Qty=\\\"46.0\\\" CustCpcty=\\\"2\\\" IndAllocID=\\\"1916321512752314483@HDPL>35298964780FS@20221221||5d135\\\"><Pty ID=\\\"Hassen\\\" R=\\\"24\\\"><Sub ID=\\\"2\\\" Typ=\\\"26\\\"/></Pty></Alloc><Alloc Qty=\\\"45.0\\\" CustCpcty=\\\"1\\\" IndAllocID=\\\"1916321512752314483@HDPL>35298964780FS@20221221||c2537\\\"><Pty ID=\\\"FIRMACT2\\\" R=\\\"24\\\"><Sub ID=\\\"2\\\" Typ=\\\"26\\\"/></Pty></Alloc></RptSide></TrdCaptRpt>\"\n        ],\n        \"semantic_type\": \"\",\n        \"description\": \"\"\n      }\n    },\n    {\n      \"column\": \"Workflow\",\n      \"properties\": {\n        \"dtype\": \"category\",\n        \"num_unique_values\": 1,\n        \"samples\": [\n          \"Split On Two Accounts\"\n        ],\n        \"semantic_type\": \"\",\n        \"description\": \"\"\n      }\n    }\n  ]\n}"
            }
          },
          "metadata": {},
          "execution_count": 135
        }
      ]
    },
    {
      "cell_type": "code",
      "source": [
        "df4.iloc[0]['SGW_Operation']"
      ],
      "metadata": {
        "colab": {
          "base_uri": "https://localhost:8080/",
          "height": 88
        },
        "id": "u1tLZjKYpKNi",
        "outputId": "62829666-c8d3-4044-aa88-a656c97e0a7d"
      },
      "execution_count": null,
      "outputs": [
        {
          "output_type": "execute_result",
          "data": {
            "text/plain": [
              "'<TrdCaptRpt RptID=\"25995164240\" TrdDt=\"2022-12-17\" BizDt=\"2023-01-06\" TxnTm=\"2023-02-15T05:17:30.326-6:00\" TrdID=\"25995164240\" TransTyp=\"2\" RptTyp=\"0\" LastQty=\"31.0\" LastPx=\"1050.0\"><Hdr Snt=\"2023-02-15T19:33:05.333+01:00\" TID=\"MGEX\" SID=\"TL98\"/><Instrmt Exch=\"XMGE\" ID=\"B\" MMY=\"202310\" CFI=\"FCCPXX\"/><RptSide Side=\"1\" AllocInd=\"2\" CustCpcty=\"4\"><Pty ID=\"210\" R=\"1\"/><Alloc Qty=\"27.0\" CustCpcty=\"4\" IndAllocID=\"1102504308860159863@XMGE>25995164240FS@20221217||5d135\"><Pty ID=\"FIRMACT1\" R=\"24\"><Sub ID=\"2\" Typ=\"26\"/></Pty></Alloc><Alloc Qty=\"4.0\" CustCpcty=\"4\" IndAllocID=\"1102504308860159863@XMGE>25995164240FS@20221217||c2537\"><Pty ID=\"5cot9\" R=\"24\"><Sub ID=\"2\" Typ=\"26\"/></Pty></Alloc></RptSide></TrdCaptRpt>'"
            ],
            "application/vnd.google.colaboratory.intrinsic+json": {
              "type": "string"
            }
          },
          "metadata": {},
          "execution_count": 136
        }
      ]
    },
    {
      "cell_type": "markdown",
      "source": [
        "**Generating samples for the Split On Three Accounts Workflow**"
      ],
      "metadata": {
        "id": "UNU2U9OOHZkH"
      }
    },
    {
      "cell_type": "code",
      "source": [
        "def generate_example5():\n",
        "    trdid = random.randint(20281004800, 40281004800)\n",
        "    lastpx = random.choice([100, 370, 876, 250.45, 300.9, 540.698, 1050, 2590.59])\n",
        "    trdt = random.choice([\"2022-12-17\",\"2022-12-21\",\"2023-01-02\",\"2023-01-05\"])\n",
        "    bizdt = random.choice([\"2023-01-06\",\"2023-01-11\",\"2023-01-20\",\"2023-02-05\",\"2023-02-10\"])\n",
        "    t = random.choice([\"2023-02-15\",\"2023-02-21\",\"2023-03-20\",\"2023-03-30\"])\n",
        "    time1 = random.choice(['T05:17:30','T10:18:15','T12:25:13','T16:40:55'])\n",
        "    r1 = random.choice(['.100','.230','.326'])\n",
        "    tz1 = random.choice(['-5:00','-6:00','-7:00'])\n",
        "    txntm= t+time1+r1+tz1\n",
        "    time2 = random.choice(['T17:30:55.600','T19:33:05.333','T22:03:12.436'])\n",
        "    snt2 = t+time2+'+01:00'\n",
        "    id5 = random.choice(['B','W','AS','LM','BUI','IP0'])\n",
        "    my = random.choice([\"2023-05\",\"2023-07\",\"2023-10\"])\n",
        "    mmy = my.replace('-','')\n",
        "    tid = random.choice(['ABCD','D210','B509','HBPL','TL98'])\n",
        "    id3 = random.choice([\"FIRMACT1\",\"AKLPM9\",\"MPLAMP6\",\"00120007\",\"Hassen\",\"Ahlem\",'arij'])\n",
        "    custcpcty2 = random.randint(1,4)\n",
        "    custcpcty3 = random.randint(1,4)\n",
        "    ex = random.choice(['BTNL','SNTL','HDPL','XMGE'])\n",
        "    side = random.randint(1,2)\n",
        "    id26 = random.randint(1,2)\n",
        "    id4 = random.randint(100,500)\n",
        "    cfi2 = random.choice(['FCCPXX','APYBKL','MKLPON','FCAPSX'])\n",
        "    qt1 = random.randint(2,50)\n",
        "    qt2 = random.randint(2,50)\n",
        "    id242 = random.choice(['6db3a','5cot9','najet','FIRMACT2'])\n",
        "    inalocn = random.randint(1071378091562369024,2171378091562369024)\n",
        "    trdt2 = trdt.replace('-','')\n",
        "    inch1 = random.choice(['5d135','9la98','ckpla'])\n",
        "    inch2 = random.choice(['el8ab','c2537','3tlpa'])\n",
        "    indal1 = str(inalocn)+'@'+ex+'>'+str(trdid)+'FS@'+trdt2+'||'+inch1\n",
        "    indal3 = str(inalocn)+'@'+ex+'>'+str(trdid)+'FS@'+trdt2+'||'+inch2\n",
        "    qt3 = random.randint(2,50)\n",
        "    custcpcty4 = random.randint(1,4)\n",
        "    inch3 = random.choice(['6blp9','amp87','mplo5'])\n",
        "    indal4 = str(inalocn)+'@'+ex+'>'+str(trdid)+'FS@'+trdt2+'||'+inch3\n",
        "    id243 = random.choice(['plot7','marwa','4hmpt'])\n",
        "    lastqty = qt1+qt2+qt3\n",
        "    return f\"\"\"<TrdCaptRpt RptID=\"{trdid}\" TrdDt=\"{trdt}\" BizDt=\"{bizdt}\" TxnTm=\"{txntm}\" TrdID=\"{trdid}\" TransTyp=\"2\" RptTyp=\"0\" LastQty=\"{float(lastqty)}\"\n",
        " LastPx=\"{float(lastpx)}\"><Hdr Snt=\"{snt2}\" TID=\"MGEX\" SID=\"{tid}\"/><Instrmt Exch=\"{ex}\" ID=\"{id5}\" MMY=\"{mmy}\" CFI=\"{cfi2}\"/><RptSide Side=\"{side}\" AllocInd=\"2\" CustCpcty=\"{custcpcty2}\"><Pty\n",
        " ID=\"210\" R=\"1\"/><Alloc Qty=\"{float(qt1)}\" CustCpcty=\"{custcpcty2}\" IndAllocID=\"{indal1}\"><Pty ID=\"{id3}\" R=\"24\"><Sub ID=\"{id26}\" Typ=\"26\"/></Pty></Alloc>\n",
        "<Alloc Qty=\"{float(qt2)}\" CustCpcty=\"{custcpcty3}\" IndAllocID=\"{indal3}\"><Pty ID=\"{id242}\" R=\"24\"><Sub ID=\"{id26}\" Typ=\"26\"/></Pty></Alloc><Alloc Qty=\"{float(qt3)}\" CustCpcty=\"{custcpcty4}\"\n",
        " IndAllocID=\"{indal4}\"><Pty ID=\"{id243}\" R=\"24\"><Sub ID=\"{id26}\" Typ=\"26\"/></Pty></Alloc></RptSide>\n",
        "</TrdCaptRpt>\"\"\".replace('\\n', '')"
      ],
      "metadata": {
        "id": "j3qMeH73pvUE"
      },
      "execution_count": null,
      "outputs": []
    },
    {
      "cell_type": "code",
      "source": [
        "column1_data5 = [generate_example5() for i in range(200)]\n",
        "column2_data5 = ['Split On Three Accounts' for i in range(200)]"
      ],
      "metadata": {
        "id": "1Ns-2l-5tMx7"
      },
      "execution_count": null,
      "outputs": []
    },
    {
      "cell_type": "markdown",
      "source": [
        "**Creating a DataFrame for the Split On Three Accounts Workflow**"
      ],
      "metadata": {
        "id": "zlw7HTE-Hle_"
      }
    },
    {
      "cell_type": "code",
      "source": [
        "df5 = pd.DataFrame({\n",
        "    'SGW_Operation': column1_data5,\n",
        "    'Workflow': column2_data5,\n",
        "})\n",
        "df5.head()"
      ],
      "metadata": {
        "colab": {
          "base_uri": "https://localhost:8080/",
          "height": 206
        },
        "id": "bkO-sD5vtq7Q",
        "outputId": "dcd46140-2f0b-49c4-83fe-ff5f0ff0594b"
      },
      "execution_count": null,
      "outputs": [
        {
          "output_type": "execute_result",
          "data": {
            "text/plain": [
              "                                       SGW_Operation                 Workflow\n",
              "0  <TrdCaptRpt RptID=\"37074053090\" TrdDt=\"2023-01...  Split On Three Accounts\n",
              "1  <TrdCaptRpt RptID=\"35667199957\" TrdDt=\"2022-12...  Split On Three Accounts\n",
              "2  <TrdCaptRpt RptID=\"31037933701\" TrdDt=\"2023-01...  Split On Three Accounts\n",
              "3  <TrdCaptRpt RptID=\"20856659854\" TrdDt=\"2022-12...  Split On Three Accounts\n",
              "4  <TrdCaptRpt RptID=\"27369132451\" TrdDt=\"2023-01...  Split On Three Accounts"
            ],
            "text/html": [
              "\n",
              "  <div id=\"df-5d5b19a6-c85c-4eea-aaa2-a6e6f776c002\" class=\"colab-df-container\">\n",
              "    <div>\n",
              "<style scoped>\n",
              "    .dataframe tbody tr th:only-of-type {\n",
              "        vertical-align: middle;\n",
              "    }\n",
              "\n",
              "    .dataframe tbody tr th {\n",
              "        vertical-align: top;\n",
              "    }\n",
              "\n",
              "    .dataframe thead th {\n",
              "        text-align: right;\n",
              "    }\n",
              "</style>\n",
              "<table border=\"1\" class=\"dataframe\">\n",
              "  <thead>\n",
              "    <tr style=\"text-align: right;\">\n",
              "      <th></th>\n",
              "      <th>SGW_Operation</th>\n",
              "      <th>Workflow</th>\n",
              "    </tr>\n",
              "  </thead>\n",
              "  <tbody>\n",
              "    <tr>\n",
              "      <th>0</th>\n",
              "      <td>&lt;TrdCaptRpt RptID=\"37074053090\" TrdDt=\"2023-01...</td>\n",
              "      <td>Split On Three Accounts</td>\n",
              "    </tr>\n",
              "    <tr>\n",
              "      <th>1</th>\n",
              "      <td>&lt;TrdCaptRpt RptID=\"35667199957\" TrdDt=\"2022-12...</td>\n",
              "      <td>Split On Three Accounts</td>\n",
              "    </tr>\n",
              "    <tr>\n",
              "      <th>2</th>\n",
              "      <td>&lt;TrdCaptRpt RptID=\"31037933701\" TrdDt=\"2023-01...</td>\n",
              "      <td>Split On Three Accounts</td>\n",
              "    </tr>\n",
              "    <tr>\n",
              "      <th>3</th>\n",
              "      <td>&lt;TrdCaptRpt RptID=\"20856659854\" TrdDt=\"2022-12...</td>\n",
              "      <td>Split On Three Accounts</td>\n",
              "    </tr>\n",
              "    <tr>\n",
              "      <th>4</th>\n",
              "      <td>&lt;TrdCaptRpt RptID=\"27369132451\" TrdDt=\"2023-01...</td>\n",
              "      <td>Split On Three Accounts</td>\n",
              "    </tr>\n",
              "  </tbody>\n",
              "</table>\n",
              "</div>\n",
              "    <div class=\"colab-df-buttons\">\n",
              "\n",
              "  <div class=\"colab-df-container\">\n",
              "    <button class=\"colab-df-convert\" onclick=\"convertToInteractive('df-5d5b19a6-c85c-4eea-aaa2-a6e6f776c002')\"\n",
              "            title=\"Convert this dataframe to an interactive table.\"\n",
              "            style=\"display:none;\">\n",
              "\n",
              "  <svg xmlns=\"http://www.w3.org/2000/svg\" height=\"24px\" viewBox=\"0 -960 960 960\">\n",
              "    <path d=\"M120-120v-720h720v720H120Zm60-500h600v-160H180v160Zm220 220h160v-160H400v160Zm0 220h160v-160H400v160ZM180-400h160v-160H180v160Zm440 0h160v-160H620v160ZM180-180h160v-160H180v160Zm440 0h160v-160H620v160Z\"/>\n",
              "  </svg>\n",
              "    </button>\n",
              "\n",
              "  <style>\n",
              "    .colab-df-container {\n",
              "      display:flex;\n",
              "      gap: 12px;\n",
              "    }\n",
              "\n",
              "    .colab-df-convert {\n",
              "      background-color: #E8F0FE;\n",
              "      border: none;\n",
              "      border-radius: 50%;\n",
              "      cursor: pointer;\n",
              "      display: none;\n",
              "      fill: #1967D2;\n",
              "      height: 32px;\n",
              "      padding: 0 0 0 0;\n",
              "      width: 32px;\n",
              "    }\n",
              "\n",
              "    .colab-df-convert:hover {\n",
              "      background-color: #E2EBFA;\n",
              "      box-shadow: 0px 1px 2px rgba(60, 64, 67, 0.3), 0px 1px 3px 1px rgba(60, 64, 67, 0.15);\n",
              "      fill: #174EA6;\n",
              "    }\n",
              "\n",
              "    .colab-df-buttons div {\n",
              "      margin-bottom: 4px;\n",
              "    }\n",
              "\n",
              "    [theme=dark] .colab-df-convert {\n",
              "      background-color: #3B4455;\n",
              "      fill: #D2E3FC;\n",
              "    }\n",
              "\n",
              "    [theme=dark] .colab-df-convert:hover {\n",
              "      background-color: #434B5C;\n",
              "      box-shadow: 0px 1px 3px 1px rgba(0, 0, 0, 0.15);\n",
              "      filter: drop-shadow(0px 1px 2px rgba(0, 0, 0, 0.3));\n",
              "      fill: #FFFFFF;\n",
              "    }\n",
              "  </style>\n",
              "\n",
              "    <script>\n",
              "      const buttonEl =\n",
              "        document.querySelector('#df-5d5b19a6-c85c-4eea-aaa2-a6e6f776c002 button.colab-df-convert');\n",
              "      buttonEl.style.display =\n",
              "        google.colab.kernel.accessAllowed ? 'block' : 'none';\n",
              "\n",
              "      async function convertToInteractive(key) {\n",
              "        const element = document.querySelector('#df-5d5b19a6-c85c-4eea-aaa2-a6e6f776c002');\n",
              "        const dataTable =\n",
              "          await google.colab.kernel.invokeFunction('convertToInteractive',\n",
              "                                                    [key], {});\n",
              "        if (!dataTable) return;\n",
              "\n",
              "        const docLinkHtml = 'Like what you see? Visit the ' +\n",
              "          '<a target=\"_blank\" href=https://colab.research.google.com/notebooks/data_table.ipynb>data table notebook</a>'\n",
              "          + ' to learn more about interactive tables.';\n",
              "        element.innerHTML = '';\n",
              "        dataTable['output_type'] = 'display_data';\n",
              "        await google.colab.output.renderOutput(dataTable, element);\n",
              "        const docLink = document.createElement('div');\n",
              "        docLink.innerHTML = docLinkHtml;\n",
              "        element.appendChild(docLink);\n",
              "      }\n",
              "    </script>\n",
              "  </div>\n",
              "\n",
              "\n",
              "<div id=\"df-3399b382-f890-4281-b882-1ec6c3f2ed16\">\n",
              "  <button class=\"colab-df-quickchart\" onclick=\"quickchart('df-3399b382-f890-4281-b882-1ec6c3f2ed16')\"\n",
              "            title=\"Suggest charts\"\n",
              "            style=\"display:none;\">\n",
              "\n",
              "<svg xmlns=\"http://www.w3.org/2000/svg\" height=\"24px\"viewBox=\"0 0 24 24\"\n",
              "     width=\"24px\">\n",
              "    <g>\n",
              "        <path d=\"M19 3H5c-1.1 0-2 .9-2 2v14c0 1.1.9 2 2 2h14c1.1 0 2-.9 2-2V5c0-1.1-.9-2-2-2zM9 17H7v-7h2v7zm4 0h-2V7h2v10zm4 0h-2v-4h2v4z\"/>\n",
              "    </g>\n",
              "</svg>\n",
              "  </button>\n",
              "\n",
              "<style>\n",
              "  .colab-df-quickchart {\n",
              "      --bg-color: #E8F0FE;\n",
              "      --fill-color: #1967D2;\n",
              "      --hover-bg-color: #E2EBFA;\n",
              "      --hover-fill-color: #174EA6;\n",
              "      --disabled-fill-color: #AAA;\n",
              "      --disabled-bg-color: #DDD;\n",
              "  }\n",
              "\n",
              "  [theme=dark] .colab-df-quickchart {\n",
              "      --bg-color: #3B4455;\n",
              "      --fill-color: #D2E3FC;\n",
              "      --hover-bg-color: #434B5C;\n",
              "      --hover-fill-color: #FFFFFF;\n",
              "      --disabled-bg-color: #3B4455;\n",
              "      --disabled-fill-color: #666;\n",
              "  }\n",
              "\n",
              "  .colab-df-quickchart {\n",
              "    background-color: var(--bg-color);\n",
              "    border: none;\n",
              "    border-radius: 50%;\n",
              "    cursor: pointer;\n",
              "    display: none;\n",
              "    fill: var(--fill-color);\n",
              "    height: 32px;\n",
              "    padding: 0;\n",
              "    width: 32px;\n",
              "  }\n",
              "\n",
              "  .colab-df-quickchart:hover {\n",
              "    background-color: var(--hover-bg-color);\n",
              "    box-shadow: 0 1px 2px rgba(60, 64, 67, 0.3), 0 1px 3px 1px rgba(60, 64, 67, 0.15);\n",
              "    fill: var(--button-hover-fill-color);\n",
              "  }\n",
              "\n",
              "  .colab-df-quickchart-complete:disabled,\n",
              "  .colab-df-quickchart-complete:disabled:hover {\n",
              "    background-color: var(--disabled-bg-color);\n",
              "    fill: var(--disabled-fill-color);\n",
              "    box-shadow: none;\n",
              "  }\n",
              "\n",
              "  .colab-df-spinner {\n",
              "    border: 2px solid var(--fill-color);\n",
              "    border-color: transparent;\n",
              "    border-bottom-color: var(--fill-color);\n",
              "    animation:\n",
              "      spin 1s steps(1) infinite;\n",
              "  }\n",
              "\n",
              "  @keyframes spin {\n",
              "    0% {\n",
              "      border-color: transparent;\n",
              "      border-bottom-color: var(--fill-color);\n",
              "      border-left-color: var(--fill-color);\n",
              "    }\n",
              "    20% {\n",
              "      border-color: transparent;\n",
              "      border-left-color: var(--fill-color);\n",
              "      border-top-color: var(--fill-color);\n",
              "    }\n",
              "    30% {\n",
              "      border-color: transparent;\n",
              "      border-left-color: var(--fill-color);\n",
              "      border-top-color: var(--fill-color);\n",
              "      border-right-color: var(--fill-color);\n",
              "    }\n",
              "    40% {\n",
              "      border-color: transparent;\n",
              "      border-right-color: var(--fill-color);\n",
              "      border-top-color: var(--fill-color);\n",
              "    }\n",
              "    60% {\n",
              "      border-color: transparent;\n",
              "      border-right-color: var(--fill-color);\n",
              "    }\n",
              "    80% {\n",
              "      border-color: transparent;\n",
              "      border-right-color: var(--fill-color);\n",
              "      border-bottom-color: var(--fill-color);\n",
              "    }\n",
              "    90% {\n",
              "      border-color: transparent;\n",
              "      border-bottom-color: var(--fill-color);\n",
              "    }\n",
              "  }\n",
              "</style>\n",
              "\n",
              "  <script>\n",
              "    async function quickchart(key) {\n",
              "      const quickchartButtonEl =\n",
              "        document.querySelector('#' + key + ' button');\n",
              "      quickchartButtonEl.disabled = true;  // To prevent multiple clicks.\n",
              "      quickchartButtonEl.classList.add('colab-df-spinner');\n",
              "      try {\n",
              "        const charts = await google.colab.kernel.invokeFunction(\n",
              "            'suggestCharts', [key], {});\n",
              "      } catch (error) {\n",
              "        console.error('Error during call to suggestCharts:', error);\n",
              "      }\n",
              "      quickchartButtonEl.classList.remove('colab-df-spinner');\n",
              "      quickchartButtonEl.classList.add('colab-df-quickchart-complete');\n",
              "    }\n",
              "    (() => {\n",
              "      let quickchartButtonEl =\n",
              "        document.querySelector('#df-3399b382-f890-4281-b882-1ec6c3f2ed16 button');\n",
              "      quickchartButtonEl.style.display =\n",
              "        google.colab.kernel.accessAllowed ? 'block' : 'none';\n",
              "    })();\n",
              "  </script>\n",
              "</div>\n",
              "\n",
              "    </div>\n",
              "  </div>\n"
            ],
            "application/vnd.google.colaboratory.intrinsic+json": {
              "type": "dataframe",
              "variable_name": "df5",
              "summary": "{\n  \"name\": \"df5\",\n  \"rows\": 200,\n  \"fields\": [\n    {\n      \"column\": \"SGW_Operation\",\n      \"properties\": {\n        \"dtype\": \"string\",\n        \"num_unique_values\": 200,\n        \"samples\": [\n          \"<TrdCaptRpt RptID=\\\"22766120010\\\" TrdDt=\\\"2022-12-21\\\" BizDt=\\\"2023-01-20\\\" TxnTm=\\\"2023-03-30T10:18:15.326-6:00\\\" TrdID=\\\"22766120010\\\" TransTyp=\\\"2\\\" RptTyp=\\\"0\\\" LastQty=\\\"87.0\\\" LastPx=\\\"370.0\\\"><Hdr Snt=\\\"2023-03-30T22:03:12.436+01:00\\\" TID=\\\"MGEX\\\" SID=\\\"ABCD\\\"/><Instrmt Exch=\\\"XMGE\\\" ID=\\\"LM\\\" MMY=\\\"202307\\\" CFI=\\\"FCCPXX\\\"/><RptSide Side=\\\"2\\\" AllocInd=\\\"2\\\" CustCpcty=\\\"4\\\"><Pty ID=\\\"210\\\" R=\\\"1\\\"/><Alloc Qty=\\\"35.0\\\" CustCpcty=\\\"4\\\" IndAllocID=\\\"1398345656727174075@XMGE>22766120010FS@20221221||9la98\\\"><Pty ID=\\\"arij\\\" R=\\\"24\\\"><Sub ID=\\\"1\\\" Typ=\\\"26\\\"/></Pty></Alloc><Alloc Qty=\\\"10.0\\\" CustCpcty=\\\"4\\\" IndAllocID=\\\"1398345656727174075@XMGE>22766120010FS@20221221||el8ab\\\"><Pty ID=\\\"5cot9\\\" R=\\\"24\\\"><Sub ID=\\\"1\\\" Typ=\\\"26\\\"/></Pty></Alloc><Alloc Qty=\\\"42.0\\\" CustCpcty=\\\"3\\\" IndAllocID=\\\"1398345656727174075@XMGE>22766120010FS@20221221||mplo5\\\"><Pty ID=\\\"plot7\\\" R=\\\"24\\\"><Sub ID=\\\"1\\\" Typ=\\\"26\\\"/></Pty></Alloc></RptSide></TrdCaptRpt>\",\n          \"<TrdCaptRpt RptID=\\\"38681915757\\\" TrdDt=\\\"2022-12-21\\\" BizDt=\\\"2023-01-20\\\" TxnTm=\\\"2023-02-21T12:25:13.326-7:00\\\" TrdID=\\\"38681915757\\\" TransTyp=\\\"2\\\" RptTyp=\\\"0\\\" LastQty=\\\"109.0\\\" LastPx=\\\"1050.0\\\"><Hdr Snt=\\\"2023-02-21T22:03:12.436+01:00\\\" TID=\\\"MGEX\\\" SID=\\\"TL98\\\"/><Instrmt Exch=\\\"XMGE\\\" ID=\\\"B\\\" MMY=\\\"202310\\\" CFI=\\\"FCCPXX\\\"/><RptSide Side=\\\"2\\\" AllocInd=\\\"2\\\" CustCpcty=\\\"2\\\"><Pty ID=\\\"210\\\" R=\\\"1\\\"/><Alloc Qty=\\\"46.0\\\" CustCpcty=\\\"2\\\" IndAllocID=\\\"1761162848933943874@XMGE>38681915757FS@20221221||5d135\\\"><Pty ID=\\\"FIRMACT1\\\" R=\\\"24\\\"><Sub ID=\\\"2\\\" Typ=\\\"26\\\"/></Pty></Alloc><Alloc Qty=\\\"30.0\\\" CustCpcty=\\\"3\\\" IndAllocID=\\\"1761162848933943874@XMGE>38681915757FS@20221221||c2537\\\"><Pty ID=\\\"najet\\\" R=\\\"24\\\"><Sub ID=\\\"2\\\" Typ=\\\"26\\\"/></Pty></Alloc><Alloc Qty=\\\"33.0\\\" CustCpcty=\\\"3\\\" IndAllocID=\\\"1761162848933943874@XMGE>38681915757FS@20221221||amp87\\\"><Pty ID=\\\"plot7\\\" R=\\\"24\\\"><Sub ID=\\\"2\\\" Typ=\\\"26\\\"/></Pty></Alloc></RptSide></TrdCaptRpt>\",\n          \"<TrdCaptRpt RptID=\\\"25615495591\\\" TrdDt=\\\"2023-01-05\\\" BizDt=\\\"2023-01-06\\\" TxnTm=\\\"2023-02-15T05:17:30.230-7:00\\\" TrdID=\\\"25615495591\\\" TransTyp=\\\"2\\\" RptTyp=\\\"0\\\" LastQty=\\\"42.0\\\" LastPx=\\\"1050.0\\\"><Hdr Snt=\\\"2023-02-15T19:33:05.333+01:00\\\" TID=\\\"MGEX\\\" SID=\\\"D210\\\"/><Instrmt Exch=\\\"BTNL\\\" ID=\\\"W\\\" MMY=\\\"202307\\\" CFI=\\\"APYBKL\\\"/><RptSide Side=\\\"1\\\" AllocInd=\\\"2\\\" CustCpcty=\\\"2\\\"><Pty ID=\\\"210\\\" R=\\\"1\\\"/><Alloc Qty=\\\"4.0\\\" CustCpcty=\\\"2\\\" IndAllocID=\\\"1338912988305893252@BTNL>25615495591FS@20230105||9la98\\\"><Pty ID=\\\"arij\\\" R=\\\"24\\\"><Sub ID=\\\"1\\\" Typ=\\\"26\\\"/></Pty></Alloc><Alloc Qty=\\\"11.0\\\" CustCpcty=\\\"1\\\" IndAllocID=\\\"1338912988305893252@BTNL>25615495591FS@20230105||c2537\\\"><Pty ID=\\\"6db3a\\\" R=\\\"24\\\"><Sub ID=\\\"1\\\" Typ=\\\"26\\\"/></Pty></Alloc><Alloc Qty=\\\"27.0\\\" CustCpcty=\\\"2\\\" IndAllocID=\\\"1338912988305893252@BTNL>25615495591FS@20230105||amp87\\\"><Pty ID=\\\"plot7\\\" R=\\\"24\\\"><Sub ID=\\\"1\\\" Typ=\\\"26\\\"/></Pty></Alloc></RptSide></TrdCaptRpt>\"\n        ],\n        \"semantic_type\": \"\",\n        \"description\": \"\"\n      }\n    },\n    {\n      \"column\": \"Workflow\",\n      \"properties\": {\n        \"dtype\": \"category\",\n        \"num_unique_values\": 1,\n        \"samples\": [\n          \"Split On Three Accounts\"\n        ],\n        \"semantic_type\": \"\",\n        \"description\": \"\"\n      }\n    }\n  ]\n}"
            }
          },
          "metadata": {},
          "execution_count": 139
        }
      ]
    },
    {
      "cell_type": "code",
      "source": [
        "df5.iloc[0]['SGW_Operation']"
      ],
      "metadata": {
        "colab": {
          "base_uri": "https://localhost:8080/",
          "height": 105
        },
        "id": "YrpooyH-t3Nj",
        "outputId": "87445609-1bc5-452f-db0f-fbdc60851615"
      },
      "execution_count": null,
      "outputs": [
        {
          "output_type": "execute_result",
          "data": {
            "text/plain": [
              "'<TrdCaptRpt RptID=\"37074053090\" TrdDt=\"2023-01-02\" BizDt=\"2023-01-20\" TxnTm=\"2023-03-30T16:40:55.230-5:00\" TrdID=\"37074053090\" TransTyp=\"2\" RptTyp=\"0\" LastQty=\"71.0\" LastPx=\"100.0\"><Hdr Snt=\"2023-03-30T22:03:12.436+01:00\" TID=\"MGEX\" SID=\"B509\"/><Instrmt Exch=\"SNTL\" ID=\"IP0\" MMY=\"202307\" CFI=\"APYBKL\"/><RptSide Side=\"1\" AllocInd=\"2\" CustCpcty=\"1\"><Pty ID=\"210\" R=\"1\"/><Alloc Qty=\"3.0\" CustCpcty=\"1\" IndAllocID=\"1484335593216082836@SNTL>37074053090FS@20230102||ckpla\"><Pty ID=\"FIRMACT1\" R=\"24\"><Sub ID=\"1\" Typ=\"26\"/></Pty></Alloc><Alloc Qty=\"26.0\" CustCpcty=\"3\" IndAllocID=\"1484335593216082836@SNTL>37074053090FS@20230102||el8ab\"><Pty ID=\"FIRMACT2\" R=\"24\"><Sub ID=\"1\" Typ=\"26\"/></Pty></Alloc><Alloc Qty=\"42.0\" CustCpcty=\"2\" IndAllocID=\"1484335593216082836@SNTL>37074053090FS@20230102||6blp9\"><Pty ID=\"4hmpt\" R=\"24\"><Sub ID=\"1\" Typ=\"26\"/></Pty></Alloc></RptSide></TrdCaptRpt>'"
            ],
            "application/vnd.google.colaboratory.intrinsic+json": {
              "type": "string"
            }
          },
          "metadata": {},
          "execution_count": 140
        }
      ]
    },
    {
      "cell_type": "markdown",
      "source": [
        "**Generating samples for the Split On Four Accounts Workflow**"
      ],
      "metadata": {
        "id": "HizQRE1vHqwn"
      }
    },
    {
      "cell_type": "code",
      "source": [
        "def generate_example6():\n",
        "    trdid = random.randint(20281004800, 40281004800)\n",
        "    lastpx = random.choice([100, 370, 876, 250.45, 300.9, 540.698, 1050, 2590.59])\n",
        "    trdt = random.choice([\"2022-12-17\",\"2022-12-21\",\"2023-01-02\",\"2023-01-05\"])\n",
        "    bizdt = random.choice([\"2023-01-06\",\"2023-01-11\",\"2023-01-20\",\"2023-02-05\",\"2023-02-10\"])\n",
        "    t = random.choice([\"2023-02-15\",\"2023-02-21\",\"2023-03-20\",\"2023-03-30\"])\n",
        "    time1 = random.choice(['T05:17:30','T10:18:15','T12:25:13','T16:40:55'])\n",
        "    r1 = random.choice(['.100','.230','.326'])\n",
        "    tz1 = random.choice(['-5:00','-6:00','-7:00'])\n",
        "    txntm= t+time1+r1+tz1\n",
        "    time2 = random.choice(['T17:30:55.600','T19:33:05.333','T22:03:12.436'])\n",
        "    snt2 = t+time2+'+01:00'\n",
        "    id5 = random.choice(['B','W','AS','LM','BUI','IP0'])\n",
        "    my = random.choice([\"2023-05\",\"2023-07\",\"2023-10\"])\n",
        "    mmy = my.replace('-','')\n",
        "    tid = random.choice(['ABCD','D210','B509','HBPL','TL98'])\n",
        "    id3 = random.choice([\"FIRMACT1\",\"AKLPM9\",\"MPLAMP6\",\"00120007\",\"Hassen\",\"Ahlem\",'arij'])\n",
        "    custcpcty2 = random.randint(1,4)\n",
        "    custcpcty3 = random.randint(1,4)\n",
        "    ex = random.choice(['BTNL','SNTL','HDPL','XMGE'])\n",
        "    side = random.randint(1,2)\n",
        "    id26 = random.randint(1,2)\n",
        "    id4 = random.randint(100,500)\n",
        "    cfi2 = random.choice(['FCCPXX','APYBKL','MKLPON','FCAPSX'])\n",
        "    qt1 = random.randint(2,50)\n",
        "    qt2 = random.randint(2,50)\n",
        "    id242 = random.choice(['6db3a','5cot9','najet','FIRMACT2'])\n",
        "    inalocn = random.randint(1071378091562369024,2171378091562369024)\n",
        "    trdt2 = trdt.replace('-','')\n",
        "    inch1 = random.choice(['5d135','9la98','ckpla'])\n",
        "    inch2 = random.choice(['el8ab','c2537','3tlpa'])\n",
        "    indal1 = str(inalocn)+'@'+ex+'>'+str(trdid)+'FS@'+trdt2+'||'+inch1\n",
        "    indal3 = str(inalocn)+'@'+ex+'>'+str(trdid)+'FS@'+trdt2+'||'+inch2\n",
        "    qt3 = random.randint(2,50)\n",
        "    custcpcty4 = random.randint(1,4)\n",
        "    inch3 = random.choice(['6blp9','amp87','mplo5'])\n",
        "    indal4 = str(inalocn)+'@'+ex+'>'+str(trdid)+'FS@'+trdt2+'||'+inch3\n",
        "    id243 = random.choice(['plot7','marwa','4hmpt'])\n",
        "    qt4 = random.randint(2,50)\n",
        "    custcpcty5 = random.randint(1,4)\n",
        "    inch4 = random.choice(['mbn78','plmp0','4opm6'])\n",
        "    indal5 = str(inalocn)+'@'+ex+'>'+str(trdid)+'FS@'+trdt2+'||'+inch4\n",
        "    id244 = random.choice(['plbo8','nabil','6tlpi'])\n",
        "    lastqty = qt1+qt2+qt3+qt4\n",
        "    return f\"\"\"<TrdCaptRpt RptID=\"{trdid}\" TrdDt=\"{trdt}\" BizDt=\"{bizdt}\" TxnTm=\"{txntm}\" TrdID=\"{trdid}\" TransTyp=\"2\" RptTyp=\"0\" LastQty=\"{float(lastqty)}\"\n",
        " LastPx=\"{float(lastpx)}\"><Hdr Snt=\"{snt2}\" TID=\"MGEX\" SID=\"{tid}\"/><Instrmt Exch=\"{ex}\" ID=\"{id5}\" MMY=\"{mmy}\" CFI=\"{cfi2}\"/><RptSide Side=\"{side}\" AllocInd=\"2\" CustCpcty=\"{custcpcty2}\"><Pty\n",
        " ID=\"210\" R=\"1\"/><Alloc Qty=\"{float(qt1)}\" CustCpcty=\"{custcpcty2}\" IndAllocID=\"{indal1}\"><Pty ID=\"{id3}\" R=\"24\"><Sub ID=\"{id26}\" Typ=\"26\"/></Pty></Alloc>\n",
        "<Alloc Qty=\"{float(qt2)}\" CustCpcty=\"{custcpcty3}\" IndAllocID=\"{indal3}\"><Pty ID=\"{id242}\" R=\"24\"><Sub ID=\"{id26}\" Typ=\"26\"/></Pty></Alloc><Alloc Qty=\"{float(qt3)}\" CustCpcty=\"{custcpcty4}\"\n",
        " IndAllocID=\"{indal4}\"><Pty ID=\"{id243}\" R=\"24\"><Sub ID=\"{id26}\" Typ=\"26\"/></Pty></Alloc><Alloc Qty=\"{float(qt4)}\" CustCpcty=\"{custcpcty5}\"\n",
        " IndAllocID=\"{indal5}\"><Pty ID=\"{id244}\" R=\"24\"><Sub ID=\"{id26}\" Typ=\"26\"/></Pty></Alloc></RptSide>\n",
        "</TrdCaptRpt>\"\"\".replace('\\n', '')"
      ],
      "metadata": {
        "id": "dDmwie63uCio"
      },
      "execution_count": null,
      "outputs": []
    },
    {
      "cell_type": "code",
      "source": [
        "column1_data6 = [generate_example6() for i in range(200)]\n",
        "column2_data6 = ['Split On Four Accounts' for i in range(200)]"
      ],
      "metadata": {
        "id": "WiD-UiGzwUCl"
      },
      "execution_count": null,
      "outputs": []
    },
    {
      "cell_type": "markdown",
      "source": [
        "**Creating a DataFrame for the Split On Four Accounts Workflow**"
      ],
      "metadata": {
        "id": "nMzza1XnHxpX"
      }
    },
    {
      "cell_type": "code",
      "source": [
        "df6 = pd.DataFrame({\n",
        "    'SGW_Operation': column1_data6,\n",
        "    'Workflow': column2_data6,\n",
        "})\n",
        "df6.head()"
      ],
      "metadata": {
        "colab": {
          "base_uri": "https://localhost:8080/",
          "height": 206
        },
        "id": "VdtNeYfsxPrC",
        "outputId": "f17d7b04-33c5-436d-cc46-2e3918403ef0"
      },
      "execution_count": null,
      "outputs": [
        {
          "output_type": "execute_result",
          "data": {
            "text/plain": [
              "                                       SGW_Operation                Workflow\n",
              "0  <TrdCaptRpt RptID=\"30179677426\" TrdDt=\"2023-01...  Split On Four Accounts\n",
              "1  <TrdCaptRpt RptID=\"33593373208\" TrdDt=\"2022-12...  Split On Four Accounts\n",
              "2  <TrdCaptRpt RptID=\"32190499276\" TrdDt=\"2023-01...  Split On Four Accounts\n",
              "3  <TrdCaptRpt RptID=\"39573602442\" TrdDt=\"2022-12...  Split On Four Accounts\n",
              "4  <TrdCaptRpt RptID=\"24971424825\" TrdDt=\"2023-01...  Split On Four Accounts"
            ],
            "text/html": [
              "\n",
              "  <div id=\"df-33a0e616-c5f4-4491-9c9a-c8aee278b17b\" class=\"colab-df-container\">\n",
              "    <div>\n",
              "<style scoped>\n",
              "    .dataframe tbody tr th:only-of-type {\n",
              "        vertical-align: middle;\n",
              "    }\n",
              "\n",
              "    .dataframe tbody tr th {\n",
              "        vertical-align: top;\n",
              "    }\n",
              "\n",
              "    .dataframe thead th {\n",
              "        text-align: right;\n",
              "    }\n",
              "</style>\n",
              "<table border=\"1\" class=\"dataframe\">\n",
              "  <thead>\n",
              "    <tr style=\"text-align: right;\">\n",
              "      <th></th>\n",
              "      <th>SGW_Operation</th>\n",
              "      <th>Workflow</th>\n",
              "    </tr>\n",
              "  </thead>\n",
              "  <tbody>\n",
              "    <tr>\n",
              "      <th>0</th>\n",
              "      <td>&lt;TrdCaptRpt RptID=\"30179677426\" TrdDt=\"2023-01...</td>\n",
              "      <td>Split On Four Accounts</td>\n",
              "    </tr>\n",
              "    <tr>\n",
              "      <th>1</th>\n",
              "      <td>&lt;TrdCaptRpt RptID=\"33593373208\" TrdDt=\"2022-12...</td>\n",
              "      <td>Split On Four Accounts</td>\n",
              "    </tr>\n",
              "    <tr>\n",
              "      <th>2</th>\n",
              "      <td>&lt;TrdCaptRpt RptID=\"32190499276\" TrdDt=\"2023-01...</td>\n",
              "      <td>Split On Four Accounts</td>\n",
              "    </tr>\n",
              "    <tr>\n",
              "      <th>3</th>\n",
              "      <td>&lt;TrdCaptRpt RptID=\"39573602442\" TrdDt=\"2022-12...</td>\n",
              "      <td>Split On Four Accounts</td>\n",
              "    </tr>\n",
              "    <tr>\n",
              "      <th>4</th>\n",
              "      <td>&lt;TrdCaptRpt RptID=\"24971424825\" TrdDt=\"2023-01...</td>\n",
              "      <td>Split On Four Accounts</td>\n",
              "    </tr>\n",
              "  </tbody>\n",
              "</table>\n",
              "</div>\n",
              "    <div class=\"colab-df-buttons\">\n",
              "\n",
              "  <div class=\"colab-df-container\">\n",
              "    <button class=\"colab-df-convert\" onclick=\"convertToInteractive('df-33a0e616-c5f4-4491-9c9a-c8aee278b17b')\"\n",
              "            title=\"Convert this dataframe to an interactive table.\"\n",
              "            style=\"display:none;\">\n",
              "\n",
              "  <svg xmlns=\"http://www.w3.org/2000/svg\" height=\"24px\" viewBox=\"0 -960 960 960\">\n",
              "    <path d=\"M120-120v-720h720v720H120Zm60-500h600v-160H180v160Zm220 220h160v-160H400v160Zm0 220h160v-160H400v160ZM180-400h160v-160H180v160Zm440 0h160v-160H620v160ZM180-180h160v-160H180v160Zm440 0h160v-160H620v160Z\"/>\n",
              "  </svg>\n",
              "    </button>\n",
              "\n",
              "  <style>\n",
              "    .colab-df-container {\n",
              "      display:flex;\n",
              "      gap: 12px;\n",
              "    }\n",
              "\n",
              "    .colab-df-convert {\n",
              "      background-color: #E8F0FE;\n",
              "      border: none;\n",
              "      border-radius: 50%;\n",
              "      cursor: pointer;\n",
              "      display: none;\n",
              "      fill: #1967D2;\n",
              "      height: 32px;\n",
              "      padding: 0 0 0 0;\n",
              "      width: 32px;\n",
              "    }\n",
              "\n",
              "    .colab-df-convert:hover {\n",
              "      background-color: #E2EBFA;\n",
              "      box-shadow: 0px 1px 2px rgba(60, 64, 67, 0.3), 0px 1px 3px 1px rgba(60, 64, 67, 0.15);\n",
              "      fill: #174EA6;\n",
              "    }\n",
              "\n",
              "    .colab-df-buttons div {\n",
              "      margin-bottom: 4px;\n",
              "    }\n",
              "\n",
              "    [theme=dark] .colab-df-convert {\n",
              "      background-color: #3B4455;\n",
              "      fill: #D2E3FC;\n",
              "    }\n",
              "\n",
              "    [theme=dark] .colab-df-convert:hover {\n",
              "      background-color: #434B5C;\n",
              "      box-shadow: 0px 1px 3px 1px rgba(0, 0, 0, 0.15);\n",
              "      filter: drop-shadow(0px 1px 2px rgba(0, 0, 0, 0.3));\n",
              "      fill: #FFFFFF;\n",
              "    }\n",
              "  </style>\n",
              "\n",
              "    <script>\n",
              "      const buttonEl =\n",
              "        document.querySelector('#df-33a0e616-c5f4-4491-9c9a-c8aee278b17b button.colab-df-convert');\n",
              "      buttonEl.style.display =\n",
              "        google.colab.kernel.accessAllowed ? 'block' : 'none';\n",
              "\n",
              "      async function convertToInteractive(key) {\n",
              "        const element = document.querySelector('#df-33a0e616-c5f4-4491-9c9a-c8aee278b17b');\n",
              "        const dataTable =\n",
              "          await google.colab.kernel.invokeFunction('convertToInteractive',\n",
              "                                                    [key], {});\n",
              "        if (!dataTable) return;\n",
              "\n",
              "        const docLinkHtml = 'Like what you see? Visit the ' +\n",
              "          '<a target=\"_blank\" href=https://colab.research.google.com/notebooks/data_table.ipynb>data table notebook</a>'\n",
              "          + ' to learn more about interactive tables.';\n",
              "        element.innerHTML = '';\n",
              "        dataTable['output_type'] = 'display_data';\n",
              "        await google.colab.output.renderOutput(dataTable, element);\n",
              "        const docLink = document.createElement('div');\n",
              "        docLink.innerHTML = docLinkHtml;\n",
              "        element.appendChild(docLink);\n",
              "      }\n",
              "    </script>\n",
              "  </div>\n",
              "\n",
              "\n",
              "<div id=\"df-e5850054-c08f-4d6d-8b55-a8336cd9db4a\">\n",
              "  <button class=\"colab-df-quickchart\" onclick=\"quickchart('df-e5850054-c08f-4d6d-8b55-a8336cd9db4a')\"\n",
              "            title=\"Suggest charts\"\n",
              "            style=\"display:none;\">\n",
              "\n",
              "<svg xmlns=\"http://www.w3.org/2000/svg\" height=\"24px\"viewBox=\"0 0 24 24\"\n",
              "     width=\"24px\">\n",
              "    <g>\n",
              "        <path d=\"M19 3H5c-1.1 0-2 .9-2 2v14c0 1.1.9 2 2 2h14c1.1 0 2-.9 2-2V5c0-1.1-.9-2-2-2zM9 17H7v-7h2v7zm4 0h-2V7h2v10zm4 0h-2v-4h2v4z\"/>\n",
              "    </g>\n",
              "</svg>\n",
              "  </button>\n",
              "\n",
              "<style>\n",
              "  .colab-df-quickchart {\n",
              "      --bg-color: #E8F0FE;\n",
              "      --fill-color: #1967D2;\n",
              "      --hover-bg-color: #E2EBFA;\n",
              "      --hover-fill-color: #174EA6;\n",
              "      --disabled-fill-color: #AAA;\n",
              "      --disabled-bg-color: #DDD;\n",
              "  }\n",
              "\n",
              "  [theme=dark] .colab-df-quickchart {\n",
              "      --bg-color: #3B4455;\n",
              "      --fill-color: #D2E3FC;\n",
              "      --hover-bg-color: #434B5C;\n",
              "      --hover-fill-color: #FFFFFF;\n",
              "      --disabled-bg-color: #3B4455;\n",
              "      --disabled-fill-color: #666;\n",
              "  }\n",
              "\n",
              "  .colab-df-quickchart {\n",
              "    background-color: var(--bg-color);\n",
              "    border: none;\n",
              "    border-radius: 50%;\n",
              "    cursor: pointer;\n",
              "    display: none;\n",
              "    fill: var(--fill-color);\n",
              "    height: 32px;\n",
              "    padding: 0;\n",
              "    width: 32px;\n",
              "  }\n",
              "\n",
              "  .colab-df-quickchart:hover {\n",
              "    background-color: var(--hover-bg-color);\n",
              "    box-shadow: 0 1px 2px rgba(60, 64, 67, 0.3), 0 1px 3px 1px rgba(60, 64, 67, 0.15);\n",
              "    fill: var(--button-hover-fill-color);\n",
              "  }\n",
              "\n",
              "  .colab-df-quickchart-complete:disabled,\n",
              "  .colab-df-quickchart-complete:disabled:hover {\n",
              "    background-color: var(--disabled-bg-color);\n",
              "    fill: var(--disabled-fill-color);\n",
              "    box-shadow: none;\n",
              "  }\n",
              "\n",
              "  .colab-df-spinner {\n",
              "    border: 2px solid var(--fill-color);\n",
              "    border-color: transparent;\n",
              "    border-bottom-color: var(--fill-color);\n",
              "    animation:\n",
              "      spin 1s steps(1) infinite;\n",
              "  }\n",
              "\n",
              "  @keyframes spin {\n",
              "    0% {\n",
              "      border-color: transparent;\n",
              "      border-bottom-color: var(--fill-color);\n",
              "      border-left-color: var(--fill-color);\n",
              "    }\n",
              "    20% {\n",
              "      border-color: transparent;\n",
              "      border-left-color: var(--fill-color);\n",
              "      border-top-color: var(--fill-color);\n",
              "    }\n",
              "    30% {\n",
              "      border-color: transparent;\n",
              "      border-left-color: var(--fill-color);\n",
              "      border-top-color: var(--fill-color);\n",
              "      border-right-color: var(--fill-color);\n",
              "    }\n",
              "    40% {\n",
              "      border-color: transparent;\n",
              "      border-right-color: var(--fill-color);\n",
              "      border-top-color: var(--fill-color);\n",
              "    }\n",
              "    60% {\n",
              "      border-color: transparent;\n",
              "      border-right-color: var(--fill-color);\n",
              "    }\n",
              "    80% {\n",
              "      border-color: transparent;\n",
              "      border-right-color: var(--fill-color);\n",
              "      border-bottom-color: var(--fill-color);\n",
              "    }\n",
              "    90% {\n",
              "      border-color: transparent;\n",
              "      border-bottom-color: var(--fill-color);\n",
              "    }\n",
              "  }\n",
              "</style>\n",
              "\n",
              "  <script>\n",
              "    async function quickchart(key) {\n",
              "      const quickchartButtonEl =\n",
              "        document.querySelector('#' + key + ' button');\n",
              "      quickchartButtonEl.disabled = true;  // To prevent multiple clicks.\n",
              "      quickchartButtonEl.classList.add('colab-df-spinner');\n",
              "      try {\n",
              "        const charts = await google.colab.kernel.invokeFunction(\n",
              "            'suggestCharts', [key], {});\n",
              "      } catch (error) {\n",
              "        console.error('Error during call to suggestCharts:', error);\n",
              "      }\n",
              "      quickchartButtonEl.classList.remove('colab-df-spinner');\n",
              "      quickchartButtonEl.classList.add('colab-df-quickchart-complete');\n",
              "    }\n",
              "    (() => {\n",
              "      let quickchartButtonEl =\n",
              "        document.querySelector('#df-e5850054-c08f-4d6d-8b55-a8336cd9db4a button');\n",
              "      quickchartButtonEl.style.display =\n",
              "        google.colab.kernel.accessAllowed ? 'block' : 'none';\n",
              "    })();\n",
              "  </script>\n",
              "</div>\n",
              "\n",
              "    </div>\n",
              "  </div>\n"
            ],
            "application/vnd.google.colaboratory.intrinsic+json": {
              "type": "dataframe",
              "variable_name": "df6",
              "summary": "{\n  \"name\": \"df6\",\n  \"rows\": 200,\n  \"fields\": [\n    {\n      \"column\": \"SGW_Operation\",\n      \"properties\": {\n        \"dtype\": \"string\",\n        \"num_unique_values\": 200,\n        \"samples\": [\n          \"<TrdCaptRpt RptID=\\\"24346158482\\\" TrdDt=\\\"2022-12-21\\\" BizDt=\\\"2023-01-20\\\" TxnTm=\\\"2023-02-21T16:40:55.326-5:00\\\" TrdID=\\\"24346158482\\\" TransTyp=\\\"2\\\" RptTyp=\\\"0\\\" LastQty=\\\"97.0\\\" LastPx=\\\"540.698\\\"><Hdr Snt=\\\"2023-02-21T17:30:55.600+01:00\\\" TID=\\\"MGEX\\\" SID=\\\"B509\\\"/><Instrmt Exch=\\\"BTNL\\\" ID=\\\"W\\\" MMY=\\\"202307\\\" CFI=\\\"MKLPON\\\"/><RptSide Side=\\\"1\\\" AllocInd=\\\"2\\\" CustCpcty=\\\"2\\\"><Pty ID=\\\"210\\\" R=\\\"1\\\"/><Alloc Qty=\\\"18.0\\\" CustCpcty=\\\"2\\\" IndAllocID=\\\"1785876011946927123@BTNL>24346158482FS@20221221||5d135\\\"><Pty ID=\\\"AKLPM9\\\" R=\\\"24\\\"><Sub ID=\\\"1\\\" Typ=\\\"26\\\"/></Pty></Alloc><Alloc Qty=\\\"15.0\\\" CustCpcty=\\\"3\\\" IndAllocID=\\\"1785876011946927123@BTNL>24346158482FS@20221221||c2537\\\"><Pty ID=\\\"5cot9\\\" R=\\\"24\\\"><Sub ID=\\\"1\\\" Typ=\\\"26\\\"/></Pty></Alloc><Alloc Qty=\\\"39.0\\\" CustCpcty=\\\"4\\\" IndAllocID=\\\"1785876011946927123@BTNL>24346158482FS@20221221||6blp9\\\"><Pty ID=\\\"4hmpt\\\" R=\\\"24\\\"><Sub ID=\\\"1\\\" Typ=\\\"26\\\"/></Pty></Alloc><Alloc Qty=\\\"25.0\\\" CustCpcty=\\\"1\\\" IndAllocID=\\\"1785876011946927123@BTNL>24346158482FS@20221221||4opm6\\\"><Pty ID=\\\"nabil\\\" R=\\\"24\\\"><Sub ID=\\\"1\\\" Typ=\\\"26\\\"/></Pty></Alloc></RptSide></TrdCaptRpt>\",\n          \"<TrdCaptRpt RptID=\\\"23160252749\\\" TrdDt=\\\"2023-01-05\\\" BizDt=\\\"2023-02-05\\\" TxnTm=\\\"2023-03-30T05:17:30.100-6:00\\\" TrdID=\\\"23160252749\\\" TransTyp=\\\"2\\\" RptTyp=\\\"0\\\" LastQty=\\\"95.0\\\" LastPx=\\\"300.9\\\"><Hdr Snt=\\\"2023-03-30T17:30:55.600+01:00\\\" TID=\\\"MGEX\\\" SID=\\\"TL98\\\"/><Instrmt Exch=\\\"XMGE\\\" ID=\\\"W\\\" MMY=\\\"202307\\\" CFI=\\\"APYBKL\\\"/><RptSide Side=\\\"1\\\" AllocInd=\\\"2\\\" CustCpcty=\\\"1\\\"><Pty ID=\\\"210\\\" R=\\\"1\\\"/><Alloc Qty=\\\"49.0\\\" CustCpcty=\\\"1\\\" IndAllocID=\\\"1344361507614030598@XMGE>23160252749FS@20230105||5d135\\\"><Pty ID=\\\"MPLAMP6\\\" R=\\\"24\\\"><Sub ID=\\\"1\\\" Typ=\\\"26\\\"/></Pty></Alloc><Alloc Qty=\\\"32.0\\\" CustCpcty=\\\"3\\\" IndAllocID=\\\"1344361507614030598@XMGE>23160252749FS@20230105||c2537\\\"><Pty ID=\\\"6db3a\\\" R=\\\"24\\\"><Sub ID=\\\"1\\\" Typ=\\\"26\\\"/></Pty></Alloc><Alloc Qty=\\\"2.0\\\" CustCpcty=\\\"1\\\" IndAllocID=\\\"1344361507614030598@XMGE>23160252749FS@20230105||amp87\\\"><Pty ID=\\\"marwa\\\" R=\\\"24\\\"><Sub ID=\\\"1\\\" Typ=\\\"26\\\"/></Pty></Alloc><Alloc Qty=\\\"12.0\\\" CustCpcty=\\\"2\\\" IndAllocID=\\\"1344361507614030598@XMGE>23160252749FS@20230105||mbn78\\\"><Pty ID=\\\"6tlpi\\\" R=\\\"24\\\"><Sub ID=\\\"1\\\" Typ=\\\"26\\\"/></Pty></Alloc></RptSide></TrdCaptRpt>\",\n          \"<TrdCaptRpt RptID=\\\"37710928499\\\" TrdDt=\\\"2022-12-21\\\" BizDt=\\\"2023-02-10\\\" TxnTm=\\\"2023-02-15T12:25:13.326-5:00\\\" TrdID=\\\"37710928499\\\" TransTyp=\\\"2\\\" RptTyp=\\\"0\\\" LastQty=\\\"152.0\\\" LastPx=\\\"876.0\\\"><Hdr Snt=\\\"2023-02-15T22:03:12.436+01:00\\\" TID=\\\"MGEX\\\" SID=\\\"B509\\\"/><Instrmt Exch=\\\"HDPL\\\" ID=\\\"B\\\" MMY=\\\"202310\\\" CFI=\\\"FCAPSX\\\"/><RptSide Side=\\\"2\\\" AllocInd=\\\"2\\\" CustCpcty=\\\"3\\\"><Pty ID=\\\"210\\\" R=\\\"1\\\"/><Alloc Qty=\\\"46.0\\\" CustCpcty=\\\"3\\\" IndAllocID=\\\"1777553171725269128@HDPL>37710928499FS@20221221||9la98\\\"><Pty ID=\\\"00120007\\\" R=\\\"24\\\"><Sub ID=\\\"1\\\" Typ=\\\"26\\\"/></Pty></Alloc><Alloc Qty=\\\"16.0\\\" CustCpcty=\\\"1\\\" IndAllocID=\\\"1777553171725269128@HDPL>37710928499FS@20221221||el8ab\\\"><Pty ID=\\\"najet\\\" R=\\\"24\\\"><Sub ID=\\\"1\\\" Typ=\\\"26\\\"/></Pty></Alloc><Alloc Qty=\\\"48.0\\\" CustCpcty=\\\"1\\\" IndAllocID=\\\"1777553171725269128@HDPL>37710928499FS@20221221||6blp9\\\"><Pty ID=\\\"4hmpt\\\" R=\\\"24\\\"><Sub ID=\\\"1\\\" Typ=\\\"26\\\"/></Pty></Alloc><Alloc Qty=\\\"42.0\\\" CustCpcty=\\\"2\\\" IndAllocID=\\\"1777553171725269128@HDPL>37710928499FS@20221221||plmp0\\\"><Pty ID=\\\"nabil\\\" R=\\\"24\\\"><Sub ID=\\\"1\\\" Typ=\\\"26\\\"/></Pty></Alloc></RptSide></TrdCaptRpt>\"\n        ],\n        \"semantic_type\": \"\",\n        \"description\": \"\"\n      }\n    },\n    {\n      \"column\": \"Workflow\",\n      \"properties\": {\n        \"dtype\": \"category\",\n        \"num_unique_values\": 1,\n        \"samples\": [\n          \"Split On Four Accounts\"\n        ],\n        \"semantic_type\": \"\",\n        \"description\": \"\"\n      }\n    }\n  ]\n}"
            }
          },
          "metadata": {},
          "execution_count": 143
        }
      ]
    },
    {
      "cell_type": "code",
      "source": [
        "df6.iloc[0]['SGW_Operation']"
      ],
      "metadata": {
        "colab": {
          "base_uri": "https://localhost:8080/",
          "height": 123
        },
        "id": "LCzdS_DnxXJj",
        "outputId": "1cf88de4-584d-4f66-dff2-9a57d25f199c"
      },
      "execution_count": null,
      "outputs": [
        {
          "output_type": "execute_result",
          "data": {
            "text/plain": [
              "'<TrdCaptRpt RptID=\"30179677426\" TrdDt=\"2023-01-05\" BizDt=\"2023-01-11\" TxnTm=\"2023-03-30T10:18:15.230-5:00\" TrdID=\"30179677426\" TransTyp=\"2\" RptTyp=\"0\" LastQty=\"68.0\" LastPx=\"100.0\"><Hdr Snt=\"2023-03-30T19:33:05.333+01:00\" TID=\"MGEX\" SID=\"D210\"/><Instrmt Exch=\"XMGE\" ID=\"W\" MMY=\"202310\" CFI=\"MKLPON\"/><RptSide Side=\"2\" AllocInd=\"2\" CustCpcty=\"2\"><Pty ID=\"210\" R=\"1\"/><Alloc Qty=\"48.0\" CustCpcty=\"2\" IndAllocID=\"1450893343356749329@XMGE>30179677426FS@20230105||9la98\"><Pty ID=\"FIRMACT1\" R=\"24\"><Sub ID=\"2\" Typ=\"26\"/></Pty></Alloc><Alloc Qty=\"9.0\" CustCpcty=\"2\" IndAllocID=\"1450893343356749329@XMGE>30179677426FS@20230105||3tlpa\"><Pty ID=\"najet\" R=\"24\"><Sub ID=\"2\" Typ=\"26\"/></Pty></Alloc><Alloc Qty=\"7.0\" CustCpcty=\"3\" IndAllocID=\"1450893343356749329@XMGE>30179677426FS@20230105||mplo5\"><Pty ID=\"marwa\" R=\"24\"><Sub ID=\"2\" Typ=\"26\"/></Pty></Alloc><Alloc Qty=\"4.0\" CustCpcty=\"1\" IndAllocID=\"1450893343356749329@XMGE>30179677426FS@20230105||mbn78\"><Pty ID=\"6tlpi\" R=\"24\"><Sub ID=\"2\" Typ=\"26\"/></Pty></Alloc></RptSide></TrdCaptRpt>'"
            ],
            "application/vnd.google.colaboratory.intrinsic+json": {
              "type": "string"
            }
          },
          "metadata": {},
          "execution_count": 144
        }
      ]
    },
    {
      "cell_type": "markdown",
      "source": [
        "**Concatenating the DataFrames**"
      ],
      "metadata": {
        "id": "Meqn7KQ4H1rn"
      }
    },
    {
      "cell_type": "code",
      "source": [
        "df7 = pd.concat([df1, df2, df3, df4, df5, df6], ignore_index=True)"
      ],
      "metadata": {
        "id": "FhbfkS9zzmf_"
      },
      "execution_count": null,
      "outputs": []
    },
    {
      "cell_type": "code",
      "source": [
        "df7.head()"
      ],
      "metadata": {
        "colab": {
          "base_uri": "https://localhost:8080/",
          "height": 206
        },
        "id": "O0VjW4T0zvZg",
        "outputId": "94405f96-e753-4659-db69-ab3f378380a3"
      },
      "execution_count": null,
      "outputs": [
        {
          "output_type": "execute_result",
          "data": {
            "text/plain": [
              "                                       SGW_Operation      Workflow\n",
              "0  <TrdCaptRpt RptID=\"23111916222\" TrdDt=\"2023-01...  Full Service\n",
              "1  <TrdCaptRpt RptID=\"25369020415\" TrdDt=\"2022-12...  Full Service\n",
              "2  <TrdCaptRpt RptID=\"35195221433\" TrdDt=\"2022-12...  Full Service\n",
              "3  <TrdCaptRpt RptID=\"39546900839\" TrdDt=\"2022-12...  Full Service\n",
              "4  <TrdCaptRpt RptID=\"35997621782\" TrdDt=\"2022-12...  Full Service"
            ],
            "text/html": [
              "\n",
              "  <div id=\"df-bbbb80fb-0c76-4c1c-83c4-df5aab0d1b8e\" class=\"colab-df-container\">\n",
              "    <div>\n",
              "<style scoped>\n",
              "    .dataframe tbody tr th:only-of-type {\n",
              "        vertical-align: middle;\n",
              "    }\n",
              "\n",
              "    .dataframe tbody tr th {\n",
              "        vertical-align: top;\n",
              "    }\n",
              "\n",
              "    .dataframe thead th {\n",
              "        text-align: right;\n",
              "    }\n",
              "</style>\n",
              "<table border=\"1\" class=\"dataframe\">\n",
              "  <thead>\n",
              "    <tr style=\"text-align: right;\">\n",
              "      <th></th>\n",
              "      <th>SGW_Operation</th>\n",
              "      <th>Workflow</th>\n",
              "    </tr>\n",
              "  </thead>\n",
              "  <tbody>\n",
              "    <tr>\n",
              "      <th>0</th>\n",
              "      <td>&lt;TrdCaptRpt RptID=\"23111916222\" TrdDt=\"2023-01...</td>\n",
              "      <td>Full Service</td>\n",
              "    </tr>\n",
              "    <tr>\n",
              "      <th>1</th>\n",
              "      <td>&lt;TrdCaptRpt RptID=\"25369020415\" TrdDt=\"2022-12...</td>\n",
              "      <td>Full Service</td>\n",
              "    </tr>\n",
              "    <tr>\n",
              "      <th>2</th>\n",
              "      <td>&lt;TrdCaptRpt RptID=\"35195221433\" TrdDt=\"2022-12...</td>\n",
              "      <td>Full Service</td>\n",
              "    </tr>\n",
              "    <tr>\n",
              "      <th>3</th>\n",
              "      <td>&lt;TrdCaptRpt RptID=\"39546900839\" TrdDt=\"2022-12...</td>\n",
              "      <td>Full Service</td>\n",
              "    </tr>\n",
              "    <tr>\n",
              "      <th>4</th>\n",
              "      <td>&lt;TrdCaptRpt RptID=\"35997621782\" TrdDt=\"2022-12...</td>\n",
              "      <td>Full Service</td>\n",
              "    </tr>\n",
              "  </tbody>\n",
              "</table>\n",
              "</div>\n",
              "    <div class=\"colab-df-buttons\">\n",
              "\n",
              "  <div class=\"colab-df-container\">\n",
              "    <button class=\"colab-df-convert\" onclick=\"convertToInteractive('df-bbbb80fb-0c76-4c1c-83c4-df5aab0d1b8e')\"\n",
              "            title=\"Convert this dataframe to an interactive table.\"\n",
              "            style=\"display:none;\">\n",
              "\n",
              "  <svg xmlns=\"http://www.w3.org/2000/svg\" height=\"24px\" viewBox=\"0 -960 960 960\">\n",
              "    <path d=\"M120-120v-720h720v720H120Zm60-500h600v-160H180v160Zm220 220h160v-160H400v160Zm0 220h160v-160H400v160ZM180-400h160v-160H180v160Zm440 0h160v-160H620v160ZM180-180h160v-160H180v160Zm440 0h160v-160H620v160Z\"/>\n",
              "  </svg>\n",
              "    </button>\n",
              "\n",
              "  <style>\n",
              "    .colab-df-container {\n",
              "      display:flex;\n",
              "      gap: 12px;\n",
              "    }\n",
              "\n",
              "    .colab-df-convert {\n",
              "      background-color: #E8F0FE;\n",
              "      border: none;\n",
              "      border-radius: 50%;\n",
              "      cursor: pointer;\n",
              "      display: none;\n",
              "      fill: #1967D2;\n",
              "      height: 32px;\n",
              "      padding: 0 0 0 0;\n",
              "      width: 32px;\n",
              "    }\n",
              "\n",
              "    .colab-df-convert:hover {\n",
              "      background-color: #E2EBFA;\n",
              "      box-shadow: 0px 1px 2px rgba(60, 64, 67, 0.3), 0px 1px 3px 1px rgba(60, 64, 67, 0.15);\n",
              "      fill: #174EA6;\n",
              "    }\n",
              "\n",
              "    .colab-df-buttons div {\n",
              "      margin-bottom: 4px;\n",
              "    }\n",
              "\n",
              "    [theme=dark] .colab-df-convert {\n",
              "      background-color: #3B4455;\n",
              "      fill: #D2E3FC;\n",
              "    }\n",
              "\n",
              "    [theme=dark] .colab-df-convert:hover {\n",
              "      background-color: #434B5C;\n",
              "      box-shadow: 0px 1px 3px 1px rgba(0, 0, 0, 0.15);\n",
              "      filter: drop-shadow(0px 1px 2px rgba(0, 0, 0, 0.3));\n",
              "      fill: #FFFFFF;\n",
              "    }\n",
              "  </style>\n",
              "\n",
              "    <script>\n",
              "      const buttonEl =\n",
              "        document.querySelector('#df-bbbb80fb-0c76-4c1c-83c4-df5aab0d1b8e button.colab-df-convert');\n",
              "      buttonEl.style.display =\n",
              "        google.colab.kernel.accessAllowed ? 'block' : 'none';\n",
              "\n",
              "      async function convertToInteractive(key) {\n",
              "        const element = document.querySelector('#df-bbbb80fb-0c76-4c1c-83c4-df5aab0d1b8e');\n",
              "        const dataTable =\n",
              "          await google.colab.kernel.invokeFunction('convertToInteractive',\n",
              "                                                    [key], {});\n",
              "        if (!dataTable) return;\n",
              "\n",
              "        const docLinkHtml = 'Like what you see? Visit the ' +\n",
              "          '<a target=\"_blank\" href=https://colab.research.google.com/notebooks/data_table.ipynb>data table notebook</a>'\n",
              "          + ' to learn more about interactive tables.';\n",
              "        element.innerHTML = '';\n",
              "        dataTable['output_type'] = 'display_data';\n",
              "        await google.colab.output.renderOutput(dataTable, element);\n",
              "        const docLink = document.createElement('div');\n",
              "        docLink.innerHTML = docLinkHtml;\n",
              "        element.appendChild(docLink);\n",
              "      }\n",
              "    </script>\n",
              "  </div>\n",
              "\n",
              "\n",
              "<div id=\"df-60501cb7-a2d6-4094-b165-bcb74e68ae1a\">\n",
              "  <button class=\"colab-df-quickchart\" onclick=\"quickchart('df-60501cb7-a2d6-4094-b165-bcb74e68ae1a')\"\n",
              "            title=\"Suggest charts\"\n",
              "            style=\"display:none;\">\n",
              "\n",
              "<svg xmlns=\"http://www.w3.org/2000/svg\" height=\"24px\"viewBox=\"0 0 24 24\"\n",
              "     width=\"24px\">\n",
              "    <g>\n",
              "        <path d=\"M19 3H5c-1.1 0-2 .9-2 2v14c0 1.1.9 2 2 2h14c1.1 0 2-.9 2-2V5c0-1.1-.9-2-2-2zM9 17H7v-7h2v7zm4 0h-2V7h2v10zm4 0h-2v-4h2v4z\"/>\n",
              "    </g>\n",
              "</svg>\n",
              "  </button>\n",
              "\n",
              "<style>\n",
              "  .colab-df-quickchart {\n",
              "      --bg-color: #E8F0FE;\n",
              "      --fill-color: #1967D2;\n",
              "      --hover-bg-color: #E2EBFA;\n",
              "      --hover-fill-color: #174EA6;\n",
              "      --disabled-fill-color: #AAA;\n",
              "      --disabled-bg-color: #DDD;\n",
              "  }\n",
              "\n",
              "  [theme=dark] .colab-df-quickchart {\n",
              "      --bg-color: #3B4455;\n",
              "      --fill-color: #D2E3FC;\n",
              "      --hover-bg-color: #434B5C;\n",
              "      --hover-fill-color: #FFFFFF;\n",
              "      --disabled-bg-color: #3B4455;\n",
              "      --disabled-fill-color: #666;\n",
              "  }\n",
              "\n",
              "  .colab-df-quickchart {\n",
              "    background-color: var(--bg-color);\n",
              "    border: none;\n",
              "    border-radius: 50%;\n",
              "    cursor: pointer;\n",
              "    display: none;\n",
              "    fill: var(--fill-color);\n",
              "    height: 32px;\n",
              "    padding: 0;\n",
              "    width: 32px;\n",
              "  }\n",
              "\n",
              "  .colab-df-quickchart:hover {\n",
              "    background-color: var(--hover-bg-color);\n",
              "    box-shadow: 0 1px 2px rgba(60, 64, 67, 0.3), 0 1px 3px 1px rgba(60, 64, 67, 0.15);\n",
              "    fill: var(--button-hover-fill-color);\n",
              "  }\n",
              "\n",
              "  .colab-df-quickchart-complete:disabled,\n",
              "  .colab-df-quickchart-complete:disabled:hover {\n",
              "    background-color: var(--disabled-bg-color);\n",
              "    fill: var(--disabled-fill-color);\n",
              "    box-shadow: none;\n",
              "  }\n",
              "\n",
              "  .colab-df-spinner {\n",
              "    border: 2px solid var(--fill-color);\n",
              "    border-color: transparent;\n",
              "    border-bottom-color: var(--fill-color);\n",
              "    animation:\n",
              "      spin 1s steps(1) infinite;\n",
              "  }\n",
              "\n",
              "  @keyframes spin {\n",
              "    0% {\n",
              "      border-color: transparent;\n",
              "      border-bottom-color: var(--fill-color);\n",
              "      border-left-color: var(--fill-color);\n",
              "    }\n",
              "    20% {\n",
              "      border-color: transparent;\n",
              "      border-left-color: var(--fill-color);\n",
              "      border-top-color: var(--fill-color);\n",
              "    }\n",
              "    30% {\n",
              "      border-color: transparent;\n",
              "      border-left-color: var(--fill-color);\n",
              "      border-top-color: var(--fill-color);\n",
              "      border-right-color: var(--fill-color);\n",
              "    }\n",
              "    40% {\n",
              "      border-color: transparent;\n",
              "      border-right-color: var(--fill-color);\n",
              "      border-top-color: var(--fill-color);\n",
              "    }\n",
              "    60% {\n",
              "      border-color: transparent;\n",
              "      border-right-color: var(--fill-color);\n",
              "    }\n",
              "    80% {\n",
              "      border-color: transparent;\n",
              "      border-right-color: var(--fill-color);\n",
              "      border-bottom-color: var(--fill-color);\n",
              "    }\n",
              "    90% {\n",
              "      border-color: transparent;\n",
              "      border-bottom-color: var(--fill-color);\n",
              "    }\n",
              "  }\n",
              "</style>\n",
              "\n",
              "  <script>\n",
              "    async function quickchart(key) {\n",
              "      const quickchartButtonEl =\n",
              "        document.querySelector('#' + key + ' button');\n",
              "      quickchartButtonEl.disabled = true;  // To prevent multiple clicks.\n",
              "      quickchartButtonEl.classList.add('colab-df-spinner');\n",
              "      try {\n",
              "        const charts = await google.colab.kernel.invokeFunction(\n",
              "            'suggestCharts', [key], {});\n",
              "      } catch (error) {\n",
              "        console.error('Error during call to suggestCharts:', error);\n",
              "      }\n",
              "      quickchartButtonEl.classList.remove('colab-df-spinner');\n",
              "      quickchartButtonEl.classList.add('colab-df-quickchart-complete');\n",
              "    }\n",
              "    (() => {\n",
              "      let quickchartButtonEl =\n",
              "        document.querySelector('#df-60501cb7-a2d6-4094-b165-bcb74e68ae1a button');\n",
              "      quickchartButtonEl.style.display =\n",
              "        google.colab.kernel.accessAllowed ? 'block' : 'none';\n",
              "    })();\n",
              "  </script>\n",
              "</div>\n",
              "\n",
              "    </div>\n",
              "  </div>\n"
            ],
            "application/vnd.google.colaboratory.intrinsic+json": {
              "type": "dataframe",
              "variable_name": "df7",
              "summary": "{\n  \"name\": \"df7\",\n  \"rows\": 1200,\n  \"fields\": [\n    {\n      \"column\": \"SGW_Operation\",\n      \"properties\": {\n        \"dtype\": \"string\",\n        \"num_unique_values\": 1200,\n        \"samples\": [\n          \"<TrdCaptRpt RptID=\\\"40179682176\\\" TrdDt=\\\"2022-12-21\\\" BizDt=\\\"2023-01-06\\\" TxnTm=\\\"2023-03-30T05:17:30.230-6:00\\\" TrdID=\\\"40179682176\\\" TransTyp=\\\"2\\\" RptTyp=\\\"0\\\" LastQty=\\\"106.0\\\" LastPx=\\\"540.698\\\"><Hdr Snt=\\\"2023-03-30T17:30:55.600+01:00\\\" TID=\\\"MGEX\\\" SID=\\\"B509\\\"/><Instrmt Exch=\\\"XMGE\\\" ID=\\\"LM\\\" MMY=\\\"202310\\\" CFI=\\\"FCCPXX\\\"/><RptSide Side=\\\"1\\\" AllocInd=\\\"2\\\" CustCpcty=\\\"4\\\"><Pty ID=\\\"210\\\" R=\\\"1\\\"/><Alloc Qty=\\\"7.0\\\" CustCpcty=\\\"4\\\" IndAllocID=\\\"1943577388403686450@XMGE>40179682176FS@20221221||ckpla\\\"><Pty ID=\\\"AKLPM9\\\" R=\\\"24\\\"><Sub ID=\\\"1\\\" Typ=\\\"26\\\"/></Pty></Alloc><Alloc Qty=\\\"47.0\\\" CustCpcty=\\\"2\\\" IndAllocID=\\\"1943577388403686450@XMGE>40179682176FS@20221221||3tlpa\\\"><Pty ID=\\\"5cot9\\\" R=\\\"24\\\"><Sub ID=\\\"1\\\" Typ=\\\"26\\\"/></Pty></Alloc><Alloc Qty=\\\"7.0\\\" CustCpcty=\\\"4\\\" IndAllocID=\\\"1943577388403686450@XMGE>40179682176FS@20221221||amp87\\\"><Pty ID=\\\"marwa\\\" R=\\\"24\\\"><Sub ID=\\\"1\\\" Typ=\\\"26\\\"/></Pty></Alloc><Alloc Qty=\\\"45.0\\\" CustCpcty=\\\"2\\\" IndAllocID=\\\"1943577388403686450@XMGE>40179682176FS@20221221||plmp0\\\"><Pty ID=\\\"6tlpi\\\" R=\\\"24\\\"><Sub ID=\\\"1\\\" Typ=\\\"26\\\"/></Pty></Alloc></RptSide></TrdCaptRpt>\",\n          \"<TrdCaptRpt RptID=\\\"31502471744\\\" TrdDt=\\\"2022-12-21\\\" BizDt=\\\"2023-02-05\\\" TxnTm=\\\"2023-03-20T10:18:15.230-6:00\\\" TrdID=\\\"31502471744\\\" TransTyp=\\\"2\\\" RptTyp=\\\"0\\\" LastQty=\\\"76.0\\\" LastPx=\\\"100.0\\\"><Hdr Snt=\\\"2023-03-20T22:03:12.436+01:00\\\" TID=\\\"MGEX\\\" SID=\\\"HBPL\\\"/><Instrmt Exch=\\\"XMGE\\\" ID=\\\"IP0\\\" MMY=\\\"202307\\\" CFI=\\\"MKLPON\\\"/><RptSide Side=\\\"2\\\" AllocInd=\\\"2\\\" CustCpcty=\\\"4\\\"><Pty ID=\\\"210\\\" R=\\\"1\\\"/><Alloc Qty=\\\"32.0\\\" CustCpcty=\\\"4\\\" IndAllocID=\\\"1107108555275260796@XMGE>31502471744FS@20221221||9la98\\\"><Pty ID=\\\"MPLAMP6\\\" R=\\\"24\\\"><Sub ID=\\\"2\\\" Typ=\\\"26\\\"/></Pty></Alloc><Alloc Qty=\\\"24.0\\\" CustCpcty=\\\"1\\\" IndAllocID=\\\"1107108555275260796@XMGE>31502471744FS@20221221||3tlpa\\\"><Pty ID=\\\"najet\\\" R=\\\"24\\\"><Sub ID=\\\"2\\\" Typ=\\\"26\\\"/></Pty></Alloc><Alloc Qty=\\\"20.0\\\" CustCpcty=\\\"3\\\" IndAllocID=\\\"1107108555275260796@XMGE>31502471744FS@20221221||mplo5\\\"><Pty ID=\\\"4hmpt\\\" R=\\\"24\\\"><Sub ID=\\\"2\\\" Typ=\\\"26\\\"/></Pty></Alloc></RptSide></TrdCaptRpt>\",\n          \"<TrdCaptRpt RptID=\\\"34888441568\\\" TrdDt=\\\"2022-12-17\\\" BizDt=\\\"2023-01-20\\\" TxnTm=\\\"2023-03-30T05:17:30.100-7:00\\\" TrdID=\\\"34888441568\\\" TransTyp=\\\"2\\\" RptTyp=\\\"0\\\" LastQty=\\\"70.0\\\" LastPx=\\\"540.698\\\"><Hdr Snt=\\\"2023-03-30T19:33:05.333+01:00\\\" TID=\\\"MGEX\\\" SID=\\\"HBPL\\\"/><Instrmt Exch=\\\"HDPL\\\" ID=\\\"BUI\\\" MMY=\\\"202307\\\" CFI=\\\"MKLPON\\\"/><RptSide Side=\\\"1\\\" CustCpcty=\\\"2\\\"><Pty ID=\\\"210\\\" R=\\\"1\\\"/><Pty ID=\\\"FIRMACT1\\\" R=\\\"24\\\"><Sub ID=\\\"1\\\" Typ=\\\"26\\\"/></Pty></RptSide></TrdCaptRpt>\"\n        ],\n        \"semantic_type\": \"\",\n        \"description\": \"\"\n      }\n    },\n    {\n      \"column\": \"Workflow\",\n      \"properties\": {\n        \"dtype\": \"category\",\n        \"num_unique_values\": 6,\n        \"samples\": [\n          \"Full Service\",\n          \"Mark As Give Up\",\n          \"Split On Four Accounts\"\n        ],\n        \"semantic_type\": \"\",\n        \"description\": \"\"\n      }\n    }\n  ]\n}"
            }
          },
          "metadata": {},
          "execution_count": 146
        }
      ]
    },
    {
      "cell_type": "code",
      "source": [
        "df7.iloc[0]['SGW_Operation']"
      ],
      "metadata": {
        "colab": {
          "base_uri": "https://localhost:8080/",
          "height": 70
        },
        "id": "uFDOCb7vJex9",
        "outputId": "50e5e375-355d-4ee0-b5d8-eca97dd6514e"
      },
      "execution_count": null,
      "outputs": [
        {
          "output_type": "execute_result",
          "data": {
            "text/plain": [
              "'<TrdCaptRpt RptID=\"23111916222\" TrdDt=\"2023-01-02\" BizDt=\"2023-02-05\" TxnTm=\"2023-02-21T05:17:30.100-6:00\" TrdID=\"23111916222\" TransTyp=\"2\" RptTyp=\"0\" LastQty=\"99.0\" LastPx=\"250.45\"><Hdr Snt=\"2023-02-21T17:30:55.600+01:00\" TID=\"MGEX\" SID=\"TL98\"/><Instrmt Exch=\"HDPL\" ID=\"B\" MMY=\"202305\" CFI=\"APYBKL\"/><RptSide Side=\"1\" CustCpcty=\"2\"><Pty ID=\"210\" R=\"1\"/><Pty ID=\"Ahlem\" R=\"24\"><Sub ID=\"2\" Typ=\"26\"/></Pty></RptSide></TrdCaptRpt>'"
            ],
            "application/vnd.google.colaboratory.intrinsic+json": {
              "type": "string"
            }
          },
          "metadata": {},
          "execution_count": 237
        }
      ]
    },
    {
      "cell_type": "code",
      "source": [
        "df7.shape"
      ],
      "metadata": {
        "colab": {
          "base_uri": "https://localhost:8080/"
        },
        "id": "cZl5h5lzz0Dg",
        "outputId": "6960f2d6-b110-4c1b-d11a-2d86a850330f"
      },
      "execution_count": null,
      "outputs": [
        {
          "output_type": "execute_result",
          "data": {
            "text/plain": [
              "(1200, 2)"
            ]
          },
          "metadata": {},
          "execution_count": 147
        }
      ]
    },
    {
      "cell_type": "markdown",
      "source": [
        "**Cleaning the SGW_Operation by removing certain special characters (<, \\ ,\", /) and Replacing > with a space**"
      ],
      "metadata": {
        "id": "tDbWOl3RJeAh"
      }
    },
    {
      "cell_type": "code",
      "source": [
        "df8 = df7.copy()"
      ],
      "metadata": {
        "id": "lV3mVLdZ0NbB"
      },
      "execution_count": null,
      "outputs": []
    },
    {
      "cell_type": "code",
      "source": [
        "import re"
      ],
      "metadata": {
        "id": "ZP6iMpEe0R6r"
      },
      "execution_count": null,
      "outputs": []
    },
    {
      "cell_type": "code",
      "source": [
        "def clean_sequence(input_text):\n",
        "    pattern = r'[<\\\"/]'\n",
        "    cleaned_seq1 = re.sub(pattern, '', input_text)\n",
        "    cleaned_seq = cleaned_seq1.replace('>',' ')\n",
        "    return cleaned_seq"
      ],
      "metadata": {
        "id": "GDhtX7ok0UJD"
      },
      "execution_count": null,
      "outputs": []
    },
    {
      "cell_type": "code",
      "source": [
        "df8['SGW_Operation'] = df8['SGW_Operation'].apply(clean_sequence)"
      ],
      "metadata": {
        "id": "483M642X0Wwa"
      },
      "execution_count": null,
      "outputs": []
    },
    {
      "cell_type": "code",
      "source": [
        "df8.iloc[0]['SGW_Operation']"
      ],
      "metadata": {
        "colab": {
          "base_uri": "https://localhost:8080/",
          "height": 70
        },
        "id": "iNQmopze0fBS",
        "outputId": "bb696d05-81ed-49a1-f488-1af4fef275c6"
      },
      "execution_count": null,
      "outputs": [
        {
          "output_type": "execute_result",
          "data": {
            "text/plain": [
              "'TrdCaptRpt RptID=23111916222 TrdDt=2023-01-02 BizDt=2023-02-05 TxnTm=2023-02-21T05:17:30.100-6:00 TrdID=23111916222 TransTyp=2 RptTyp=0 LastQty=99.0 LastPx=250.45 Hdr Snt=2023-02-21T17:30:55.600+01:00 TID=MGEX SID=TL98 Instrmt Exch=HDPL ID=B MMY=202305 CFI=APYBKL RptSide Side=1 CustCpcty=2 Pty ID=210 R=1 Pty ID=Ahlem R=24 Sub ID=2 Typ=26 Pty RptSide TrdCaptRpt '"
            ],
            "application/vnd.google.colaboratory.intrinsic+json": {
              "type": "string"
            }
          },
          "metadata": {},
          "execution_count": 152
        }
      ]
    },
    {
      "cell_type": "code",
      "source": [
        "df8.iloc[200]['SGW_Operation']"
      ],
      "metadata": {
        "colab": {
          "base_uri": "https://localhost:8080/",
          "height": 53
        },
        "id": "0E8IMIVC0jlp",
        "outputId": "a11d4492-e95e-42ac-cf99-1ea2ad6c951c"
      },
      "execution_count": null,
      "outputs": [
        {
          "output_type": "execute_result",
          "data": {
            "text/plain": [
              "'TrdCaptRpt RptID=23106122137 TrdDt=2023-01-02 BizDt=2023-01-11 TxnTm=2023-03-20T20:33:05.393-6:00 TrdID=23106122137 TransTyp=2 RptTyp=0 LastQty=85.0 LastPx=370.0 Hdr Snt=2023-03-20T23:14:12.436+01:00 TID=MGEX SID=HBPL Instrmt Exch=SNTL ID=IP0 MMY=202310 CFI=FCCPXX RptSide Side=2 AvgPxInd=1 AllocInd=1 AllocGrpInst=0 Pty ID=210 R=1 RptSide TrdCaptRpt '"
            ],
            "application/vnd.google.colaboratory.intrinsic+json": {
              "type": "string"
            }
          },
          "metadata": {},
          "execution_count": 153
        }
      ]
    },
    {
      "cell_type": "code",
      "source": [
        "df8.iloc[400]['SGW_Operation']"
      ],
      "metadata": {
        "colab": {
          "base_uri": "https://localhost:8080/",
          "height": 70
        },
        "id": "qO0wFl7z0mwa",
        "outputId": "42dd4a24-44e7-4d93-eaf5-0c9972772945"
      },
      "execution_count": null,
      "outputs": [
        {
          "output_type": "execute_result",
          "data": {
            "text/plain": [
              "'AllocInstrctn Qty=35.0 BizDt=2023-02-05 TrdDt=2022-12-21 TxnTm=2023-02-15T15:33:05.333-6:00 Side=1 ID=2821197439223837854@BTNL 15687781502GR@20221221 TransTyp=0 Typ=17 GrpID=15687781502 Hdr Snt=2023-02-15T22:25:13.545+1:00 TID=MGEX SID=HBPL Instrmt Exch=BTNL ID=BUS MMY=202310 CFI=FXXXXX Pty ID=Mohamed-300 R=24 Sub ID=1 Typ=26 Pty Pty ID=210 R=1 Pty ID=XMGE R=21 Alloc CustCpcty=3 IndAllocID=15900 Txt=notes Qty=35.0 Pty ID=CUSTACT6 R=24 Sub ID=2 Typ=26 Pty Pty ID=172 R=1 Pty ID=XMGE R=21 Alloc AllocInstrctn '"
            ],
            "application/vnd.google.colaboratory.intrinsic+json": {
              "type": "string"
            }
          },
          "metadata": {},
          "execution_count": 154
        }
      ]
    },
    {
      "cell_type": "code",
      "source": [
        "df8.iloc[600]['SGW_Operation']"
      ],
      "metadata": {
        "colab": {
          "base_uri": "https://localhost:8080/",
          "height": 88
        },
        "id": "A1QrKme40qPK",
        "outputId": "7074bdf2-64ae-4091-e428-c1d09c5dab8a"
      },
      "execution_count": null,
      "outputs": [
        {
          "output_type": "execute_result",
          "data": {
            "text/plain": [
              "'TrdCaptRpt RptID=25995164240 TrdDt=2022-12-17 BizDt=2023-01-06 TxnTm=2023-02-15T05:17:30.326-6:00 TrdID=25995164240 TransTyp=2 RptTyp=0 LastQty=31.0 LastPx=1050.0 Hdr Snt=2023-02-15T19:33:05.333+01:00 TID=MGEX SID=TL98 Instrmt Exch=XMGE ID=B MMY=202310 CFI=FCCPXX RptSide Side=1 AllocInd=2 CustCpcty=4 Pty ID=210 R=1 Alloc Qty=27.0 CustCpcty=4 IndAllocID=1102504308860159863@XMGE 25995164240FS@20221217||5d135 Pty ID=FIRMACT1 R=24 Sub ID=2 Typ=26 Pty Alloc Alloc Qty=4.0 CustCpcty=4 IndAllocID=1102504308860159863@XMGE 25995164240FS@20221217||c2537 Pty ID=5cot9 R=24 Sub ID=2 Typ=26 Pty Alloc RptSide TrdCaptRpt '"
            ],
            "application/vnd.google.colaboratory.intrinsic+json": {
              "type": "string"
            }
          },
          "metadata": {},
          "execution_count": 155
        }
      ]
    },
    {
      "cell_type": "code",
      "source": [
        "df8.iloc[800]['SGW_Operation']"
      ],
      "metadata": {
        "colab": {
          "base_uri": "https://localhost:8080/",
          "height": 105
        },
        "id": "beAcdkLA0uil",
        "outputId": "a74c0307-ce9a-4d4f-8f50-a626a0522a87"
      },
      "execution_count": null,
      "outputs": [
        {
          "output_type": "execute_result",
          "data": {
            "text/plain": [
              "'TrdCaptRpt RptID=37074053090 TrdDt=2023-01-02 BizDt=2023-01-20 TxnTm=2023-03-30T16:40:55.230-5:00 TrdID=37074053090 TransTyp=2 RptTyp=0 LastQty=71.0 LastPx=100.0 Hdr Snt=2023-03-30T22:03:12.436+01:00 TID=MGEX SID=B509 Instrmt Exch=SNTL ID=IP0 MMY=202307 CFI=APYBKL RptSide Side=1 AllocInd=2 CustCpcty=1 Pty ID=210 R=1 Alloc Qty=3.0 CustCpcty=1 IndAllocID=1484335593216082836@SNTL 37074053090FS@20230102||ckpla Pty ID=FIRMACT1 R=24 Sub ID=1 Typ=26 Pty Alloc Alloc Qty=26.0 CustCpcty=3 IndAllocID=1484335593216082836@SNTL 37074053090FS@20230102||el8ab Pty ID=FIRMACT2 R=24 Sub ID=1 Typ=26 Pty Alloc Alloc Qty=42.0 CustCpcty=2 IndAllocID=1484335593216082836@SNTL 37074053090FS@20230102||6blp9 Pty ID=4hmpt R=24 Sub ID=1 Typ=26 Pty Alloc RptSide TrdCaptRpt '"
            ],
            "application/vnd.google.colaboratory.intrinsic+json": {
              "type": "string"
            }
          },
          "metadata": {},
          "execution_count": 156
        }
      ]
    },
    {
      "cell_type": "code",
      "source": [
        "df8.iloc[1000]['SGW_Operation']"
      ],
      "metadata": {
        "colab": {
          "base_uri": "https://localhost:8080/",
          "height": 105
        },
        "id": "Iw57Y9Ym0xmG",
        "outputId": "b85b4b09-efbb-4719-dd12-995c0aedbccb"
      },
      "execution_count": null,
      "outputs": [
        {
          "output_type": "execute_result",
          "data": {
            "text/plain": [
              "'TrdCaptRpt RptID=30179677426 TrdDt=2023-01-05 BizDt=2023-01-11 TxnTm=2023-03-30T10:18:15.230-5:00 TrdID=30179677426 TransTyp=2 RptTyp=0 LastQty=68.0 LastPx=100.0 Hdr Snt=2023-03-30T19:33:05.333+01:00 TID=MGEX SID=D210 Instrmt Exch=XMGE ID=W MMY=202310 CFI=MKLPON RptSide Side=2 AllocInd=2 CustCpcty=2 Pty ID=210 R=1 Alloc Qty=48.0 CustCpcty=2 IndAllocID=1450893343356749329@XMGE 30179677426FS@20230105||9la98 Pty ID=FIRMACT1 R=24 Sub ID=2 Typ=26 Pty Alloc Alloc Qty=9.0 CustCpcty=2 IndAllocID=1450893343356749329@XMGE 30179677426FS@20230105||3tlpa Pty ID=najet R=24 Sub ID=2 Typ=26 Pty Alloc Alloc Qty=7.0 CustCpcty=3 IndAllocID=1450893343356749329@XMGE 30179677426FS@20230105||mplo5 Pty ID=marwa R=24 Sub ID=2 Typ=26 Pty Alloc Alloc Qty=4.0 CustCpcty=1 IndAllocID=1450893343356749329@XMGE 30179677426FS@20230105||mbn78 Pty ID=6tlpi R=24 Sub ID=2 Typ=26 Pty Alloc RptSide TrdCaptRpt '"
            ],
            "application/vnd.google.colaboratory.intrinsic+json": {
              "type": "string"
            }
          },
          "metadata": {},
          "execution_count": 157
        }
      ]
    },
    {
      "cell_type": "code",
      "source": [
        "df8.head()"
      ],
      "metadata": {
        "colab": {
          "base_uri": "https://localhost:8080/",
          "height": 206
        },
        "id": "sVOrM-Kq1YgR",
        "outputId": "903aca16-9c0f-4403-8254-574c563af7e3"
      },
      "execution_count": null,
      "outputs": [
        {
          "output_type": "execute_result",
          "data": {
            "text/plain": [
              "                                       SGW_Operation      Workflow\n",
              "0  TrdCaptRpt RptID=23111916222 TrdDt=2023-01-02 ...  Full Service\n",
              "1  TrdCaptRpt RptID=25369020415 TrdDt=2022-12-17 ...  Full Service\n",
              "2  TrdCaptRpt RptID=35195221433 TrdDt=2022-12-21 ...  Full Service\n",
              "3  TrdCaptRpt RptID=39546900839 TrdDt=2022-12-21 ...  Full Service\n",
              "4  TrdCaptRpt RptID=35997621782 TrdDt=2022-12-21 ...  Full Service"
            ],
            "text/html": [
              "\n",
              "  <div id=\"df-5caad42d-b535-49f6-8b72-3a7c4586550e\" class=\"colab-df-container\">\n",
              "    <div>\n",
              "<style scoped>\n",
              "    .dataframe tbody tr th:only-of-type {\n",
              "        vertical-align: middle;\n",
              "    }\n",
              "\n",
              "    .dataframe tbody tr th {\n",
              "        vertical-align: top;\n",
              "    }\n",
              "\n",
              "    .dataframe thead th {\n",
              "        text-align: right;\n",
              "    }\n",
              "</style>\n",
              "<table border=\"1\" class=\"dataframe\">\n",
              "  <thead>\n",
              "    <tr style=\"text-align: right;\">\n",
              "      <th></th>\n",
              "      <th>SGW_Operation</th>\n",
              "      <th>Workflow</th>\n",
              "    </tr>\n",
              "  </thead>\n",
              "  <tbody>\n",
              "    <tr>\n",
              "      <th>0</th>\n",
              "      <td>TrdCaptRpt RptID=23111916222 TrdDt=2023-01-02 ...</td>\n",
              "      <td>Full Service</td>\n",
              "    </tr>\n",
              "    <tr>\n",
              "      <th>1</th>\n",
              "      <td>TrdCaptRpt RptID=25369020415 TrdDt=2022-12-17 ...</td>\n",
              "      <td>Full Service</td>\n",
              "    </tr>\n",
              "    <tr>\n",
              "      <th>2</th>\n",
              "      <td>TrdCaptRpt RptID=35195221433 TrdDt=2022-12-21 ...</td>\n",
              "      <td>Full Service</td>\n",
              "    </tr>\n",
              "    <tr>\n",
              "      <th>3</th>\n",
              "      <td>TrdCaptRpt RptID=39546900839 TrdDt=2022-12-21 ...</td>\n",
              "      <td>Full Service</td>\n",
              "    </tr>\n",
              "    <tr>\n",
              "      <th>4</th>\n",
              "      <td>TrdCaptRpt RptID=35997621782 TrdDt=2022-12-21 ...</td>\n",
              "      <td>Full Service</td>\n",
              "    </tr>\n",
              "  </tbody>\n",
              "</table>\n",
              "</div>\n",
              "    <div class=\"colab-df-buttons\">\n",
              "\n",
              "  <div class=\"colab-df-container\">\n",
              "    <button class=\"colab-df-convert\" onclick=\"convertToInteractive('df-5caad42d-b535-49f6-8b72-3a7c4586550e')\"\n",
              "            title=\"Convert this dataframe to an interactive table.\"\n",
              "            style=\"display:none;\">\n",
              "\n",
              "  <svg xmlns=\"http://www.w3.org/2000/svg\" height=\"24px\" viewBox=\"0 -960 960 960\">\n",
              "    <path d=\"M120-120v-720h720v720H120Zm60-500h600v-160H180v160Zm220 220h160v-160H400v160Zm0 220h160v-160H400v160ZM180-400h160v-160H180v160Zm440 0h160v-160H620v160ZM180-180h160v-160H180v160Zm440 0h160v-160H620v160Z\"/>\n",
              "  </svg>\n",
              "    </button>\n",
              "\n",
              "  <style>\n",
              "    .colab-df-container {\n",
              "      display:flex;\n",
              "      gap: 12px;\n",
              "    }\n",
              "\n",
              "    .colab-df-convert {\n",
              "      background-color: #E8F0FE;\n",
              "      border: none;\n",
              "      border-radius: 50%;\n",
              "      cursor: pointer;\n",
              "      display: none;\n",
              "      fill: #1967D2;\n",
              "      height: 32px;\n",
              "      padding: 0 0 0 0;\n",
              "      width: 32px;\n",
              "    }\n",
              "\n",
              "    .colab-df-convert:hover {\n",
              "      background-color: #E2EBFA;\n",
              "      box-shadow: 0px 1px 2px rgba(60, 64, 67, 0.3), 0px 1px 3px 1px rgba(60, 64, 67, 0.15);\n",
              "      fill: #174EA6;\n",
              "    }\n",
              "\n",
              "    .colab-df-buttons div {\n",
              "      margin-bottom: 4px;\n",
              "    }\n",
              "\n",
              "    [theme=dark] .colab-df-convert {\n",
              "      background-color: #3B4455;\n",
              "      fill: #D2E3FC;\n",
              "    }\n",
              "\n",
              "    [theme=dark] .colab-df-convert:hover {\n",
              "      background-color: #434B5C;\n",
              "      box-shadow: 0px 1px 3px 1px rgba(0, 0, 0, 0.15);\n",
              "      filter: drop-shadow(0px 1px 2px rgba(0, 0, 0, 0.3));\n",
              "      fill: #FFFFFF;\n",
              "    }\n",
              "  </style>\n",
              "\n",
              "    <script>\n",
              "      const buttonEl =\n",
              "        document.querySelector('#df-5caad42d-b535-49f6-8b72-3a7c4586550e button.colab-df-convert');\n",
              "      buttonEl.style.display =\n",
              "        google.colab.kernel.accessAllowed ? 'block' : 'none';\n",
              "\n",
              "      async function convertToInteractive(key) {\n",
              "        const element = document.querySelector('#df-5caad42d-b535-49f6-8b72-3a7c4586550e');\n",
              "        const dataTable =\n",
              "          await google.colab.kernel.invokeFunction('convertToInteractive',\n",
              "                                                    [key], {});\n",
              "        if (!dataTable) return;\n",
              "\n",
              "        const docLinkHtml = 'Like what you see? Visit the ' +\n",
              "          '<a target=\"_blank\" href=https://colab.research.google.com/notebooks/data_table.ipynb>data table notebook</a>'\n",
              "          + ' to learn more about interactive tables.';\n",
              "        element.innerHTML = '';\n",
              "        dataTable['output_type'] = 'display_data';\n",
              "        await google.colab.output.renderOutput(dataTable, element);\n",
              "        const docLink = document.createElement('div');\n",
              "        docLink.innerHTML = docLinkHtml;\n",
              "        element.appendChild(docLink);\n",
              "      }\n",
              "    </script>\n",
              "  </div>\n",
              "\n",
              "\n",
              "<div id=\"df-ee2c9999-599a-49ea-b704-20527e6b0f7d\">\n",
              "  <button class=\"colab-df-quickchart\" onclick=\"quickchart('df-ee2c9999-599a-49ea-b704-20527e6b0f7d')\"\n",
              "            title=\"Suggest charts\"\n",
              "            style=\"display:none;\">\n",
              "\n",
              "<svg xmlns=\"http://www.w3.org/2000/svg\" height=\"24px\"viewBox=\"0 0 24 24\"\n",
              "     width=\"24px\">\n",
              "    <g>\n",
              "        <path d=\"M19 3H5c-1.1 0-2 .9-2 2v14c0 1.1.9 2 2 2h14c1.1 0 2-.9 2-2V5c0-1.1-.9-2-2-2zM9 17H7v-7h2v7zm4 0h-2V7h2v10zm4 0h-2v-4h2v4z\"/>\n",
              "    </g>\n",
              "</svg>\n",
              "  </button>\n",
              "\n",
              "<style>\n",
              "  .colab-df-quickchart {\n",
              "      --bg-color: #E8F0FE;\n",
              "      --fill-color: #1967D2;\n",
              "      --hover-bg-color: #E2EBFA;\n",
              "      --hover-fill-color: #174EA6;\n",
              "      --disabled-fill-color: #AAA;\n",
              "      --disabled-bg-color: #DDD;\n",
              "  }\n",
              "\n",
              "  [theme=dark] .colab-df-quickchart {\n",
              "      --bg-color: #3B4455;\n",
              "      --fill-color: #D2E3FC;\n",
              "      --hover-bg-color: #434B5C;\n",
              "      --hover-fill-color: #FFFFFF;\n",
              "      --disabled-bg-color: #3B4455;\n",
              "      --disabled-fill-color: #666;\n",
              "  }\n",
              "\n",
              "  .colab-df-quickchart {\n",
              "    background-color: var(--bg-color);\n",
              "    border: none;\n",
              "    border-radius: 50%;\n",
              "    cursor: pointer;\n",
              "    display: none;\n",
              "    fill: var(--fill-color);\n",
              "    height: 32px;\n",
              "    padding: 0;\n",
              "    width: 32px;\n",
              "  }\n",
              "\n",
              "  .colab-df-quickchart:hover {\n",
              "    background-color: var(--hover-bg-color);\n",
              "    box-shadow: 0 1px 2px rgba(60, 64, 67, 0.3), 0 1px 3px 1px rgba(60, 64, 67, 0.15);\n",
              "    fill: var(--button-hover-fill-color);\n",
              "  }\n",
              "\n",
              "  .colab-df-quickchart-complete:disabled,\n",
              "  .colab-df-quickchart-complete:disabled:hover {\n",
              "    background-color: var(--disabled-bg-color);\n",
              "    fill: var(--disabled-fill-color);\n",
              "    box-shadow: none;\n",
              "  }\n",
              "\n",
              "  .colab-df-spinner {\n",
              "    border: 2px solid var(--fill-color);\n",
              "    border-color: transparent;\n",
              "    border-bottom-color: var(--fill-color);\n",
              "    animation:\n",
              "      spin 1s steps(1) infinite;\n",
              "  }\n",
              "\n",
              "  @keyframes spin {\n",
              "    0% {\n",
              "      border-color: transparent;\n",
              "      border-bottom-color: var(--fill-color);\n",
              "      border-left-color: var(--fill-color);\n",
              "    }\n",
              "    20% {\n",
              "      border-color: transparent;\n",
              "      border-left-color: var(--fill-color);\n",
              "      border-top-color: var(--fill-color);\n",
              "    }\n",
              "    30% {\n",
              "      border-color: transparent;\n",
              "      border-left-color: var(--fill-color);\n",
              "      border-top-color: var(--fill-color);\n",
              "      border-right-color: var(--fill-color);\n",
              "    }\n",
              "    40% {\n",
              "      border-color: transparent;\n",
              "      border-right-color: var(--fill-color);\n",
              "      border-top-color: var(--fill-color);\n",
              "    }\n",
              "    60% {\n",
              "      border-color: transparent;\n",
              "      border-right-color: var(--fill-color);\n",
              "    }\n",
              "    80% {\n",
              "      border-color: transparent;\n",
              "      border-right-color: var(--fill-color);\n",
              "      border-bottom-color: var(--fill-color);\n",
              "    }\n",
              "    90% {\n",
              "      border-color: transparent;\n",
              "      border-bottom-color: var(--fill-color);\n",
              "    }\n",
              "  }\n",
              "</style>\n",
              "\n",
              "  <script>\n",
              "    async function quickchart(key) {\n",
              "      const quickchartButtonEl =\n",
              "        document.querySelector('#' + key + ' button');\n",
              "      quickchartButtonEl.disabled = true;  // To prevent multiple clicks.\n",
              "      quickchartButtonEl.classList.add('colab-df-spinner');\n",
              "      try {\n",
              "        const charts = await google.colab.kernel.invokeFunction(\n",
              "            'suggestCharts', [key], {});\n",
              "      } catch (error) {\n",
              "        console.error('Error during call to suggestCharts:', error);\n",
              "      }\n",
              "      quickchartButtonEl.classList.remove('colab-df-spinner');\n",
              "      quickchartButtonEl.classList.add('colab-df-quickchart-complete');\n",
              "    }\n",
              "    (() => {\n",
              "      let quickchartButtonEl =\n",
              "        document.querySelector('#df-ee2c9999-599a-49ea-b704-20527e6b0f7d button');\n",
              "      quickchartButtonEl.style.display =\n",
              "        google.colab.kernel.accessAllowed ? 'block' : 'none';\n",
              "    })();\n",
              "  </script>\n",
              "</div>\n",
              "\n",
              "    </div>\n",
              "  </div>\n"
            ],
            "application/vnd.google.colaboratory.intrinsic+json": {
              "type": "dataframe",
              "variable_name": "df8",
              "summary": "{\n  \"name\": \"df8\",\n  \"rows\": 1200,\n  \"fields\": [\n    {\n      \"column\": \"SGW_Operation\",\n      \"properties\": {\n        \"dtype\": \"string\",\n        \"num_unique_values\": 1200,\n        \"samples\": [\n          \"TrdCaptRpt RptID=40179682176 TrdDt=2022-12-21 BizDt=2023-01-06 TxnTm=2023-03-30T05:17:30.230-6:00 TrdID=40179682176 TransTyp=2 RptTyp=0 LastQty=106.0 LastPx=540.698 Hdr Snt=2023-03-30T17:30:55.600+01:00 TID=MGEX SID=B509 Instrmt Exch=XMGE ID=LM MMY=202310 CFI=FCCPXX RptSide Side=1 AllocInd=2 CustCpcty=4 Pty ID=210 R=1 Alloc Qty=7.0 CustCpcty=4 IndAllocID=1943577388403686450@XMGE 40179682176FS@20221221||ckpla Pty ID=AKLPM9 R=24 Sub ID=1 Typ=26 Pty Alloc Alloc Qty=47.0 CustCpcty=2 IndAllocID=1943577388403686450@XMGE 40179682176FS@20221221||3tlpa Pty ID=5cot9 R=24 Sub ID=1 Typ=26 Pty Alloc Alloc Qty=7.0 CustCpcty=4 IndAllocID=1943577388403686450@XMGE 40179682176FS@20221221||amp87 Pty ID=marwa R=24 Sub ID=1 Typ=26 Pty Alloc Alloc Qty=45.0 CustCpcty=2 IndAllocID=1943577388403686450@XMGE 40179682176FS@20221221||plmp0 Pty ID=6tlpi R=24 Sub ID=1 Typ=26 Pty Alloc RptSide TrdCaptRpt \",\n          \"TrdCaptRpt RptID=31502471744 TrdDt=2022-12-21 BizDt=2023-02-05 TxnTm=2023-03-20T10:18:15.230-6:00 TrdID=31502471744 TransTyp=2 RptTyp=0 LastQty=76.0 LastPx=100.0 Hdr Snt=2023-03-20T22:03:12.436+01:00 TID=MGEX SID=HBPL Instrmt Exch=XMGE ID=IP0 MMY=202307 CFI=MKLPON RptSide Side=2 AllocInd=2 CustCpcty=4 Pty ID=210 R=1 Alloc Qty=32.0 CustCpcty=4 IndAllocID=1107108555275260796@XMGE 31502471744FS@20221221||9la98 Pty ID=MPLAMP6 R=24 Sub ID=2 Typ=26 Pty Alloc Alloc Qty=24.0 CustCpcty=1 IndAllocID=1107108555275260796@XMGE 31502471744FS@20221221||3tlpa Pty ID=najet R=24 Sub ID=2 Typ=26 Pty Alloc Alloc Qty=20.0 CustCpcty=3 IndAllocID=1107108555275260796@XMGE 31502471744FS@20221221||mplo5 Pty ID=4hmpt R=24 Sub ID=2 Typ=26 Pty Alloc RptSide TrdCaptRpt \",\n          \"TrdCaptRpt RptID=34888441568 TrdDt=2022-12-17 BizDt=2023-01-20 TxnTm=2023-03-30T05:17:30.100-7:00 TrdID=34888441568 TransTyp=2 RptTyp=0 LastQty=70.0 LastPx=540.698 Hdr Snt=2023-03-30T19:33:05.333+01:00 TID=MGEX SID=HBPL Instrmt Exch=HDPL ID=BUI MMY=202307 CFI=MKLPON RptSide Side=1 CustCpcty=2 Pty ID=210 R=1 Pty ID=FIRMACT1 R=24 Sub ID=1 Typ=26 Pty RptSide TrdCaptRpt \"\n        ],\n        \"semantic_type\": \"\",\n        \"description\": \"\"\n      }\n    },\n    {\n      \"column\": \"Workflow\",\n      \"properties\": {\n        \"dtype\": \"category\",\n        \"num_unique_values\": 6,\n        \"samples\": [\n          \"Full Service\",\n          \"Mark As Give Up\",\n          \"Split On Four Accounts\"\n        ],\n        \"semantic_type\": \"\",\n        \"description\": \"\"\n      }\n    }\n  ]\n}"
            }
          },
          "metadata": {},
          "execution_count": 158
        }
      ]
    },
    {
      "cell_type": "markdown",
      "source": [
        "**Encoding the Workflow Column**"
      ],
      "metadata": {
        "id": "n5KSgqAUKwaY"
      }
    },
    {
      "cell_type": "code",
      "source": [
        "df9 = df8.copy()"
      ],
      "metadata": {
        "id": "uJJMM8d105Xt"
      },
      "execution_count": null,
      "outputs": []
    },
    {
      "cell_type": "code",
      "source": [
        "dic={\"Full Service\":0, \"Mark As Give Up\":1, \"Give Up\":2, \"Split On Two Accounts\":3, \"Split On Three Accounts\":4, \"Split On Four Accounts\":5}"
      ],
      "metadata": {
        "id": "SC2IX52L1AL2"
      },
      "execution_count": null,
      "outputs": []
    },
    {
      "cell_type": "code",
      "source": [
        "df9[\"Workflow\"] = df9[\"Workflow\"].map(dic)"
      ],
      "metadata": {
        "id": "8mVodMMS2P0C"
      },
      "execution_count": null,
      "outputs": []
    },
    {
      "cell_type": "code",
      "source": [
        "df9.head()"
      ],
      "metadata": {
        "colab": {
          "base_uri": "https://localhost:8080/",
          "height": 206
        },
        "id": "JkEnd14v3Fnl",
        "outputId": "69fbb560-bfc6-4860-83e5-114edb86d7dd"
      },
      "execution_count": null,
      "outputs": [
        {
          "output_type": "execute_result",
          "data": {
            "text/plain": [
              "                                       SGW_Operation  Workflow\n",
              "0  TrdCaptRpt RptID=23111916222 TrdDt=2023-01-02 ...         0\n",
              "1  TrdCaptRpt RptID=25369020415 TrdDt=2022-12-17 ...         0\n",
              "2  TrdCaptRpt RptID=35195221433 TrdDt=2022-12-21 ...         0\n",
              "3  TrdCaptRpt RptID=39546900839 TrdDt=2022-12-21 ...         0\n",
              "4  TrdCaptRpt RptID=35997621782 TrdDt=2022-12-21 ...         0"
            ],
            "text/html": [
              "\n",
              "  <div id=\"df-f1dc1428-5764-4acc-a51a-0611f7404fd1\" class=\"colab-df-container\">\n",
              "    <div>\n",
              "<style scoped>\n",
              "    .dataframe tbody tr th:only-of-type {\n",
              "        vertical-align: middle;\n",
              "    }\n",
              "\n",
              "    .dataframe tbody tr th {\n",
              "        vertical-align: top;\n",
              "    }\n",
              "\n",
              "    .dataframe thead th {\n",
              "        text-align: right;\n",
              "    }\n",
              "</style>\n",
              "<table border=\"1\" class=\"dataframe\">\n",
              "  <thead>\n",
              "    <tr style=\"text-align: right;\">\n",
              "      <th></th>\n",
              "      <th>SGW_Operation</th>\n",
              "      <th>Workflow</th>\n",
              "    </tr>\n",
              "  </thead>\n",
              "  <tbody>\n",
              "    <tr>\n",
              "      <th>0</th>\n",
              "      <td>TrdCaptRpt RptID=23111916222 TrdDt=2023-01-02 ...</td>\n",
              "      <td>0</td>\n",
              "    </tr>\n",
              "    <tr>\n",
              "      <th>1</th>\n",
              "      <td>TrdCaptRpt RptID=25369020415 TrdDt=2022-12-17 ...</td>\n",
              "      <td>0</td>\n",
              "    </tr>\n",
              "    <tr>\n",
              "      <th>2</th>\n",
              "      <td>TrdCaptRpt RptID=35195221433 TrdDt=2022-12-21 ...</td>\n",
              "      <td>0</td>\n",
              "    </tr>\n",
              "    <tr>\n",
              "      <th>3</th>\n",
              "      <td>TrdCaptRpt RptID=39546900839 TrdDt=2022-12-21 ...</td>\n",
              "      <td>0</td>\n",
              "    </tr>\n",
              "    <tr>\n",
              "      <th>4</th>\n",
              "      <td>TrdCaptRpt RptID=35997621782 TrdDt=2022-12-21 ...</td>\n",
              "      <td>0</td>\n",
              "    </tr>\n",
              "  </tbody>\n",
              "</table>\n",
              "</div>\n",
              "    <div class=\"colab-df-buttons\">\n",
              "\n",
              "  <div class=\"colab-df-container\">\n",
              "    <button class=\"colab-df-convert\" onclick=\"convertToInteractive('df-f1dc1428-5764-4acc-a51a-0611f7404fd1')\"\n",
              "            title=\"Convert this dataframe to an interactive table.\"\n",
              "            style=\"display:none;\">\n",
              "\n",
              "  <svg xmlns=\"http://www.w3.org/2000/svg\" height=\"24px\" viewBox=\"0 -960 960 960\">\n",
              "    <path d=\"M120-120v-720h720v720H120Zm60-500h600v-160H180v160Zm220 220h160v-160H400v160Zm0 220h160v-160H400v160ZM180-400h160v-160H180v160Zm440 0h160v-160H620v160ZM180-180h160v-160H180v160Zm440 0h160v-160H620v160Z\"/>\n",
              "  </svg>\n",
              "    </button>\n",
              "\n",
              "  <style>\n",
              "    .colab-df-container {\n",
              "      display:flex;\n",
              "      gap: 12px;\n",
              "    }\n",
              "\n",
              "    .colab-df-convert {\n",
              "      background-color: #E8F0FE;\n",
              "      border: none;\n",
              "      border-radius: 50%;\n",
              "      cursor: pointer;\n",
              "      display: none;\n",
              "      fill: #1967D2;\n",
              "      height: 32px;\n",
              "      padding: 0 0 0 0;\n",
              "      width: 32px;\n",
              "    }\n",
              "\n",
              "    .colab-df-convert:hover {\n",
              "      background-color: #E2EBFA;\n",
              "      box-shadow: 0px 1px 2px rgba(60, 64, 67, 0.3), 0px 1px 3px 1px rgba(60, 64, 67, 0.15);\n",
              "      fill: #174EA6;\n",
              "    }\n",
              "\n",
              "    .colab-df-buttons div {\n",
              "      margin-bottom: 4px;\n",
              "    }\n",
              "\n",
              "    [theme=dark] .colab-df-convert {\n",
              "      background-color: #3B4455;\n",
              "      fill: #D2E3FC;\n",
              "    }\n",
              "\n",
              "    [theme=dark] .colab-df-convert:hover {\n",
              "      background-color: #434B5C;\n",
              "      box-shadow: 0px 1px 3px 1px rgba(0, 0, 0, 0.15);\n",
              "      filter: drop-shadow(0px 1px 2px rgba(0, 0, 0, 0.3));\n",
              "      fill: #FFFFFF;\n",
              "    }\n",
              "  </style>\n",
              "\n",
              "    <script>\n",
              "      const buttonEl =\n",
              "        document.querySelector('#df-f1dc1428-5764-4acc-a51a-0611f7404fd1 button.colab-df-convert');\n",
              "      buttonEl.style.display =\n",
              "        google.colab.kernel.accessAllowed ? 'block' : 'none';\n",
              "\n",
              "      async function convertToInteractive(key) {\n",
              "        const element = document.querySelector('#df-f1dc1428-5764-4acc-a51a-0611f7404fd1');\n",
              "        const dataTable =\n",
              "          await google.colab.kernel.invokeFunction('convertToInteractive',\n",
              "                                                    [key], {});\n",
              "        if (!dataTable) return;\n",
              "\n",
              "        const docLinkHtml = 'Like what you see? Visit the ' +\n",
              "          '<a target=\"_blank\" href=https://colab.research.google.com/notebooks/data_table.ipynb>data table notebook</a>'\n",
              "          + ' to learn more about interactive tables.';\n",
              "        element.innerHTML = '';\n",
              "        dataTable['output_type'] = 'display_data';\n",
              "        await google.colab.output.renderOutput(dataTable, element);\n",
              "        const docLink = document.createElement('div');\n",
              "        docLink.innerHTML = docLinkHtml;\n",
              "        element.appendChild(docLink);\n",
              "      }\n",
              "    </script>\n",
              "  </div>\n",
              "\n",
              "\n",
              "<div id=\"df-1926b6c0-4c13-4910-9b7d-9d45f7753420\">\n",
              "  <button class=\"colab-df-quickchart\" onclick=\"quickchart('df-1926b6c0-4c13-4910-9b7d-9d45f7753420')\"\n",
              "            title=\"Suggest charts\"\n",
              "            style=\"display:none;\">\n",
              "\n",
              "<svg xmlns=\"http://www.w3.org/2000/svg\" height=\"24px\"viewBox=\"0 0 24 24\"\n",
              "     width=\"24px\">\n",
              "    <g>\n",
              "        <path d=\"M19 3H5c-1.1 0-2 .9-2 2v14c0 1.1.9 2 2 2h14c1.1 0 2-.9 2-2V5c0-1.1-.9-2-2-2zM9 17H7v-7h2v7zm4 0h-2V7h2v10zm4 0h-2v-4h2v4z\"/>\n",
              "    </g>\n",
              "</svg>\n",
              "  </button>\n",
              "\n",
              "<style>\n",
              "  .colab-df-quickchart {\n",
              "      --bg-color: #E8F0FE;\n",
              "      --fill-color: #1967D2;\n",
              "      --hover-bg-color: #E2EBFA;\n",
              "      --hover-fill-color: #174EA6;\n",
              "      --disabled-fill-color: #AAA;\n",
              "      --disabled-bg-color: #DDD;\n",
              "  }\n",
              "\n",
              "  [theme=dark] .colab-df-quickchart {\n",
              "      --bg-color: #3B4455;\n",
              "      --fill-color: #D2E3FC;\n",
              "      --hover-bg-color: #434B5C;\n",
              "      --hover-fill-color: #FFFFFF;\n",
              "      --disabled-bg-color: #3B4455;\n",
              "      --disabled-fill-color: #666;\n",
              "  }\n",
              "\n",
              "  .colab-df-quickchart {\n",
              "    background-color: var(--bg-color);\n",
              "    border: none;\n",
              "    border-radius: 50%;\n",
              "    cursor: pointer;\n",
              "    display: none;\n",
              "    fill: var(--fill-color);\n",
              "    height: 32px;\n",
              "    padding: 0;\n",
              "    width: 32px;\n",
              "  }\n",
              "\n",
              "  .colab-df-quickchart:hover {\n",
              "    background-color: var(--hover-bg-color);\n",
              "    box-shadow: 0 1px 2px rgba(60, 64, 67, 0.3), 0 1px 3px 1px rgba(60, 64, 67, 0.15);\n",
              "    fill: var(--button-hover-fill-color);\n",
              "  }\n",
              "\n",
              "  .colab-df-quickchart-complete:disabled,\n",
              "  .colab-df-quickchart-complete:disabled:hover {\n",
              "    background-color: var(--disabled-bg-color);\n",
              "    fill: var(--disabled-fill-color);\n",
              "    box-shadow: none;\n",
              "  }\n",
              "\n",
              "  .colab-df-spinner {\n",
              "    border: 2px solid var(--fill-color);\n",
              "    border-color: transparent;\n",
              "    border-bottom-color: var(--fill-color);\n",
              "    animation:\n",
              "      spin 1s steps(1) infinite;\n",
              "  }\n",
              "\n",
              "  @keyframes spin {\n",
              "    0% {\n",
              "      border-color: transparent;\n",
              "      border-bottom-color: var(--fill-color);\n",
              "      border-left-color: var(--fill-color);\n",
              "    }\n",
              "    20% {\n",
              "      border-color: transparent;\n",
              "      border-left-color: var(--fill-color);\n",
              "      border-top-color: var(--fill-color);\n",
              "    }\n",
              "    30% {\n",
              "      border-color: transparent;\n",
              "      border-left-color: var(--fill-color);\n",
              "      border-top-color: var(--fill-color);\n",
              "      border-right-color: var(--fill-color);\n",
              "    }\n",
              "    40% {\n",
              "      border-color: transparent;\n",
              "      border-right-color: var(--fill-color);\n",
              "      border-top-color: var(--fill-color);\n",
              "    }\n",
              "    60% {\n",
              "      border-color: transparent;\n",
              "      border-right-color: var(--fill-color);\n",
              "    }\n",
              "    80% {\n",
              "      border-color: transparent;\n",
              "      border-right-color: var(--fill-color);\n",
              "      border-bottom-color: var(--fill-color);\n",
              "    }\n",
              "    90% {\n",
              "      border-color: transparent;\n",
              "      border-bottom-color: var(--fill-color);\n",
              "    }\n",
              "  }\n",
              "</style>\n",
              "\n",
              "  <script>\n",
              "    async function quickchart(key) {\n",
              "      const quickchartButtonEl =\n",
              "        document.querySelector('#' + key + ' button');\n",
              "      quickchartButtonEl.disabled = true;  // To prevent multiple clicks.\n",
              "      quickchartButtonEl.classList.add('colab-df-spinner');\n",
              "      try {\n",
              "        const charts = await google.colab.kernel.invokeFunction(\n",
              "            'suggestCharts', [key], {});\n",
              "      } catch (error) {\n",
              "        console.error('Error during call to suggestCharts:', error);\n",
              "      }\n",
              "      quickchartButtonEl.classList.remove('colab-df-spinner');\n",
              "      quickchartButtonEl.classList.add('colab-df-quickchart-complete');\n",
              "    }\n",
              "    (() => {\n",
              "      let quickchartButtonEl =\n",
              "        document.querySelector('#df-1926b6c0-4c13-4910-9b7d-9d45f7753420 button');\n",
              "      quickchartButtonEl.style.display =\n",
              "        google.colab.kernel.accessAllowed ? 'block' : 'none';\n",
              "    })();\n",
              "  </script>\n",
              "</div>\n",
              "\n",
              "    </div>\n",
              "  </div>\n"
            ],
            "application/vnd.google.colaboratory.intrinsic+json": {
              "type": "dataframe",
              "variable_name": "df9",
              "summary": "{\n  \"name\": \"df9\",\n  \"rows\": 1200,\n  \"fields\": [\n    {\n      \"column\": \"SGW_Operation\",\n      \"properties\": {\n        \"dtype\": \"string\",\n        \"num_unique_values\": 1200,\n        \"samples\": [\n          \"TrdCaptRpt RptID=40179682176 TrdDt=2022-12-21 BizDt=2023-01-06 TxnTm=2023-03-30T05:17:30.230-6:00 TrdID=40179682176 TransTyp=2 RptTyp=0 LastQty=106.0 LastPx=540.698 Hdr Snt=2023-03-30T17:30:55.600+01:00 TID=MGEX SID=B509 Instrmt Exch=XMGE ID=LM MMY=202310 CFI=FCCPXX RptSide Side=1 AllocInd=2 CustCpcty=4 Pty ID=210 R=1 Alloc Qty=7.0 CustCpcty=4 IndAllocID=1943577388403686450@XMGE 40179682176FS@20221221||ckpla Pty ID=AKLPM9 R=24 Sub ID=1 Typ=26 Pty Alloc Alloc Qty=47.0 CustCpcty=2 IndAllocID=1943577388403686450@XMGE 40179682176FS@20221221||3tlpa Pty ID=5cot9 R=24 Sub ID=1 Typ=26 Pty Alloc Alloc Qty=7.0 CustCpcty=4 IndAllocID=1943577388403686450@XMGE 40179682176FS@20221221||amp87 Pty ID=marwa R=24 Sub ID=1 Typ=26 Pty Alloc Alloc Qty=45.0 CustCpcty=2 IndAllocID=1943577388403686450@XMGE 40179682176FS@20221221||plmp0 Pty ID=6tlpi R=24 Sub ID=1 Typ=26 Pty Alloc RptSide TrdCaptRpt \",\n          \"TrdCaptRpt RptID=31502471744 TrdDt=2022-12-21 BizDt=2023-02-05 TxnTm=2023-03-20T10:18:15.230-6:00 TrdID=31502471744 TransTyp=2 RptTyp=0 LastQty=76.0 LastPx=100.0 Hdr Snt=2023-03-20T22:03:12.436+01:00 TID=MGEX SID=HBPL Instrmt Exch=XMGE ID=IP0 MMY=202307 CFI=MKLPON RptSide Side=2 AllocInd=2 CustCpcty=4 Pty ID=210 R=1 Alloc Qty=32.0 CustCpcty=4 IndAllocID=1107108555275260796@XMGE 31502471744FS@20221221||9la98 Pty ID=MPLAMP6 R=24 Sub ID=2 Typ=26 Pty Alloc Alloc Qty=24.0 CustCpcty=1 IndAllocID=1107108555275260796@XMGE 31502471744FS@20221221||3tlpa Pty ID=najet R=24 Sub ID=2 Typ=26 Pty Alloc Alloc Qty=20.0 CustCpcty=3 IndAllocID=1107108555275260796@XMGE 31502471744FS@20221221||mplo5 Pty ID=4hmpt R=24 Sub ID=2 Typ=26 Pty Alloc RptSide TrdCaptRpt \",\n          \"TrdCaptRpt RptID=34888441568 TrdDt=2022-12-17 BizDt=2023-01-20 TxnTm=2023-03-30T05:17:30.100-7:00 TrdID=34888441568 TransTyp=2 RptTyp=0 LastQty=70.0 LastPx=540.698 Hdr Snt=2023-03-30T19:33:05.333+01:00 TID=MGEX SID=HBPL Instrmt Exch=HDPL ID=BUI MMY=202307 CFI=MKLPON RptSide Side=1 CustCpcty=2 Pty ID=210 R=1 Pty ID=FIRMACT1 R=24 Sub ID=1 Typ=26 Pty RptSide TrdCaptRpt \"\n        ],\n        \"semantic_type\": \"\",\n        \"description\": \"\"\n      }\n    },\n    {\n      \"column\": \"Workflow\",\n      \"properties\": {\n        \"dtype\": \"number\",\n        \"std\": 1,\n        \"min\": 0,\n        \"max\": 5,\n        \"num_unique_values\": 6,\n        \"samples\": [\n          0,\n          1,\n          5\n        ],\n        \"semantic_type\": \"\",\n        \"description\": \"\"\n      }\n    }\n  ]\n}"
            }
          },
          "metadata": {},
          "execution_count": 162
        }
      ]
    },
    {
      "cell_type": "code",
      "source": [
        "df9.iloc[0]['Workflow']"
      ],
      "metadata": {
        "colab": {
          "base_uri": "https://localhost:8080/"
        },
        "id": "IwVdQS2iJxgO",
        "outputId": "34e4e0ee-0d6f-4d94-fa23-20dfb804e13d"
      },
      "execution_count": null,
      "outputs": [
        {
          "output_type": "execute_result",
          "data": {
            "text/plain": [
              "0"
            ]
          },
          "metadata": {},
          "execution_count": 239
        }
      ]
    },
    {
      "cell_type": "code",
      "source": [
        "df9.iloc[200]['Workflow']"
      ],
      "metadata": {
        "colab": {
          "base_uri": "https://localhost:8080/"
        },
        "id": "D4b1sZ0R4gWD",
        "outputId": "20e12fd4-6bbf-4fa5-83e1-7c5063aa3c41"
      },
      "execution_count": null,
      "outputs": [
        {
          "output_type": "execute_result",
          "data": {
            "text/plain": [
              "1"
            ]
          },
          "metadata": {},
          "execution_count": 163
        }
      ]
    },
    {
      "cell_type": "code",
      "source": [
        "df9.iloc[400]['Workflow']"
      ],
      "metadata": {
        "colab": {
          "base_uri": "https://localhost:8080/"
        },
        "id": "nHd0XkyP4lzR",
        "outputId": "f36ccdea-4de7-404d-86f7-2cfb16760df3"
      },
      "execution_count": null,
      "outputs": [
        {
          "output_type": "execute_result",
          "data": {
            "text/plain": [
              "2"
            ]
          },
          "metadata": {},
          "execution_count": 164
        }
      ]
    },
    {
      "cell_type": "code",
      "source": [
        "df9.iloc[600]['Workflow']"
      ],
      "metadata": {
        "colab": {
          "base_uri": "https://localhost:8080/"
        },
        "id": "zWp-dcuz4pyR",
        "outputId": "9b9abd80-8f2a-4b64-c762-35bebcf67c10"
      },
      "execution_count": null,
      "outputs": [
        {
          "output_type": "execute_result",
          "data": {
            "text/plain": [
              "3"
            ]
          },
          "metadata": {},
          "execution_count": 165
        }
      ]
    },
    {
      "cell_type": "code",
      "source": [
        "df9.iloc[800]['Workflow']"
      ],
      "metadata": {
        "colab": {
          "base_uri": "https://localhost:8080/"
        },
        "id": "kjYe45kS4u5a",
        "outputId": "da529c6d-9836-4051-eb4a-6fcf00aa8572"
      },
      "execution_count": null,
      "outputs": [
        {
          "output_type": "execute_result",
          "data": {
            "text/plain": [
              "4"
            ]
          },
          "metadata": {},
          "execution_count": 166
        }
      ]
    },
    {
      "cell_type": "code",
      "source": [
        "df9.iloc[1000]['Workflow']"
      ],
      "metadata": {
        "colab": {
          "base_uri": "https://localhost:8080/"
        },
        "id": "ETfAJz564ykx",
        "outputId": "8e3e0748-e0d4-4b9c-9730-52bbe40b7d11"
      },
      "execution_count": null,
      "outputs": [
        {
          "output_type": "execute_result",
          "data": {
            "text/plain": [
              "5"
            ]
          },
          "metadata": {},
          "execution_count": 167
        }
      ]
    },
    {
      "cell_type": "code",
      "source": [
        "X = df9['SGW_Operation']\n",
        "y = df9['Workflow']"
      ],
      "metadata": {
        "id": "j5oK_oXI40wD"
      },
      "execution_count": null,
      "outputs": []
    },
    {
      "cell_type": "markdown",
      "source": [
        "**Splitting Data into Training and Validation Sets**"
      ],
      "metadata": {
        "id": "ivcBcS4jLGDR"
      }
    },
    {
      "cell_type": "code",
      "source": [
        "from sklearn.model_selection import train_test_split"
      ],
      "metadata": {
        "id": "3MbzcaVa44B4"
      },
      "execution_count": null,
      "outputs": []
    },
    {
      "cell_type": "code",
      "source": [
        "X_train, X_val, y_train, y_val = train_test_split(X, y, test_size=0.2, random_state=42, stratify=y)"
      ],
      "metadata": {
        "id": "R7JKhdnF4-qE"
      },
      "execution_count": null,
      "outputs": []
    },
    {
      "cell_type": "code",
      "source": [
        "y_train.value_counts()"
      ],
      "metadata": {
        "colab": {
          "base_uri": "https://localhost:8080/"
        },
        "id": "zemG6KBP5BMB",
        "outputId": "ba8587ac-05a9-42c4-9fe8-5874fa89c090"
      },
      "execution_count": null,
      "outputs": [
        {
          "output_type": "execute_result",
          "data": {
            "text/plain": [
              "Workflow\n",
              "1    160\n",
              "2    160\n",
              "4    160\n",
              "0    160\n",
              "3    160\n",
              "5    160\n",
              "Name: count, dtype: int64"
            ]
          },
          "metadata": {},
          "execution_count": 171
        }
      ]
    },
    {
      "cell_type": "code",
      "source": [
        "y_val.value_counts()"
      ],
      "metadata": {
        "colab": {
          "base_uri": "https://localhost:8080/"
        },
        "id": "jnVotY7P5DbY",
        "outputId": "4be96b6f-1550-4976-c37e-107458ceefdd"
      },
      "execution_count": null,
      "outputs": [
        {
          "output_type": "execute_result",
          "data": {
            "text/plain": [
              "Workflow\n",
              "0    40\n",
              "4    40\n",
              "5    40\n",
              "2    40\n",
              "1    40\n",
              "3    40\n",
              "Name: count, dtype: int64"
            ]
          },
          "metadata": {},
          "execution_count": 172
        }
      ]
    },
    {
      "cell_type": "code",
      "source": [
        "train_texts = X_train.tolist()\n",
        "val_texts = X_val.tolist()\n",
        "train_labels = y_train.tolist()\n",
        "val_labels = y_val.tolist()"
      ],
      "metadata": {
        "id": "H_ROvhiS5Fym"
      },
      "execution_count": null,
      "outputs": []
    },
    {
      "cell_type": "code",
      "source": [
        "train_data = pd.concat([X_train, y_train], axis=1)"
      ],
      "metadata": {
        "id": "nak0aZHE5KLV"
      },
      "execution_count": null,
      "outputs": []
    },
    {
      "cell_type": "code",
      "source": [
        "train_data.head()"
      ],
      "metadata": {
        "colab": {
          "base_uri": "https://localhost:8080/",
          "height": 206
        },
        "id": "aLy8pV1M5M_d",
        "outputId": "e647cf88-b957-4d26-cb4c-d2075da31b0c"
      },
      "execution_count": null,
      "outputs": [
        {
          "output_type": "execute_result",
          "data": {
            "text/plain": [
              "                                         SGW_Operation  Workflow\n",
              "364  TrdCaptRpt RptID=28269486371 TrdDt=2022-12-17 ...         1\n",
              "479  AllocInstrctn Qty=79.0 BizDt=2023-01-06 TrdDt=...         2\n",
              "854  TrdCaptRpt RptID=31945681279 TrdDt=2022-12-17 ...         4\n",
              "520  AllocInstrctn Qty=73.0 BizDt=2023-02-05 TrdDt=...         2\n",
              "13   TrdCaptRpt RptID=23177559010 TrdDt=2022-12-21 ...         0"
            ],
            "text/html": [
              "\n",
              "  <div id=\"df-6dbbc942-a72d-4f61-adba-38066d6c7f26\" class=\"colab-df-container\">\n",
              "    <div>\n",
              "<style scoped>\n",
              "    .dataframe tbody tr th:only-of-type {\n",
              "        vertical-align: middle;\n",
              "    }\n",
              "\n",
              "    .dataframe tbody tr th {\n",
              "        vertical-align: top;\n",
              "    }\n",
              "\n",
              "    .dataframe thead th {\n",
              "        text-align: right;\n",
              "    }\n",
              "</style>\n",
              "<table border=\"1\" class=\"dataframe\">\n",
              "  <thead>\n",
              "    <tr style=\"text-align: right;\">\n",
              "      <th></th>\n",
              "      <th>SGW_Operation</th>\n",
              "      <th>Workflow</th>\n",
              "    </tr>\n",
              "  </thead>\n",
              "  <tbody>\n",
              "    <tr>\n",
              "      <th>364</th>\n",
              "      <td>TrdCaptRpt RptID=28269486371 TrdDt=2022-12-17 ...</td>\n",
              "      <td>1</td>\n",
              "    </tr>\n",
              "    <tr>\n",
              "      <th>479</th>\n",
              "      <td>AllocInstrctn Qty=79.0 BizDt=2023-01-06 TrdDt=...</td>\n",
              "      <td>2</td>\n",
              "    </tr>\n",
              "    <tr>\n",
              "      <th>854</th>\n",
              "      <td>TrdCaptRpt RptID=31945681279 TrdDt=2022-12-17 ...</td>\n",
              "      <td>4</td>\n",
              "    </tr>\n",
              "    <tr>\n",
              "      <th>520</th>\n",
              "      <td>AllocInstrctn Qty=73.0 BizDt=2023-02-05 TrdDt=...</td>\n",
              "      <td>2</td>\n",
              "    </tr>\n",
              "    <tr>\n",
              "      <th>13</th>\n",
              "      <td>TrdCaptRpt RptID=23177559010 TrdDt=2022-12-21 ...</td>\n",
              "      <td>0</td>\n",
              "    </tr>\n",
              "  </tbody>\n",
              "</table>\n",
              "</div>\n",
              "    <div class=\"colab-df-buttons\">\n",
              "\n",
              "  <div class=\"colab-df-container\">\n",
              "    <button class=\"colab-df-convert\" onclick=\"convertToInteractive('df-6dbbc942-a72d-4f61-adba-38066d6c7f26')\"\n",
              "            title=\"Convert this dataframe to an interactive table.\"\n",
              "            style=\"display:none;\">\n",
              "\n",
              "  <svg xmlns=\"http://www.w3.org/2000/svg\" height=\"24px\" viewBox=\"0 -960 960 960\">\n",
              "    <path d=\"M120-120v-720h720v720H120Zm60-500h600v-160H180v160Zm220 220h160v-160H400v160Zm0 220h160v-160H400v160ZM180-400h160v-160H180v160Zm440 0h160v-160H620v160ZM180-180h160v-160H180v160Zm440 0h160v-160H620v160Z\"/>\n",
              "  </svg>\n",
              "    </button>\n",
              "\n",
              "  <style>\n",
              "    .colab-df-container {\n",
              "      display:flex;\n",
              "      gap: 12px;\n",
              "    }\n",
              "\n",
              "    .colab-df-convert {\n",
              "      background-color: #E8F0FE;\n",
              "      border: none;\n",
              "      border-radius: 50%;\n",
              "      cursor: pointer;\n",
              "      display: none;\n",
              "      fill: #1967D2;\n",
              "      height: 32px;\n",
              "      padding: 0 0 0 0;\n",
              "      width: 32px;\n",
              "    }\n",
              "\n",
              "    .colab-df-convert:hover {\n",
              "      background-color: #E2EBFA;\n",
              "      box-shadow: 0px 1px 2px rgba(60, 64, 67, 0.3), 0px 1px 3px 1px rgba(60, 64, 67, 0.15);\n",
              "      fill: #174EA6;\n",
              "    }\n",
              "\n",
              "    .colab-df-buttons div {\n",
              "      margin-bottom: 4px;\n",
              "    }\n",
              "\n",
              "    [theme=dark] .colab-df-convert {\n",
              "      background-color: #3B4455;\n",
              "      fill: #D2E3FC;\n",
              "    }\n",
              "\n",
              "    [theme=dark] .colab-df-convert:hover {\n",
              "      background-color: #434B5C;\n",
              "      box-shadow: 0px 1px 3px 1px rgba(0, 0, 0, 0.15);\n",
              "      filter: drop-shadow(0px 1px 2px rgba(0, 0, 0, 0.3));\n",
              "      fill: #FFFFFF;\n",
              "    }\n",
              "  </style>\n",
              "\n",
              "    <script>\n",
              "      const buttonEl =\n",
              "        document.querySelector('#df-6dbbc942-a72d-4f61-adba-38066d6c7f26 button.colab-df-convert');\n",
              "      buttonEl.style.display =\n",
              "        google.colab.kernel.accessAllowed ? 'block' : 'none';\n",
              "\n",
              "      async function convertToInteractive(key) {\n",
              "        const element = document.querySelector('#df-6dbbc942-a72d-4f61-adba-38066d6c7f26');\n",
              "        const dataTable =\n",
              "          await google.colab.kernel.invokeFunction('convertToInteractive',\n",
              "                                                    [key], {});\n",
              "        if (!dataTable) return;\n",
              "\n",
              "        const docLinkHtml = 'Like what you see? Visit the ' +\n",
              "          '<a target=\"_blank\" href=https://colab.research.google.com/notebooks/data_table.ipynb>data table notebook</a>'\n",
              "          + ' to learn more about interactive tables.';\n",
              "        element.innerHTML = '';\n",
              "        dataTable['output_type'] = 'display_data';\n",
              "        await google.colab.output.renderOutput(dataTable, element);\n",
              "        const docLink = document.createElement('div');\n",
              "        docLink.innerHTML = docLinkHtml;\n",
              "        element.appendChild(docLink);\n",
              "      }\n",
              "    </script>\n",
              "  </div>\n",
              "\n",
              "\n",
              "<div id=\"df-90a371e0-66ab-4f40-97c0-9e82607c3099\">\n",
              "  <button class=\"colab-df-quickchart\" onclick=\"quickchart('df-90a371e0-66ab-4f40-97c0-9e82607c3099')\"\n",
              "            title=\"Suggest charts\"\n",
              "            style=\"display:none;\">\n",
              "\n",
              "<svg xmlns=\"http://www.w3.org/2000/svg\" height=\"24px\"viewBox=\"0 0 24 24\"\n",
              "     width=\"24px\">\n",
              "    <g>\n",
              "        <path d=\"M19 3H5c-1.1 0-2 .9-2 2v14c0 1.1.9 2 2 2h14c1.1 0 2-.9 2-2V5c0-1.1-.9-2-2-2zM9 17H7v-7h2v7zm4 0h-2V7h2v10zm4 0h-2v-4h2v4z\"/>\n",
              "    </g>\n",
              "</svg>\n",
              "  </button>\n",
              "\n",
              "<style>\n",
              "  .colab-df-quickchart {\n",
              "      --bg-color: #E8F0FE;\n",
              "      --fill-color: #1967D2;\n",
              "      --hover-bg-color: #E2EBFA;\n",
              "      --hover-fill-color: #174EA6;\n",
              "      --disabled-fill-color: #AAA;\n",
              "      --disabled-bg-color: #DDD;\n",
              "  }\n",
              "\n",
              "  [theme=dark] .colab-df-quickchart {\n",
              "      --bg-color: #3B4455;\n",
              "      --fill-color: #D2E3FC;\n",
              "      --hover-bg-color: #434B5C;\n",
              "      --hover-fill-color: #FFFFFF;\n",
              "      --disabled-bg-color: #3B4455;\n",
              "      --disabled-fill-color: #666;\n",
              "  }\n",
              "\n",
              "  .colab-df-quickchart {\n",
              "    background-color: var(--bg-color);\n",
              "    border: none;\n",
              "    border-radius: 50%;\n",
              "    cursor: pointer;\n",
              "    display: none;\n",
              "    fill: var(--fill-color);\n",
              "    height: 32px;\n",
              "    padding: 0;\n",
              "    width: 32px;\n",
              "  }\n",
              "\n",
              "  .colab-df-quickchart:hover {\n",
              "    background-color: var(--hover-bg-color);\n",
              "    box-shadow: 0 1px 2px rgba(60, 64, 67, 0.3), 0 1px 3px 1px rgba(60, 64, 67, 0.15);\n",
              "    fill: var(--button-hover-fill-color);\n",
              "  }\n",
              "\n",
              "  .colab-df-quickchart-complete:disabled,\n",
              "  .colab-df-quickchart-complete:disabled:hover {\n",
              "    background-color: var(--disabled-bg-color);\n",
              "    fill: var(--disabled-fill-color);\n",
              "    box-shadow: none;\n",
              "  }\n",
              "\n",
              "  .colab-df-spinner {\n",
              "    border: 2px solid var(--fill-color);\n",
              "    border-color: transparent;\n",
              "    border-bottom-color: var(--fill-color);\n",
              "    animation:\n",
              "      spin 1s steps(1) infinite;\n",
              "  }\n",
              "\n",
              "  @keyframes spin {\n",
              "    0% {\n",
              "      border-color: transparent;\n",
              "      border-bottom-color: var(--fill-color);\n",
              "      border-left-color: var(--fill-color);\n",
              "    }\n",
              "    20% {\n",
              "      border-color: transparent;\n",
              "      border-left-color: var(--fill-color);\n",
              "      border-top-color: var(--fill-color);\n",
              "    }\n",
              "    30% {\n",
              "      border-color: transparent;\n",
              "      border-left-color: var(--fill-color);\n",
              "      border-top-color: var(--fill-color);\n",
              "      border-right-color: var(--fill-color);\n",
              "    }\n",
              "    40% {\n",
              "      border-color: transparent;\n",
              "      border-right-color: var(--fill-color);\n",
              "      border-top-color: var(--fill-color);\n",
              "    }\n",
              "    60% {\n",
              "      border-color: transparent;\n",
              "      border-right-color: var(--fill-color);\n",
              "    }\n",
              "    80% {\n",
              "      border-color: transparent;\n",
              "      border-right-color: var(--fill-color);\n",
              "      border-bottom-color: var(--fill-color);\n",
              "    }\n",
              "    90% {\n",
              "      border-color: transparent;\n",
              "      border-bottom-color: var(--fill-color);\n",
              "    }\n",
              "  }\n",
              "</style>\n",
              "\n",
              "  <script>\n",
              "    async function quickchart(key) {\n",
              "      const quickchartButtonEl =\n",
              "        document.querySelector('#' + key + ' button');\n",
              "      quickchartButtonEl.disabled = true;  // To prevent multiple clicks.\n",
              "      quickchartButtonEl.classList.add('colab-df-spinner');\n",
              "      try {\n",
              "        const charts = await google.colab.kernel.invokeFunction(\n",
              "            'suggestCharts', [key], {});\n",
              "      } catch (error) {\n",
              "        console.error('Error during call to suggestCharts:', error);\n",
              "      }\n",
              "      quickchartButtonEl.classList.remove('colab-df-spinner');\n",
              "      quickchartButtonEl.classList.add('colab-df-quickchart-complete');\n",
              "    }\n",
              "    (() => {\n",
              "      let quickchartButtonEl =\n",
              "        document.querySelector('#df-90a371e0-66ab-4f40-97c0-9e82607c3099 button');\n",
              "      quickchartButtonEl.style.display =\n",
              "        google.colab.kernel.accessAllowed ? 'block' : 'none';\n",
              "    })();\n",
              "  </script>\n",
              "</div>\n",
              "\n",
              "    </div>\n",
              "  </div>\n"
            ],
            "application/vnd.google.colaboratory.intrinsic+json": {
              "type": "dataframe",
              "variable_name": "train_data",
              "summary": "{\n  \"name\": \"train_data\",\n  \"rows\": 960,\n  \"fields\": [\n    {\n      \"column\": \"SGW_Operation\",\n      \"properties\": {\n        \"dtype\": \"string\",\n        \"num_unique_values\": 960,\n        \"samples\": [\n          \"TrdCaptRpt RptID=25255293930 TrdDt=2023-01-05 BizDt=2023-02-05 TxnTm=2023-02-15T10:18:15.100-7:00 TrdID=25255293930 TransTyp=2 RptTyp=0 LastQty=55.0 LastPx=540.698 Hdr Snt=2023-02-15T17:30:55.600+01:00 TID=MGEX SID=D210 Instrmt Exch=HDPL ID=LM MMY=202305 CFI=FCCPXX RptSide Side=1 AllocInd=2 CustCpcty=4 Pty ID=210 R=1 Alloc Qty=14.0 CustCpcty=4 IndAllocID=1666667881957570167@HDPL 25255293930FS@20230105||5d135 Pty ID=00120007 R=24 Sub ID=2 Typ=26 Pty Alloc Alloc Qty=41.0 CustCpcty=4 IndAllocID=1666667881957570167@HDPL 25255293930FS@20230105||3tlpa Pty ID=najet R=24 Sub ID=2 Typ=26 Pty Alloc RptSide TrdCaptRpt \",\n          \"AllocInstrctn Qty=90.0 BizDt=2023-02-10 TrdDt=2022-12-17 TxnTm=2023-02-21T17:03:12.436-5:00 Side=1 ID=2228732791757388497@BTNL 22914004753GR@20221217 TransTyp=0 Typ=17 GrpID=22914004753 Hdr Snt=2023-02-21T22:25:13.545+1:00 TID=MGEX SID=TL98 Instrmt Exch=BTNL ID=W MMY=202305 CFI=FCCPXX Pty ID=Karim-200 R=24 Sub ID=2 Typ=26 Pty Pty ID=210 R=1 Pty ID=XMGE R=21 Alloc CustCpcty=2 IndAllocID=15900 Txt=some notes Qty=90.0 Pty ID=00120007 R=24 Sub ID=2 Typ=26 Pty Pty ID=142 R=1 Pty ID=XMGE R=21 Alloc AllocInstrctn \",\n          \"TrdCaptRpt RptID=34965911250 TrdDt=2022-12-21 BizDt=2023-01-11 TxnTm=2023-03-20T22:25:13.545-5:00 TrdID=34965911250 TransTyp=2 RptTyp=0 LastQty=11.0 LastPx=300.9 Hdr Snt=2023-03-20T20:55:08.453+01:00 TID=MGEX SID=HBPL Instrmt Exch=BTNL ID=AS MMY=202307 CFI=APYBKL RptSide Side=2 AvgPxInd=1 AllocInd=1 AllocGrpInst=1 Pty ID=210 R=1 RptSide TrdCaptRpt \"\n        ],\n        \"semantic_type\": \"\",\n        \"description\": \"\"\n      }\n    },\n    {\n      \"column\": \"Workflow\",\n      \"properties\": {\n        \"dtype\": \"number\",\n        \"std\": 1,\n        \"min\": 0,\n        \"max\": 5,\n        \"num_unique_values\": 6,\n        \"samples\": [\n          1,\n          2,\n          5\n        ],\n        \"semantic_type\": \"\",\n        \"description\": \"\"\n      }\n    }\n  ]\n}"
            }
          },
          "metadata": {},
          "execution_count": 175
        }
      ]
    },
    {
      "cell_type": "code",
      "source": [
        "val_data = pd.concat([X_val, y_val], axis=1)"
      ],
      "metadata": {
        "id": "RbKR10Xz5PiN"
      },
      "execution_count": null,
      "outputs": []
    },
    {
      "cell_type": "markdown",
      "source": [
        "**Creating Custom Datasets, Data Loaders and Loading the Tokenizer and the Model**"
      ],
      "metadata": {
        "id": "WaQzmIy_N--3"
      }
    },
    {
      "cell_type": "code",
      "source": [
        "import torch\n",
        "from torch import nn\n",
        "from torch.utils.data import DataLoader, Dataset # PyTorch utilities for handling datasets and data loading\n",
        "from transformers import BertTokenizer, BertModel, AdamW, BertForSequenceClassification # For tokenizing and using the Bert model"
      ],
      "metadata": {
        "id": "xwEKst2x5Tau"
      },
      "execution_count": null,
      "outputs": []
    },
    {
      "cell_type": "code",
      "source": [
        "# Custom dataset class for the sequence classification task.\n",
        "class CustomDataset(Dataset):\n",
        "    def __init__(self, texts, labels, tokenizer, max_length):\n",
        "     # Initialize the CustomDataset class.\n",
        "        self.texts = texts  # List of input sequences\n",
        "        self.labels = labels  # List of corresponding labels\n",
        "        self.tokenizer = tokenizer  # Tokenizer object\n",
        "        self.max_length = max_length  # Maximum number of tokens in a sequence\n",
        "\n",
        "    def __len__(self):\n",
        "       # Returns the number of samples in the dataset.\n",
        "        return len(self.texts)\n",
        "\n",
        "    def __getitem__(self, index):\n",
        "       # Returns a Dictionary containing input_ids, attention_mask, and label.\n",
        "        text = self.texts[index]  # Input sequence at the specified index\n",
        "        label = self.labels[index]  # Label corresponding to the input sequence\n",
        "        # Tokenize the input sequence\n",
        "        encoding = self.tokenizer(\n",
        "            text,\n",
        "            return_tensors='pt',\n",
        "            max_length=self.max_length,\n",
        "            padding='max_length',\n",
        "            truncation=True\n",
        "        )\n",
        "        # Flatten the input_ids and attention_mask tensors\n",
        "        input_ids = encoding['input_ids'].flatten()\n",
        "        attention_mask = encoding['attention_mask'].flatten()\n",
        "        # Convert label to tensor\n",
        "        label_tensor = torch.tensor(label)\n",
        "\n",
        "        # Return dictionary containing input_ids, attention_mask, and label\n",
        "        return {'input_ids': input_ids, 'attention_mask': attention_mask, 'label': label_tensor}"
      ],
      "metadata": {
        "id": "F4Sqe1135V8m"
      },
      "execution_count": null,
      "outputs": []
    },
    {
      "cell_type": "code",
      "source": [
        " bert_model_name = 'bert-base-uncased' # Define the BERT model to be used\n",
        " max_length = 512  # Maximum sequence length for tokenization\n",
        " batch_size = 8 # Batch size for DataLoader"
      ],
      "metadata": {
        "id": "LqtiDIX95ZGe"
      },
      "execution_count": null,
      "outputs": []
    },
    {
      "cell_type": "code",
      "source": [
        "# Initialize the BERT tokenizer with the specified model name\n",
        "tokenizer = BertTokenizer.from_pretrained(bert_model_name)\n",
        "\n",
        "# Create training and validation datasets using the CustomDataset class\n",
        "train_dataset = CustomDataset(train_texts, train_labels, tokenizer, max_length)\n",
        "val_dataset = CustomDataset(val_texts, val_labels, tokenizer, max_length)\n",
        "\n",
        "# Create DataLoader instances for training and validation datasets\n",
        "train_dataloader = DataLoader(train_dataset, batch_size=batch_size, shuffle=True)\n",
        "val_dataloader = DataLoader(val_dataset, batch_size=batch_size)"
      ],
      "metadata": {
        "id": "7ToV_CvX5c4X"
      },
      "execution_count": null,
      "outputs": []
    },
    {
      "cell_type": "code",
      "source": [
        "# Check if a CUDA-enabled GPU is available, otherwise use the CPU\n",
        "device = torch.device(\"cuda\" if torch.cuda.is_available() else \"cpu\")"
      ],
      "metadata": {
        "id": "O_WlhhH95jFV"
      },
      "execution_count": null,
      "outputs": []
    },
    {
      "cell_type": "code",
      "source": [
        "# Load the BERT model for sequence classification\n",
        "model = BertForSequenceClassification.from_pretrained(bert_model_name, num_labels=6)\n",
        "\n",
        "# Move the model to the appropriate device (GPU if available, else CPU)\n",
        "model.to(device)"
      ],
      "metadata": {
        "colab": {
          "base_uri": "https://localhost:8080/"
        },
        "id": "Ffc-p5kT5li1",
        "outputId": "ea94cf0d-2016-4837-fa4b-88de63a97405"
      },
      "execution_count": null,
      "outputs": [
        {
          "output_type": "stream",
          "name": "stderr",
          "text": [
            "Some weights of BertForSequenceClassification were not initialized from the model checkpoint at bert-base-uncased and are newly initialized: ['classifier.bias', 'classifier.weight']\n",
            "You should probably TRAIN this model on a down-stream task to be able to use it for predictions and inference.\n"
          ]
        },
        {
          "output_type": "execute_result",
          "data": {
            "text/plain": [
              "BertForSequenceClassification(\n",
              "  (bert): BertModel(\n",
              "    (embeddings): BertEmbeddings(\n",
              "      (word_embeddings): Embedding(30522, 768, padding_idx=0)\n",
              "      (position_embeddings): Embedding(512, 768)\n",
              "      (token_type_embeddings): Embedding(2, 768)\n",
              "      (LayerNorm): LayerNorm((768,), eps=1e-12, elementwise_affine=True)\n",
              "      (dropout): Dropout(p=0.1, inplace=False)\n",
              "    )\n",
              "    (encoder): BertEncoder(\n",
              "      (layer): ModuleList(\n",
              "        (0-11): 12 x BertLayer(\n",
              "          (attention): BertAttention(\n",
              "            (self): BertSelfAttention(\n",
              "              (query): Linear(in_features=768, out_features=768, bias=True)\n",
              "              (key): Linear(in_features=768, out_features=768, bias=True)\n",
              "              (value): Linear(in_features=768, out_features=768, bias=True)\n",
              "              (dropout): Dropout(p=0.1, inplace=False)\n",
              "            )\n",
              "            (output): BertSelfOutput(\n",
              "              (dense): Linear(in_features=768, out_features=768, bias=True)\n",
              "              (LayerNorm): LayerNorm((768,), eps=1e-12, elementwise_affine=True)\n",
              "              (dropout): Dropout(p=0.1, inplace=False)\n",
              "            )\n",
              "          )\n",
              "          (intermediate): BertIntermediate(\n",
              "            (dense): Linear(in_features=768, out_features=3072, bias=True)\n",
              "            (intermediate_act_fn): GELUActivation()\n",
              "          )\n",
              "          (output): BertOutput(\n",
              "            (dense): Linear(in_features=3072, out_features=768, bias=True)\n",
              "            (LayerNorm): LayerNorm((768,), eps=1e-12, elementwise_affine=True)\n",
              "            (dropout): Dropout(p=0.1, inplace=False)\n",
              "          )\n",
              "        )\n",
              "      )\n",
              "    )\n",
              "    (pooler): BertPooler(\n",
              "      (dense): Linear(in_features=768, out_features=768, bias=True)\n",
              "      (activation): Tanh()\n",
              "    )\n",
              "  )\n",
              "  (dropout): Dropout(p=0.1, inplace=False)\n",
              "  (classifier): Linear(in_features=768, out_features=6, bias=True)\n",
              ")"
            ]
          },
          "metadata": {},
          "execution_count": 182
        }
      ]
    },
    {
      "cell_type": "code",
      "source": [
        "# Define the optimizer with a learning rate of 2e-5\n",
        "optimizer = AdamW(model.parameters(), lr=2e-5)"
      ],
      "metadata": {
        "colab": {
          "base_uri": "https://localhost:8080/"
        },
        "id": "fyMeeU965mYW",
        "outputId": "21c7e65b-a277-41d8-958e-71dbcb1f7d73"
      },
      "execution_count": null,
      "outputs": [
        {
          "output_type": "stream",
          "name": "stderr",
          "text": [
            "/usr/local/lib/python3.10/dist-packages/transformers/optimization.py:521: FutureWarning: This implementation of AdamW is deprecated and will be removed in a future version. Use the PyTorch implementation torch.optim.AdamW instead, or set `no_deprecation_warning=True` to disable this warning\n",
            "  warnings.warn(\n"
          ]
        }
      ]
    },
    {
      "cell_type": "markdown",
      "source": [
        "**Training the model**"
      ],
      "metadata": {
        "id": "oJTjaML2TDoM"
      }
    },
    {
      "cell_type": "code",
      "source": [
        "# Set the model to training mode\n",
        "model.train()\n",
        "\n",
        "# Iterate over the training data loader\n",
        "for batch in train_dataloader:\n",
        "    # Zero the gradients\n",
        "    optimizer.zero_grad()\n",
        "\n",
        "    # Move input tensors to the appropriate device (CPU or GPU)\n",
        "    input_ids = batch['input_ids'].to(device)\n",
        "    attention_mask = batch['attention_mask'].to(device)\n",
        "    labels = batch['label'].to(device)\n",
        "\n",
        "    # Forward pass through the model\n",
        "    outputs = model(input_ids=input_ids, attention_mask=attention_mask)\n",
        "    logits = outputs.logits\n",
        "\n",
        "    # Compute the loss\n",
        "    loss = nn.CrossEntropyLoss()(logits, labels)\n",
        "\n",
        "    # Backpropagate the gradients\n",
        "    loss.backward()\n",
        "\n",
        "    # Update the parameters\n",
        "    optimizer.step()"
      ],
      "metadata": {
        "id": "68LxcHT55scs"
      },
      "execution_count": null,
      "outputs": []
    },
    {
      "cell_type": "markdown",
      "source": [
        "**Evaluating the pre-trained model**"
      ],
      "metadata": {
        "id": "auX8YQRWTWkr"
      }
    },
    {
      "cell_type": "code",
      "source": [
        "from sklearn.metrics import accuracy_score"
      ],
      "metadata": {
        "id": "CvRTzz8l8QBR"
      },
      "execution_count": null,
      "outputs": []
    },
    {
      "cell_type": "code",
      "source": [
        "# Set the model to evaluation mode\n",
        "model.eval()\n",
        "\n",
        "# Initialize lists to store predictions and actual labels\n",
        "predictions = []\n",
        "actual_labels = []\n",
        "\n",
        "# Disable gradient calculation\n",
        "with torch.no_grad():\n",
        "    # Iterate over the validation data loader\n",
        "    for batch in val_dataloader:\n",
        "        # Move input tensors to the appropriate device (CPU or GPU)\n",
        "        input_ids = batch['input_ids'].to(device)\n",
        "        attention_mask = batch['attention_mask'].to(device)\n",
        "        labels = batch['label'].to(device)\n",
        "\n",
        "        # Forward pass through the model\n",
        "        outputs = model(input_ids=input_ids, attention_mask=attention_mask)\n",
        "\n",
        "        # Get predicted labels by taking the argmax of the logits\n",
        "        _, preds = torch.max(outputs.logits, dim=1)\n",
        "\n",
        "        # Append the predicted labels and actual labels to the lists\n",
        "        predictions.extend(preds.cpu().tolist())\n",
        "        actual_labels.extend(labels.cpu().tolist())\n",
        "\n",
        "# Calculate accuracy using scikit-learn's accuracy_score function\n",
        "accuracy = accuracy_score(actual_labels, predictions)\n",
        "\n",
        "# Print the accuracy\n",
        "print(f'Accuracy: {accuracy:.2f}')"
      ],
      "metadata": {
        "colab": {
          "base_uri": "https://localhost:8080/"
        },
        "id": "mhZET4Df8U3F",
        "outputId": "c237117b-26db-454f-fdf6-1d408e991b30"
      },
      "execution_count": null,
      "outputs": [
        {
          "output_type": "stream",
          "name": "stdout",
          "text": [
            "Accuracy: 1.00\n"
          ]
        }
      ]
    },
    {
      "cell_type": "markdown",
      "source": [
        "**Function to Predict Workflow Category Using the Fine-tuned BERT Model**"
      ],
      "metadata": {
        "id": "ogL4eWH5USgL"
      }
    },
    {
      "cell_type": "code",
      "source": [
        "def predict(text):\n",
        "    # Set the model to evaluation mode\n",
        "    model.eval()\n",
        "\n",
        "    # Tokenize the text and convert it into input tensors\n",
        "    encoding = tokenizer(text, return_tensors='pt', max_length=512, padding='max_length', truncation=True)\n",
        "    input_ids = encoding['input_ids'].to(device)\n",
        "    attention_mask = encoding['attention_mask'].to(device)\n",
        "\n",
        "    # Disable gradient calculation\n",
        "    with torch.no_grad():\n",
        "        # Forward pass through the model\n",
        "        outputs = model(input_ids=input_ids, attention_mask=attention_mask)\n",
        "        logits = outputs.logits\n",
        "\n",
        "        # Get the predicted label index\n",
        "        _, preds = torch.max(logits, dim=1)\n",
        "\n",
        "    # Convert the predicted label index to the corresponding workflow\n",
        "    if preds.item() == 0:\n",
        "        return \"Full Service\"\n",
        "    elif preds.item() == 1:\n",
        "        return \"Mark As Give Up\"\n",
        "    elif preds.item() == 2:\n",
        "        return \"Give Up\"\n",
        "    elif preds.item() == 3:\n",
        "        return \"Split On Two Accounts\"\n",
        "    elif preds.item() == 4:\n",
        "        return \"Split On Three Accounts\"\n",
        "    else:\n",
        "        return \"Split On Four Accounts\""
      ],
      "metadata": {
        "id": "M2rmYJ6e8fL0"
      },
      "execution_count": null,
      "outputs": []
    },
    {
      "cell_type": "markdown",
      "source": [
        "**Testing the Fine-Tuned Model on new samples**"
      ],
      "metadata": {
        "id": "5NIvnrRkU4hk"
      }
    },
    {
      "cell_type": "code",
      "source": [
        "sgw_op1 = \"\"\"<TrdCaptRpt RptID=\"31051000856\" TrdDt=\"2024-10-05\" BizDt=\"2024-10-05\" TxnTm=\"2024-10-05T10:30:56.324-05:00\"\" TrdID=\"31051000856\" TransTyp=\"2\" RptTyp=\"0\" LastQty=\"20.0\" LastPx=\"3970.0\"><Hdr Snt=\"2024-10-05T15:42:48.605+01:00\" TID=\"MGEX\" SID=\"D210\"/><Instrmt Exch=\"BTNL\" ID=\"BUS\" MMY=\"202411\" CFI=\"FXXXXX\"/><RptSide Side=\"1\" AvgPxInd=\"0\" AllocInd=\"1\" AllocGrpInst=\"0\"><Pty ID=\"210\" R=\"1\"/></RptSide></TrdCaptRpt>\"\"\""
      ],
      "metadata": {
        "id": "DkoyySQp9dJS"
      },
      "execution_count": null,
      "outputs": []
    },
    {
      "cell_type": "code",
      "source": [
        "cleaned_sgw_op1=clean_sequence(sgw_op1)"
      ],
      "metadata": {
        "id": "RZcxrQgW9ht4"
      },
      "execution_count": null,
      "outputs": []
    },
    {
      "cell_type": "code",
      "source": [
        "sgw_op1"
      ],
      "metadata": {
        "colab": {
          "base_uri": "https://localhost:8080/",
          "height": 70
        },
        "id": "fPmCChBg9kbg",
        "outputId": "eadeed1c-de4d-486b-cc17-377d8eeaabee"
      },
      "execution_count": null,
      "outputs": [
        {
          "output_type": "execute_result",
          "data": {
            "text/plain": [
              "'<TrdCaptRpt RptID=\"31051000856\" TrdDt=\"2024-10-05\" BizDt=\"2024-10-05\" TxnTm=\"2024-10-05T10:30:56.324-05:00\"\" TrdID=\"31051000856\" TransTyp=\"2\" RptTyp=\"0\" LastQty=\"20.0\" LastPx=\"3970.0\"><Hdr Snt=\"2024-10-05T15:42:48.605+01:00\" TID=\"MGEX\" SID=\"D210\"/><Instrmt Exch=\"BTNL\" ID=\"BUS\" MMY=\"202411\" CFI=\"FXXXXX\"/><RptSide Side=\"1\" AvgPxInd=\"0\" AllocInd=\"1\" AllocGrpInst=\"0\"><Pty ID=\"210\" R=\"1\"/></RptSide></TrdCaptRpt>'"
            ],
            "application/vnd.google.colaboratory.intrinsic+json": {
              "type": "string"
            }
          },
          "metadata": {},
          "execution_count": 191
        }
      ]
    },
    {
      "cell_type": "code",
      "source": [
        "cleaned_sgw_op1"
      ],
      "metadata": {
        "colab": {
          "base_uri": "https://localhost:8080/",
          "height": 53
        },
        "id": "UscploGn9m4P",
        "outputId": "c7529cf7-16b8-423f-c107-0490e3530f7c"
      },
      "execution_count": null,
      "outputs": [
        {
          "output_type": "execute_result",
          "data": {
            "text/plain": [
              "'TrdCaptRpt RptID=31051000856 TrdDt=2024-10-05 BizDt=2024-10-05 TxnTm=2024-10-05T10:30:56.324-05:00 TrdID=31051000856 TransTyp=2 RptTyp=0 LastQty=20.0 LastPx=3970.0 Hdr Snt=2024-10-05T15:42:48.605+01:00 TID=MGEX SID=D210 Instrmt Exch=BTNL ID=BUS MMY=202411 CFI=FXXXXX RptSide Side=1 AvgPxInd=0 AllocInd=1 AllocGrpInst=0 Pty ID=210 R=1 RptSide TrdCaptRpt '"
            ],
            "application/vnd.google.colaboratory.intrinsic+json": {
              "type": "string"
            }
          },
          "metadata": {},
          "execution_count": 192
        }
      ]
    },
    {
      "cell_type": "code",
      "source": [
        "predict(cleaned_sgw_op1)"
      ],
      "metadata": {
        "colab": {
          "base_uri": "https://localhost:8080/",
          "height": 36
        },
        "id": "2Sk7xG9r9uR7",
        "outputId": "8cacf6c3-9b19-49c6-808e-a47deee5b7c6"
      },
      "execution_count": null,
      "outputs": [
        {
          "output_type": "execute_result",
          "data": {
            "text/plain": [
              "'Mark As Give Up'"
            ],
            "application/vnd.google.colaboratory.intrinsic+json": {
              "type": "string"
            }
          },
          "metadata": {},
          "execution_count": 193
        }
      ]
    },
    {
      "cell_type": "code",
      "source": [
        "sgw_op2 = \"\"\"<TrdCaptRpt RptID=\"60381005005\" TrdDt=\"2025-01-19\" BizDt=\"2025-01-19\" TxnTm=\"2025-02-07T15:18:30.549-05:00\" TrdID=\"60381005005\" TransTyp=\"2\" RptTyp=\"0\" LastQty=\"900.0\" LastPx=\"5300.5\"><Hdr Snt=\"2025-02-07T23:18:32.348+01:00\" TID=\"MGEX\" SID=\"KMPL\"/><Instrmt Exch=\"MPLM\" ID=\"BUI\" MMY=\"202507\" CFI=\"FXXXXX\"/><RptSide Side=\"2\" CustCpcty=\"2\"><Pty ID=\"210\" R=\"1\"/><Pty ID=\"Moez\" R=\"24\"><Sub ID=\"2\" Typ=\"26\"/></Pty></RptSide></TrdCaptRpt>\"\"\""
      ],
      "metadata": {
        "id": "VGox1OyZ90Lp"
      },
      "execution_count": null,
      "outputs": []
    },
    {
      "cell_type": "code",
      "source": [
        "cleaned_sgw_op2=clean_sequence(sgw_op2)"
      ],
      "metadata": {
        "id": "ecDm9GY193nQ"
      },
      "execution_count": null,
      "outputs": []
    },
    {
      "cell_type": "code",
      "source": [
        "sgw_op2"
      ],
      "metadata": {
        "colab": {
          "base_uri": "https://localhost:8080/",
          "height": 70
        },
        "id": "h_DjVHSm96ep",
        "outputId": "ff5e2abf-94fb-474d-b615-33f0e1333f00"
      },
      "execution_count": null,
      "outputs": [
        {
          "output_type": "execute_result",
          "data": {
            "text/plain": [
              "'<TrdCaptRpt RptID=\"60381005005\" TrdDt=\"2025-01-19\" BizDt=\"2025-01-19\" TxnTm=\"2025-02-07T15:18:30.549-05:00\" TrdID=\"60381005005\" TransTyp=\"2\" RptTyp=\"0\" LastQty=\"900.0\" LastPx=\"5300.5\"><Hdr Snt=\"2025-02-07T23:18:32.348+01:00\" TID=\"MGEX\" SID=\"KMPL\"/><Instrmt Exch=\"MPLM\" ID=\"BUI\" MMY=\"202507\" CFI=\"FXXXXX\"/><RptSide Side=\"2\" CustCpcty=\"2\"><Pty ID=\"210\" R=\"1\"/><Pty ID=\"Moez\" R=\"24\"><Sub ID=\"2\" Typ=\"26\"/></Pty></RptSide></TrdCaptRpt>'"
            ],
            "application/vnd.google.colaboratory.intrinsic+json": {
              "type": "string"
            }
          },
          "metadata": {},
          "execution_count": 196
        }
      ]
    },
    {
      "cell_type": "code",
      "source": [
        "cleaned_sgw_op2"
      ],
      "metadata": {
        "colab": {
          "base_uri": "https://localhost:8080/",
          "height": 70
        },
        "id": "xDVe3H0t981h",
        "outputId": "c72d3c06-e695-4dd5-bb08-545420629399"
      },
      "execution_count": null,
      "outputs": [
        {
          "output_type": "execute_result",
          "data": {
            "text/plain": [
              "'TrdCaptRpt RptID=60381005005 TrdDt=2025-01-19 BizDt=2025-01-19 TxnTm=2025-02-07T15:18:30.549-05:00 TrdID=60381005005 TransTyp=2 RptTyp=0 LastQty=900.0 LastPx=5300.5 Hdr Snt=2025-02-07T23:18:32.348+01:00 TID=MGEX SID=KMPL Instrmt Exch=MPLM ID=BUI MMY=202507 CFI=FXXXXX RptSide Side=2 CustCpcty=2 Pty ID=210 R=1 Pty ID=Moez R=24 Sub ID=2 Typ=26 Pty RptSide TrdCaptRpt '"
            ],
            "application/vnd.google.colaboratory.intrinsic+json": {
              "type": "string"
            }
          },
          "metadata": {},
          "execution_count": 197
        }
      ]
    },
    {
      "cell_type": "code",
      "source": [
        "predict(cleaned_sgw_op2)"
      ],
      "metadata": {
        "colab": {
          "base_uri": "https://localhost:8080/",
          "height": 36
        },
        "id": "imLpMvvL9-IQ",
        "outputId": "c9368360-db9b-4a43-f653-1d7b67a154ae"
      },
      "execution_count": null,
      "outputs": [
        {
          "output_type": "execute_result",
          "data": {
            "text/plain": [
              "'Full Service'"
            ],
            "application/vnd.google.colaboratory.intrinsic+json": {
              "type": "string"
            }
          },
          "metadata": {},
          "execution_count": 198
        }
      ]
    },
    {
      "cell_type": "code",
      "source": [
        "sgw_op3 = \"\"\"<AllocInstrctn Qty=\"10.0\" BizDt=\"2023-09-05\" TrdDt=\"2023-09-05\" TxnTm=\"2023-09-05T09:42:49.585-05:00\" Side=\"1\" ID=\"1148629322613915648@BTNL>14051000002GR@20230905\" TransTyp=\"0\" Typ=\"17\" GrpID=\"14051000002\"><Hdr Snt=\"2023-09-05T15:42:51.012+01:00\" TID=\"MGEX\" SID=\"D210\"/><Instrmt Exch=\"BTNL\" ID=\"BUS\" MMY=\"202309\" CFI=\"FXXXXX\"/><Pty ID=\"karima\" R=\"24\"><Sub ID=\"2\" Typ=\"26\"/></Pty><Pty ID=\"210\" R=\"1\"/><Pty ID=\"XMGE\" R=\"21\"/><Alloc CustCpcty=\"1\" IndAllocID=\"3fb78\" Txt=\"some notes\" Qty=\"10.0\"><Pty ID=\"CUSTACT6\" R=\"24\"><Sub ID=\"2\" Typ=\"26\"/></Pty><Pty ID=\"167\" R=\"1\"/><Pty ID=\"XMGE\" R=\"21\"/></Alloc></AllocInstrctn>\"\"\""
      ],
      "metadata": {
        "id": "08DPOk8C-Cpp"
      },
      "execution_count": null,
      "outputs": []
    },
    {
      "cell_type": "code",
      "source": [
        "cleaned_sgw_op3=clean_sequence(sgw_op3)"
      ],
      "metadata": {
        "id": "_HB0CCaH-aim"
      },
      "execution_count": null,
      "outputs": []
    },
    {
      "cell_type": "code",
      "source": [
        "sgw_op3"
      ],
      "metadata": {
        "colab": {
          "base_uri": "https://localhost:8080/",
          "height": 88
        },
        "id": "qVrNmJJ5-jT-",
        "outputId": "b9e3d3f3-40c7-4b72-945f-3cdc44017342"
      },
      "execution_count": null,
      "outputs": [
        {
          "output_type": "execute_result",
          "data": {
            "text/plain": [
              "'<AllocInstrctn Qty=\"10.0\" BizDt=\"2023-09-05\" TrdDt=\"2023-09-05\" TxnTm=\"2023-09-05T09:42:49.585-05:00\" Side=\"1\" ID=\"1148629322613915648@BTNL>14051000002GR@20230905\" TransTyp=\"0\" Typ=\"17\" GrpID=\"14051000002\"><Hdr Snt=\"2023-09-05T15:42:51.012+01:00\" TID=\"MGEX\" SID=\"D210\"/><Instrmt Exch=\"BTNL\" ID=\"BUS\" MMY=\"202309\" CFI=\"FXXXXX\"/><Pty ID=\"karima\" R=\"24\"><Sub ID=\"2\" Typ=\"26\"/></Pty><Pty ID=\"210\" R=\"1\"/><Pty ID=\"XMGE\" R=\"21\"/><Alloc CustCpcty=\"1\" IndAllocID=\"3fb78\" Txt=\"some notes\" Qty=\"10.0\"><Pty ID=\"CUSTACT6\" R=\"24\"><Sub ID=\"2\" Typ=\"26\"/></Pty><Pty ID=\"167\" R=\"1\"/><Pty ID=\"XMGE\" R=\"21\"/></Alloc></AllocInstrctn>'"
            ],
            "application/vnd.google.colaboratory.intrinsic+json": {
              "type": "string"
            }
          },
          "metadata": {},
          "execution_count": 201
        }
      ]
    },
    {
      "cell_type": "code",
      "source": [
        "cleaned_sgw_op3"
      ],
      "metadata": {
        "colab": {
          "base_uri": "https://localhost:8080/",
          "height": 70
        },
        "id": "wie4j3W7-lE0",
        "outputId": "7603a119-6b34-41a2-a831-957be458326c"
      },
      "execution_count": null,
      "outputs": [
        {
          "output_type": "execute_result",
          "data": {
            "text/plain": [
              "'AllocInstrctn Qty=10.0 BizDt=2023-09-05 TrdDt=2023-09-05 TxnTm=2023-09-05T09:42:49.585-05:00 Side=1 ID=1148629322613915648@BTNL 14051000002GR@20230905 TransTyp=0 Typ=17 GrpID=14051000002 Hdr Snt=2023-09-05T15:42:51.012+01:00 TID=MGEX SID=D210 Instrmt Exch=BTNL ID=BUS MMY=202309 CFI=FXXXXX Pty ID=karima R=24 Sub ID=2 Typ=26 Pty Pty ID=210 R=1 Pty ID=XMGE R=21 Alloc CustCpcty=1 IndAllocID=3fb78 Txt=some notes Qty=10.0 Pty ID=CUSTACT6 R=24 Sub ID=2 Typ=26 Pty Pty ID=167 R=1 Pty ID=XMGE R=21 Alloc AllocInstrctn '"
            ],
            "application/vnd.google.colaboratory.intrinsic+json": {
              "type": "string"
            }
          },
          "metadata": {},
          "execution_count": 202
        }
      ]
    },
    {
      "cell_type": "code",
      "source": [
        "predict(cleaned_sgw_op3)"
      ],
      "metadata": {
        "colab": {
          "base_uri": "https://localhost:8080/",
          "height": 36
        },
        "id": "XCiIDz92-mtC",
        "outputId": "1e9d6d3e-a7ad-4be1-c78f-41c6cdca4db8"
      },
      "execution_count": null,
      "outputs": [
        {
          "output_type": "execute_result",
          "data": {
            "text/plain": [
              "'Give Up'"
            ],
            "application/vnd.google.colaboratory.intrinsic+json": {
              "type": "string"
            }
          },
          "metadata": {},
          "execution_count": 203
        }
      ]
    },
    {
      "cell_type": "code",
      "source": [
        "sgw_op4 = \"\"\"<TrdCaptRpt RptID=\"31061005510\" TrdDt=\"2023-11-06\" BizDt=\"2023-11-06\" TxnTm=\"2023-11-07T03:14:25.528-06:00\" TrdID=\"31061005510\" TransTyp=\"2\" RptTyp=\"0\" LastQty=\"50.0\" LastPx=\"500.0\"><Hdr Snt=\"2023-11-07T10:18:20.194+01:00\" TID=\"MGEX\" SID=\"D210\"/><Instrmt Exch=\"BTNL\" ID=\"BUI\" MMY=\"202312\" CFI=\"FXXXXX\"/><RptSide Side=\"2\" AllocInd=\"2\" CustCpcty=\"2\"><Pty ID=\"210\" R=\"1\"/><Alloc Qty=\"30.0\" CustCpcty=\"2\" IndAllocID=\"1171378091562369024@BTNL>31061005510FS@20231106||ad145\"><Pty ID=\"bl_ac\" R=\"24\"><Sub ID=\"2\" Typ=\"26\"/></Pty></Alloc><Alloc Qty=\"20.0\" CustCpcty=\"3\" IndAllocID=\"1171378091562369024@BTNL>31061005510FS@20231106||cbp87\"><Pty ID=\"ts_lm\" R=\"24\"><Sub ID=\"2\" Typ=\"26\"/></Pty></Alloc></RptSide></TrdCaptRpt>\"\"\""
      ],
      "metadata": {
        "id": "aOynxsv9-pzd"
      },
      "execution_count": null,
      "outputs": []
    },
    {
      "cell_type": "code",
      "source": [
        "cleaned_sgw_op4=clean_sequence(sgw_op4)"
      ],
      "metadata": {
        "id": "zLKiY-Dw_EL4"
      },
      "execution_count": null,
      "outputs": []
    },
    {
      "cell_type": "code",
      "source": [
        "sgw_op4"
      ],
      "metadata": {
        "colab": {
          "base_uri": "https://localhost:8080/",
          "height": 88
        },
        "id": "KrH93jbs_OVK",
        "outputId": "27439001-c885-4273-f023-474f7c75c56d"
      },
      "execution_count": null,
      "outputs": [
        {
          "output_type": "execute_result",
          "data": {
            "text/plain": [
              "'<TrdCaptRpt RptID=\"31061005510\" TrdDt=\"2023-11-06\" BizDt=\"2023-11-06\" TxnTm=\"2023-11-07T03:14:25.528-06:00\" TrdID=\"31061005510\" TransTyp=\"2\" RptTyp=\"0\" LastQty=\"50.0\" LastPx=\"500.0\"><Hdr Snt=\"2023-11-07T10:18:20.194+01:00\" TID=\"MGEX\" SID=\"D210\"/><Instrmt Exch=\"BTNL\" ID=\"BUI\" MMY=\"202312\" CFI=\"FXXXXX\"/><RptSide Side=\"2\" AllocInd=\"2\" CustCpcty=\"2\"><Pty ID=\"210\" R=\"1\"/><Alloc Qty=\"30.0\" CustCpcty=\"2\" IndAllocID=\"1171378091562369024@BTNL>31061005510FS@20231106||ad145\"><Pty ID=\"bl_ac\" R=\"24\"><Sub ID=\"2\" Typ=\"26\"/></Pty></Alloc><Alloc Qty=\"20.0\" CustCpcty=\"3\" IndAllocID=\"1171378091562369024@BTNL>31061005510FS@20231106||cbp87\"><Pty ID=\"ts_lm\" R=\"24\"><Sub ID=\"2\" Typ=\"26\"/></Pty></Alloc></RptSide></TrdCaptRpt>'"
            ],
            "application/vnd.google.colaboratory.intrinsic+json": {
              "type": "string"
            }
          },
          "metadata": {},
          "execution_count": 229
        }
      ]
    },
    {
      "cell_type": "code",
      "source": [
        "cleaned_sgw_op4"
      ],
      "metadata": {
        "colab": {
          "base_uri": "https://localhost:8080/",
          "height": 88
        },
        "id": "GT7J8zpy_EIA",
        "outputId": "7a9ba9f6-5594-45ae-8987-f76b71704de4"
      },
      "execution_count": null,
      "outputs": [
        {
          "output_type": "execute_result",
          "data": {
            "text/plain": [
              "'TrdCaptRpt RptID=31061005510 TrdDt=2023-11-06 BizDt=2023-11-06 TxnTm=2023-11-07T03:14:25.528-06:00 TrdID=31061005510 TransTyp=2 RptTyp=0 LastQty=50.0 LastPx=500.0 Hdr Snt=2023-11-07T10:18:20.194+01:00 TID=MGEX SID=D210 Instrmt Exch=BTNL ID=BUI MMY=202312 CFI=FXXXXX RptSide Side=2 AllocInd=2 CustCpcty=2 Pty ID=210 R=1 Alloc Qty=30.0 CustCpcty=2 IndAllocID=1171378091562369024@BTNL 31061005510FS@20231106||ad145 Pty ID=bl_ac R=24 Sub ID=2 Typ=26 Pty Alloc Alloc Qty=20.0 CustCpcty=3 IndAllocID=1171378091562369024@BTNL 31061005510FS@20231106||cbp87 Pty ID=ts_lm R=24 Sub ID=2 Typ=26 Pty Alloc RptSide TrdCaptRpt '"
            ],
            "application/vnd.google.colaboratory.intrinsic+json": {
              "type": "string"
            }
          },
          "metadata": {},
          "execution_count": 230
        }
      ]
    },
    {
      "cell_type": "code",
      "source": [
        "predict(cleaned_sgw_op4)"
      ],
      "metadata": {
        "colab": {
          "base_uri": "https://localhost:8080/",
          "height": 36
        },
        "id": "6eULUSY2_NU8",
        "outputId": "c45142f3-9f30-4a9c-e9c2-d56039659c3e"
      },
      "execution_count": null,
      "outputs": [
        {
          "output_type": "execute_result",
          "data": {
            "text/plain": [
              "'Split On Two Accounts'"
            ],
            "application/vnd.google.colaboratory.intrinsic+json": {
              "type": "string"
            }
          },
          "metadata": {},
          "execution_count": 231
        }
      ]
    },
    {
      "cell_type": "code",
      "source": [
        "sgw_op5 = \"\"\"<TrdCaptRpt RptID=\"30061005514\" TrdDt=\"2023-11-06\" BizDt=\"2023-11-06\" TxnTm=\"2023-11-07T03:14:25.528-06:00\" TrdID=\"30061005514\" TransTyp=\"2\" RptTyp=\"0\" LastQty=\"13.0\" LastPx=\"211.0\"><Hdr Snt=\"2023-11-07T10:18:20.194+01:00\" TID=\"MGEX\" SID=\"D210\"/><Instrmt Exch=\"BTNL\" ID=\"BUI\" MMY=\"202312\" CFI=\"FXXXXX\"/><RptSide Side=\"2\" AllocInd=\"2\" CustCpcty=\"4\"><Pty ID=\"210\" R=\"1\"/><Alloc Qty=\"4.0\" CustCpcty=\"4\" IndAllocID=\"1171378091562369024@BTNL>30061005514FS@20231106||bd135\"><Pty ID=\"us-1\" R=\"24\"><Sub ID=\"2\" Typ=\"26\"/></Pty></Alloc><Alloc Qty=\"6.0\" CustCpcty=\"2\" IndAllocID=\"1171378091562369024@BTNL>30061005514FS@20231106||blo98\"><Pty ID=\"us-2\" R=\"24\"><Sub ID=\"2\" Typ=\"26\"/></Pty></Alloc><Alloc Qty=\"3.0\" CustCpcty=\"2\" IndAllocID=\"1171378091562369024@BTNL>30061005514FS@20231106||c3400\"><Pty ID=\"5tlpo\" R=\"24\"><Sub ID=\"2\" Typ=\"26\"/></Pty></Alloc></RptSide>\"\"\""
      ],
      "metadata": {
        "id": "tp1iNk7y_930"
      },
      "execution_count": null,
      "outputs": []
    },
    {
      "cell_type": "code",
      "source": [
        "cleaned_sgw_op5=clean_sequence(sgw_op5)"
      ],
      "metadata": {
        "id": "GUCVqJ45ASm4"
      },
      "execution_count": null,
      "outputs": []
    },
    {
      "cell_type": "code",
      "source": [
        "sgw_op5"
      ],
      "metadata": {
        "colab": {
          "base_uri": "https://localhost:8080/",
          "height": 105
        },
        "id": "sYoc3k_uAelN",
        "outputId": "de0026fd-a4ee-4a03-f800-c356e7e788ac"
      },
      "execution_count": null,
      "outputs": [
        {
          "output_type": "execute_result",
          "data": {
            "text/plain": [
              "'<TrdCaptRpt RptID=\"30061005514\" TrdDt=\"2023-11-06\" BizDt=\"2023-11-06\" TxnTm=\"2023-11-07T03:14:25.528-06:00\" TrdID=\"30061005514\" TransTyp=\"2\" RptTyp=\"0\" LastQty=\"13.0\" LastPx=\"211.0\"><Hdr Snt=\"2023-11-07T10:18:20.194+01:00\" TID=\"MGEX\" SID=\"D210\"/><Instrmt Exch=\"BTNL\" ID=\"BUI\" MMY=\"202312\" CFI=\"FXXXXX\"/><RptSide Side=\"2\" AllocInd=\"2\" CustCpcty=\"4\"><Pty ID=\"210\" R=\"1\"/><Alloc Qty=\"4.0\" CustCpcty=\"4\" IndAllocID=\"1171378091562369024@BTNL>30061005514FS@20231106||bd135\"><Pty ID=\"us-1\" R=\"24\"><Sub ID=\"2\" Typ=\"26\"/></Pty></Alloc><Alloc Qty=\"6.0\" CustCpcty=\"2\" IndAllocID=\"1171378091562369024@BTNL>30061005514FS@20231106||blo98\"><Pty ID=\"us-2\" R=\"24\"><Sub ID=\"2\" Typ=\"26\"/></Pty></Alloc><Alloc Qty=\"3.0\" CustCpcty=\"2\" IndAllocID=\"1171378091562369024@BTNL>30061005514FS@20231106||c3400\"><Pty ID=\"5tlpo\" R=\"24\"><Sub ID=\"2\" Typ=\"26\"/></Pty></Alloc></RptSide>'"
            ],
            "application/vnd.google.colaboratory.intrinsic+json": {
              "type": "string"
            }
          },
          "metadata": {},
          "execution_count": 234
        }
      ]
    },
    {
      "cell_type": "code",
      "source": [
        "cleaned_sgw_op5"
      ],
      "metadata": {
        "colab": {
          "base_uri": "https://localhost:8080/",
          "height": 105
        },
        "id": "0xGJfIi2Ag_t",
        "outputId": "098306b4-917b-470b-c313-5ff4b25cb489"
      },
      "execution_count": null,
      "outputs": [
        {
          "output_type": "execute_result",
          "data": {
            "text/plain": [
              "'TrdCaptRpt RptID=30061005514 TrdDt=2023-11-06 BizDt=2023-11-06 TxnTm=2023-11-07T03:14:25.528-06:00 TrdID=30061005514 TransTyp=2 RptTyp=0 LastQty=13.0 LastPx=211.0 Hdr Snt=2023-11-07T10:18:20.194+01:00 TID=MGEX SID=D210 Instrmt Exch=BTNL ID=BUI MMY=202312 CFI=FXXXXX RptSide Side=2 AllocInd=2 CustCpcty=4 Pty ID=210 R=1 Alloc Qty=4.0 CustCpcty=4 IndAllocID=1171378091562369024@BTNL 30061005514FS@20231106||bd135 Pty ID=us-1 R=24 Sub ID=2 Typ=26 Pty Alloc Alloc Qty=6.0 CustCpcty=2 IndAllocID=1171378091562369024@BTNL 30061005514FS@20231106||blo98 Pty ID=us-2 R=24 Sub ID=2 Typ=26 Pty Alloc Alloc Qty=3.0 CustCpcty=2 IndAllocID=1171378091562369024@BTNL 30061005514FS@20231106||c3400 Pty ID=5tlpo R=24 Sub ID=2 Typ=26 Pty Alloc RptSide '"
            ],
            "application/vnd.google.colaboratory.intrinsic+json": {
              "type": "string"
            }
          },
          "metadata": {},
          "execution_count": 235
        }
      ]
    },
    {
      "cell_type": "code",
      "source": [
        "predict(cleaned_sgw_op5)"
      ],
      "metadata": {
        "colab": {
          "base_uri": "https://localhost:8080/",
          "height": 36
        },
        "id": "bO9re-7AAWNH",
        "outputId": "d9480f70-624f-4c1e-d620-184eb862ffbc"
      },
      "execution_count": null,
      "outputs": [
        {
          "output_type": "execute_result",
          "data": {
            "text/plain": [
              "'Split On Three Accounts'"
            ],
            "application/vnd.google.colaboratory.intrinsic+json": {
              "type": "string"
            }
          },
          "metadata": {},
          "execution_count": 236
        }
      ]
    },
    {
      "cell_type": "code",
      "source": [
        "sgw_op6 = \"\"\"<TrdCaptRpt RptID=\"30061005514\" TrdDt=\"2023-11-06\" BizDt=\"2023-11-06\" TxnTm=\"2023-11-07T03:14:25.528-06:00\" TrdID=\"30061005514\" TransTyp=\"2\" RptTyp=\"0\" LastQty=\"17.0\" LastPx=\"211.0\"><Hdr Snt=\"2023-11-07T10:18:20.194+01:00\" TID=\"MGEX\" SID=\"D210\"/><Instrmt Exch=\"BTNL\" ID=\"BUI\" MMY=\"202312\" CFI=\"FXXXXX\"/><RptSide Side=\"2\" AllocInd=\"2\" CustCpcty=\"4\"><Pty ID=\"210\" R=\"1\"/><Alloc Qty=\"4.0\" CustCpcty=\"4\" IndAllocID=\"1171378091562369024@BTNL>30061005514FS@20231106||5d135\"><Pty ID=\"FIRMACT1\" R=\"24\"><Sub ID=\"2\" Typ=\"26\"/></Pty></Alloc><Alloc Qty=\"6.0\" CustCpcty=\"2\" IndAllocID=\"1171378091562369024@BTNL>30061005514FS@20231106||c2537\"><Pty ID=\"6db3a\" R=\"24\"><Sub ID=\"2\" Typ=\"26\"/></Pty></Alloc><Alloc Qty=\"3.0\" CustCpcty=\"2\" IndAllocID=\"1171378091562369024@BTNL>30061005514FS@20231106||c3400\"><Pty ID=\"5tlpo\" R=\"24\"><Sub ID=\"2\" Typ=\"26\"/></Pty></Alloc><Alloc Qty=\"4.0\" CustCpcty=\"3\" IndAllocID=\"1171378091562369024@BTNL>30061005514FS@20231106||ploy8\"><Pty ID=\"nassim\" R=\"24\"><Sub ID=\"2\" Typ=\"26\"/></Pty></Alloc></RptSide>\"\"\""
      ],
      "metadata": {
        "id": "mk4TeiNOAdlG"
      },
      "execution_count": null,
      "outputs": []
    },
    {
      "cell_type": "code",
      "source": [
        "cleaned_sgw_op6=clean_sequence(sgw_op6)"
      ],
      "metadata": {
        "id": "nPAN-bKVBJd2"
      },
      "execution_count": null,
      "outputs": []
    },
    {
      "cell_type": "code",
      "source": [
        "sgw_op6"
      ],
      "metadata": {
        "colab": {
          "base_uri": "https://localhost:8080/",
          "height": 123
        },
        "id": "bQtWGQG9BRsl",
        "outputId": "882820cf-68bb-4de2-a8bd-6dc86d89124f"
      },
      "execution_count": null,
      "outputs": [
        {
          "output_type": "execute_result",
          "data": {
            "text/plain": [
              "'<TrdCaptRpt RptID=\"30061005514\" TrdDt=\"2023-11-06\" BizDt=\"2023-11-06\" TxnTm=\"2023-11-07T03:14:25.528-06:00\" TrdID=\"30061005514\" TransTyp=\"2\" RptTyp=\"0\" LastQty=\"17.0\" LastPx=\"211.0\"><Hdr Snt=\"2023-11-07T10:18:20.194+01:00\" TID=\"MGEX\" SID=\"D210\"/><Instrmt Exch=\"BTNL\" ID=\"BUI\" MMY=\"202312\" CFI=\"FXXXXX\"/><RptSide Side=\"2\" AllocInd=\"2\" CustCpcty=\"4\"><Pty ID=\"210\" R=\"1\"/><Alloc Qty=\"4.0\" CustCpcty=\"4\" IndAllocID=\"1171378091562369024@BTNL>30061005514FS@20231106||5d135\"><Pty ID=\"FIRMACT1\" R=\"24\"><Sub ID=\"2\" Typ=\"26\"/></Pty></Alloc><Alloc Qty=\"6.0\" CustCpcty=\"2\" IndAllocID=\"1171378091562369024@BTNL>30061005514FS@20231106||c2537\"><Pty ID=\"6db3a\" R=\"24\"><Sub ID=\"2\" Typ=\"26\"/></Pty></Alloc><Alloc Qty=\"3.0\" CustCpcty=\"2\" IndAllocID=\"1171378091562369024@BTNL>30061005514FS@20231106||c3400\"><Pty ID=\"5tlpo\" R=\"24\"><Sub ID=\"2\" Typ=\"26\"/></Pty></Alloc><Alloc Qty=\"4.0\" CustCpcty=\"3\" IndAllocID=\"1171378091562369024@BTNL>30061005514FS@20231106||ploy8\"><Pty ID=\"nassim\" R=\"24\"><Sub ID=\"2\" Typ=\"26\"/></Pty></Alloc></RptSide>'"
            ],
            "application/vnd.google.colaboratory.intrinsic+json": {
              "type": "string"
            }
          },
          "metadata": {},
          "execution_count": 216
        }
      ]
    },
    {
      "cell_type": "code",
      "source": [
        "cleaned_sgw_op6"
      ],
      "metadata": {
        "colab": {
          "base_uri": "https://localhost:8080/",
          "height": 105
        },
        "id": "-gzH4PelBUCq",
        "outputId": "97fb38dd-d642-4835-9478-1d7db6d5432b"
      },
      "execution_count": null,
      "outputs": [
        {
          "output_type": "execute_result",
          "data": {
            "text/plain": [
              "'TrdCaptRpt RptID=30061005514 TrdDt=2023-11-06 BizDt=2023-11-06 TxnTm=2023-11-07T03:14:25.528-06:00 TrdID=30061005514 TransTyp=2 RptTyp=0 LastQty=17.0 LastPx=211.0 Hdr Snt=2023-11-07T10:18:20.194+01:00 TID=MGEX SID=D210 Instrmt Exch=BTNL ID=BUI MMY=202312 CFI=FXXXXX RptSide Side=2 AllocInd=2 CustCpcty=4 Pty ID=210 R=1 Alloc Qty=4.0 CustCpcty=4 IndAllocID=1171378091562369024@BTNL 30061005514FS@20231106||5d135 Pty ID=FIRMACT1 R=24 Sub ID=2 Typ=26 Pty Alloc Alloc Qty=6.0 CustCpcty=2 IndAllocID=1171378091562369024@BTNL 30061005514FS@20231106||c2537 Pty ID=6db3a R=24 Sub ID=2 Typ=26 Pty Alloc Alloc Qty=3.0 CustCpcty=2 IndAllocID=1171378091562369024@BTNL 30061005514FS@20231106||c3400 Pty ID=5tlpo R=24 Sub ID=2 Typ=26 Pty Alloc Alloc Qty=4.0 CustCpcty=3 IndAllocID=1171378091562369024@BTNL 30061005514FS@20231106||ploy8 Pty ID=nassim R=24 Sub ID=2 Typ=26 Pty Alloc RptSide '"
            ],
            "application/vnd.google.colaboratory.intrinsic+json": {
              "type": "string"
            }
          },
          "metadata": {},
          "execution_count": 217
        }
      ]
    },
    {
      "cell_type": "code",
      "source": [
        "predict(cleaned_sgw_op6)"
      ],
      "metadata": {
        "colab": {
          "base_uri": "https://localhost:8080/",
          "height": 36
        },
        "id": "53L-r3anBNuW",
        "outputId": "1ba08951-4cca-42cd-eb27-c077cb05a6f3"
      },
      "execution_count": null,
      "outputs": [
        {
          "output_type": "execute_result",
          "data": {
            "text/plain": [
              "'Split On Four Accounts'"
            ],
            "application/vnd.google.colaboratory.intrinsic+json": {
              "type": "string"
            }
          },
          "metadata": {},
          "execution_count": 218
        }
      ]
    },
    {
      "cell_type": "markdown",
      "source": [
        "**Saving the pre-trained model to a specified directory**"
      ],
      "metadata": {
        "id": "15hZ3Oe1VCkK"
      }
    },
    {
      "cell_type": "code",
      "source": [
        "from google.colab import drive"
      ],
      "metadata": {
        "id": "NV7J5u9MDEgV"
      },
      "execution_count": null,
      "outputs": []
    },
    {
      "cell_type": "code",
      "source": [
        "drive.mount(\"/content/gdrive\")"
      ],
      "metadata": {
        "colab": {
          "base_uri": "https://localhost:8080/"
        },
        "id": "wyDDm8BrDKXy",
        "outputId": "28737c7b-aabc-4076-d9b3-e6743df418ed"
      },
      "execution_count": null,
      "outputs": [
        {
          "output_type": "stream",
          "name": "stdout",
          "text": [
            "Mounted at /content/gdrive\n"
          ]
        }
      ]
    },
    {
      "cell_type": "code",
      "source": [
        "model.save_pretrained(\"/content/gdrive/MyDrive/bertclass\")"
      ],
      "metadata": {
        "id": "wzVGqx-tDP8E"
      },
      "execution_count": null,
      "outputs": []
    }
  ]
}